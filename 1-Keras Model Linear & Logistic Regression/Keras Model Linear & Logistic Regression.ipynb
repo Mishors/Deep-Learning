{
  "nbformat": 4,
  "nbformat_minor": 0,
  "metadata": {
    "colab": {
      "name": "assignment1.ipynb",
      "version": "0.3.2",
      "provenance": [],
      "collapsed_sections": []
    },
    "kernelspec": {
      "name": "python3",
      "display_name": "Python 3"
    },
    "accelerator": "GPU"
  },
  "cells": [
    {
      "metadata": {
        "id": "D1R0WtqnFKE7",
        "colab_type": "text"
      },
      "cell_type": "markdown",
      "source": [
        "#Imports"
      ]
    },
    {
      "metadata": {
        "id": "HcBsSz37FPdu",
        "colab_type": "code",
        "outputId": "499b7803-534c-453d-cafe-92a260dd21e5",
        "colab": {
          "base_uri": "https://localhost:8080/",
          "height": 34
        }
      },
      "cell_type": "code",
      "source": [
        "import pandas as pd\n",
        "import numpy as np\n",
        "import seaborn as sns\n",
        "import matplotlib\n",
        "\n",
        "import matplotlib.pyplot as plt\n",
        "from scipy.stats import skew\n",
        "from scipy.stats.stats import pearsonr\n",
        "from keras.layers import Dense,Activation\n",
        "from keras.optimizers import SGD,RMSprop,Adam\n",
        "from keras.models import Sequential\n",
        "from keras.regularizers import l1\n",
        "from sklearn.preprocessing import StandardScaler\n",
        "from sklearn.model_selection import train_test_split\n",
        "\n",
        "\n",
        "%config InlineBackend.figure_format = 'png'\n",
        "%matplotlib inline\n"
      ],
      "execution_count": 0,
      "outputs": [
        {
          "output_type": "stream",
          "text": [
            "Using TensorFlow backend.\n"
          ],
          "name": "stderr"
        }
      ]
    },
    {
      "metadata": {
        "id": "IyP4PrHFEmye",
        "colab_type": "text"
      },
      "cell_type": "markdown",
      "source": [
        "# Mounting Google Drive\n"
      ]
    },
    {
      "metadata": {
        "id": "vi1PsEupzs1S",
        "colab_type": "code",
        "outputId": "db54d8d8-c53c-4924-d453-70cbaefd94e7",
        "colab": {
          "base_uri": "https://localhost:8080/",
          "height": 136
        }
      },
      "cell_type": "code",
      "source": [
        "# Install a Drive FUSE wrapper.\n",
        "\n",
        "# https://github.com/astrada/google-drive-ocamlfuse\n",
        "\n",
        "!apt-get install -y -qq software-properties-common python-software-properties module-init-tools\n",
        "\n",
        "!add-apt-repository -y ppa:alessandro-strada/ppa 2>&1 > /dev/null\n",
        "\n",
        "!apt-get update -qq 2>&1 > /dev/null\n",
        "\n",
        "!apt-get -y install -qq google-drive-ocamlfuse fuse"
      ],
      "execution_count": 0,
      "outputs": [
        {
          "output_type": "stream",
          "text": [
            "E: Package 'python-software-properties' has no installation candidate\n",
            "Selecting previously unselected package google-drive-ocamlfuse.\n",
            "(Reading database ... 131322 files and directories currently installed.)\n",
            "Preparing to unpack .../google-drive-ocamlfuse_0.7.1-0ubuntu3~ubuntu18.04.1_amd64.deb ...\n",
            "Unpacking google-drive-ocamlfuse (0.7.1-0ubuntu3~ubuntu18.04.1) ...\n",
            "Setting up google-drive-ocamlfuse (0.7.1-0ubuntu3~ubuntu18.04.1) ...\n",
            "Processing triggers for man-db (2.8.3-2ubuntu0.1) ...\n"
          ],
          "name": "stdout"
        }
      ]
    },
    {
      "metadata": {
        "id": "FvjLKLx35vxQ",
        "colab_type": "code",
        "colab": {}
      },
      "cell_type": "code",
      "source": [
        "# Generate auth tokens for Colab\n",
        "\n",
        "from google.colab import auth \n",
        "auth.authenticate_user()"
      ],
      "execution_count": 0,
      "outputs": []
    },
    {
      "metadata": {
        "id": "FwF7Il8i6Xz9",
        "colab_type": "code",
        "outputId": "a42a996b-dddd-42f2-b505-0266148fba41",
        "colab": {
          "base_uri": "https://localhost:8080/",
          "height": 105
        }
      },
      "cell_type": "code",
      "source": [
        "# Generate creds for the Drive FUSE library.\n",
        "\n",
        "from oauth2client.client import GoogleCredentials \n",
        "creds = GoogleCredentials.get_application_default()\n",
        "\n",
        "import getpass\n",
        "\n",
        "!google-drive-ocamlfuse -headless -id={creds.client_id} -secret={creds.client_secret} < /dev/null 2>&1 | grep URL\n",
        "\n",
        "vcode = getpass.getpass()\n",
        "\n",
        "!echo {vcode} | google-drive-ocamlfuse -headless -id={creds.client_id} -secret={creds.client_secret}"
      ],
      "execution_count": 0,
      "outputs": [
        {
          "output_type": "stream",
          "text": [
            "Please, open the following URL in a web browser: https://accounts.google.com/o/oauth2/auth?client_id=32555940559.apps.googleusercontent.com&redirect_uri=urn%3Aietf%3Awg%3Aoauth%3A2.0%3Aoob&scope=https%3A%2F%2Fwww.googleapis.com%2Fauth%2Fdrive&response_type=code&access_type=offline&approval_prompt=force\n",
            "··········\n",
            "Please, open the following URL in a web browser: https://accounts.google.com/o/oauth2/auth?client_id=32555940559.apps.googleusercontent.com&redirect_uri=urn%3Aietf%3Awg%3Aoauth%3A2.0%3Aoob&scope=https%3A%2F%2Fwww.googleapis.com%2Fauth%2Fdrive&response_type=code&access_type=offline&approval_prompt=force\n",
            "Please enter the verification code: Access token retrieved correctly.\n"
          ],
          "name": "stdout"
        }
      ]
    },
    {
      "metadata": {
        "id": "oyMLocjtA10k",
        "colab_type": "code",
        "colab": {}
      },
      "cell_type": "code",
      "source": [
        "# Create a directory and mount Google Drive using that directory.\n",
        "\n",
        "\n",
        "!mkdir -p drive\n",
        "\n",
        "!google-drive-ocamlfuse drive "
      ],
      "execution_count": 0,
      "outputs": []
    },
    {
      "metadata": {
        "id": "BGeZVDrvFl4j",
        "colab_type": "text"
      },
      "cell_type": "markdown",
      "source": [
        "#Linear Regression\n",
        "##Reading Data"
      ]
    },
    {
      "metadata": {
        "id": "e14ezUVg2tT2",
        "colab_type": "code",
        "colab": {}
      },
      "cell_type": "code",
      "source": [
        "#Reading training data\n",
        "train = pd.read_csv(\"drive/DL_labs/Lab_1/housing_train.csv\")\n",
        "#Reading testing data\n",
        "test = pd.read_csv(\"drive/DL_labs/Lab_1/housing_test.csv\")"
      ],
      "execution_count": 0,
      "outputs": []
    },
    {
      "metadata": {
        "id": "mqoR9sxNV2iH",
        "colab_type": "code",
        "outputId": "5b189ff8-a548-44e6-d39d-7d37ca63c4e9",
        "colab": {
          "base_uri": "https://localhost:8080/",
          "height": 34
        }
      },
      "cell_type": "code",
      "source": [
        "train.shape"
      ],
      "execution_count": 0,
      "outputs": [
        {
          "output_type": "execute_result",
          "data": {
            "text/plain": [
              "(1460, 81)"
            ]
          },
          "metadata": {
            "tags": []
          },
          "execution_count": 8
        }
      ]
    },
    {
      "metadata": {
        "id": "UygZUC8rIMuy",
        "colab_type": "text"
      },
      "cell_type": "markdown",
      "source": [
        "#Data Cleaning"
      ]
    },
    {
      "metadata": {
        "id": "WmlXWM_tIEq8",
        "colab_type": "code",
        "outputId": "2c14f7c4-1c6a-4649-bc89-d347e680bf1d",
        "colab": {
          "base_uri": "https://localhost:8080/",
          "height": 156
        }
      },
      "cell_type": "code",
      "source": [
        "train['LotAreaSquare'] = train['LotArea']**2\n",
        "test['LotAreaSquare'] = test['LotArea']**2\n",
        "train['GarageAreaSquare'] = train['GarageArea']**2\n",
        "test['GarageAreaSquare'] = test['GarageArea']**2\n",
        "#all_data = pd.concat((train.loc[:,'MSSubClass':'SaleCondition'],test.loc[:,'MSSubClass':'SaleCondition']))\n",
        "#all_data = pd.concat((train.loc[:,'MSSubClass':'LotAreaSquare'],test.loc[:,'MSSubClass':'LotAreaSquare']))\n",
        "all_data = pd.concat((train.loc[:,'MSSubClass':'GarageAreaSquare'],test.loc[:,'MSSubClass':'GarageAreaSquare']))\n",
        "all_data = all_data.drop(columns=['SaleCondition'])\n",
        "all_data = all_data.drop(columns=['LotArea'])\n",
        "all_data = all_data.drop(columns=['GarageArea'])\n",
        "\n",
        "print(all_data.shape)\n",
        "\n",
        "train[\"SalePrice\"] = np.log1p(train[\"SalePrice\"])\n",
        "\n",
        "numeric_feats = all_data.dtypes[all_data.dtypes != \"object\"].index\n",
        "skewed_feats = train[numeric_feats].apply(lambda x: skew(x.dropna())) #compute skewness\n",
        "skewed_feats = skewed_feats[skewed_feats > 0.75]\n",
        "skewed_feats = skewed_feats.index\n",
        "\n",
        "\n",
        "\n",
        "all_data[skewed_feats] = np.log1p(all_data[skewed_feats])\n",
        "\n",
        "\n",
        "\n",
        "all_data = pd.get_dummies(all_data)\n",
        "\n",
        "\n",
        "\n",
        "all_data = all_data.fillna(all_data.mean())\n",
        "\n",
        "\n",
        "X_train = all_data[:train.shape[0]]\n",
        "X_test = all_data[train.shape[0]:]\n",
        "y = train.SalePrice\n",
        "\n",
        "\n",
        "\n",
        "X_train = StandardScaler().fit_transform(X_train)\n",
        "\n",
        "X_tr, X_val, y_tr, y_val = train_test_split(X_train, y, random_state = 3)\n",
        "print(X_tr.shape)\n",
        "print(X_val.shape)"
      ],
      "execution_count": 65,
      "outputs": [
        {
          "output_type": "stream",
          "text": [
            "(2919, 79)\n",
            "(1095, 283)\n",
            "(365, 283)\n"
          ],
          "name": "stdout"
        },
        {
          "output_type": "stream",
          "text": [
            "/usr/local/lib/python3.6/dist-packages/sklearn/preprocessing/data.py:645: DataConversionWarning: Data with input dtype uint8, int64, float64 were all converted to float64 by StandardScaler.\n",
            "  return self.partial_fit(X, y)\n",
            "/usr/local/lib/python3.6/dist-packages/sklearn/base.py:464: DataConversionWarning: Data with input dtype uint8, int64, float64 were all converted to float64 by StandardScaler.\n",
            "  return self.fit(X, **fit_params).transform(X)\n"
          ],
          "name": "stderr"
        }
      ]
    },
    {
      "metadata": {
        "id": "6_yEIEfELEp-",
        "colab_type": "text"
      },
      "cell_type": "markdown",
      "source": [
        "#Building the Model"
      ]
    },
    {
      "metadata": {
        "id": "KLa595EQLxRj",
        "colab_type": "code",
        "colab": {}
      },
      "cell_type": "code",
      "source": [
        "model = Sequential()\n",
        "output_dimension = 1\n",
        "input_dimension = 283 #After applying dummy variables trick to convert from categorical to numerical attributes\n",
        "dense_layer = Dense(output_dimension, input_dim = input_dimension)\n",
        "activation_layer = Activation('linear')\n",
        "model.add(dense_layer)\n",
        "model.add(activation_layer)\n",
        "learning_rate = 0.01\n",
        "momentum = 0.001\n",
        "optimizer = SGD(lr=learning_rate, momentum= momentum, )"
      ],
      "execution_count": 0,
      "outputs": []
    },
    {
      "metadata": {
        "id": "ZD4zceAxKTri",
        "colab_type": "text"
      },
      "cell_type": "markdown",
      "source": [
        "#Model Compilation"
      ]
    },
    {
      "metadata": {
        "id": "KGR3Svf9IzTb",
        "colab_type": "code",
        "outputId": "5c2cc90e-5a77-4b63-ee9b-cb192bff2cac",
        "colab": {
          "base_uri": "https://localhost:8080/",
          "height": 204
        }
      },
      "cell_type": "code",
      "source": [
        "model.compile(loss = \"mse\", optimizer = optimizer)\n",
        "model.summary()"
      ],
      "execution_count": 0,
      "outputs": [
        {
          "output_type": "stream",
          "text": [
            "_________________________________________________________________\n",
            "Layer (type)                 Output Shape              Param #   \n",
            "=================================================================\n",
            "dense_14 (Dense)             (None, 1)                 284       \n",
            "_________________________________________________________________\n",
            "activation_14 (Activation)   (None, 1)                 0         \n",
            "=================================================================\n",
            "Total params: 284\n",
            "Trainable params: 284\n",
            "Non-trainable params: 0\n",
            "_________________________________________________________________\n"
          ],
          "name": "stdout"
        }
      ]
    },
    {
      "metadata": {
        "id": "iN4YofniL15D",
        "colab_type": "text"
      },
      "cell_type": "markdown",
      "source": [
        "#Model Fitting & Prediction"
      ]
    },
    {
      "metadata": {
        "id": "uBnZfTw1L8Y7",
        "colab_type": "code",
        "outputId": "73861f7c-c075-4115-e2f8-e7164627a5e1",
        "colab": {
          "base_uri": "https://localhost:8080/",
          "height": 5399
        }
      },
      "cell_type": "code",
      "source": [
        "#Fitting the model\n",
        "\n",
        "from keras.callbacks import EarlyStopping\n",
        "\n",
        "es = EarlyStopping(monitor='val_loss', mode='min')\n",
        "hist = model.fit(X_tr, y_tr, validation_data = (X_val, y_val), epochs = 150 )\n",
        "plt.plot(hist.history['loss'])\n",
        "plt.plot(hist.history['val_loss'])\n"
      ],
      "execution_count": 0,
      "outputs": [
        {
          "output_type": "stream",
          "text": [
            "Train on 1095 samples, validate on 365 samples\n",
            "Epoch 1/150\n",
            "1095/1095 [==============================] - 1s 600us/step - loss: 89.8659 - val_loss: 54.8676\n",
            "Epoch 2/150\n",
            "1095/1095 [==============================] - 0s 107us/step - loss: 21.0051 - val_loss: 24.1387\n",
            "Epoch 3/150\n",
            "1095/1095 [==============================] - 0s 99us/step - loss: 5.7907 - val_loss: 15.6203\n",
            "Epoch 4/150\n",
            "1095/1095 [==============================] - 0s 117us/step - loss: 1.9225 - val_loss: 12.5816\n",
            "Epoch 5/150\n",
            "1095/1095 [==============================] - 0s 86us/step - loss: 0.9741 - val_loss: 11.1289\n",
            "Epoch 6/150\n",
            "1095/1095 [==============================] - 0s 84us/step - loss: 0.6352 - val_loss: 10.2134\n",
            "Epoch 7/150\n",
            "1095/1095 [==============================] - 0s 90us/step - loss: 0.5503 - val_loss: 9.7422\n",
            "Epoch 8/150\n",
            "1095/1095 [==============================] - 0s 85us/step - loss: 0.4030 - val_loss: 9.4200\n",
            "Epoch 9/150\n",
            "1095/1095 [==============================] - 0s 91us/step - loss: 0.3643 - val_loss: 9.4069\n",
            "Epoch 10/150\n",
            "1095/1095 [==============================] - 0s 84us/step - loss: 0.3377 - val_loss: 9.0780\n",
            "Epoch 11/150\n",
            "1095/1095 [==============================] - 0s 87us/step - loss: 0.2733 - val_loss: 9.0706\n",
            "Epoch 12/150\n",
            "1095/1095 [==============================] - 0s 86us/step - loss: 0.2470 - val_loss: 8.9246\n",
            "Epoch 13/150\n",
            "1095/1095 [==============================] - 0s 87us/step - loss: 0.2220 - val_loss: 8.8872\n",
            "Epoch 14/150\n",
            "1095/1095 [==============================] - 0s 98us/step - loss: 0.1951 - val_loss: 8.7669\n",
            "Epoch 15/150\n",
            "1095/1095 [==============================] - 0s 104us/step - loss: 0.1739 - val_loss: 8.7848\n",
            "Epoch 16/150\n",
            "1095/1095 [==============================] - 0s 99us/step - loss: 0.1616 - val_loss: 8.6531\n",
            "Epoch 17/150\n",
            "1095/1095 [==============================] - 0s 98us/step - loss: 0.1508 - val_loss: 8.6701\n",
            "Epoch 18/150\n",
            "1095/1095 [==============================] - 0s 95us/step - loss: 0.1300 - val_loss: 8.6053\n",
            "Epoch 19/150\n",
            "1095/1095 [==============================] - 0s 96us/step - loss: 0.1244 - val_loss: 8.6047\n",
            "Epoch 20/150\n",
            "1095/1095 [==============================] - 0s 98us/step - loss: 0.1199 - val_loss: 8.5674\n",
            "Epoch 21/150\n",
            "1095/1095 [==============================] - 0s 97us/step - loss: 0.1012 - val_loss: 8.6040\n",
            "Epoch 22/150\n",
            "1095/1095 [==============================] - 0s 101us/step - loss: 0.0987 - val_loss: 8.5620\n",
            "Epoch 23/150\n",
            "1095/1095 [==============================] - 0s 101us/step - loss: 0.0959 - val_loss: 8.5753\n",
            "Epoch 24/150\n",
            "1095/1095 [==============================] - 0s 101us/step - loss: 0.0827 - val_loss: 8.5055\n",
            "Epoch 25/150\n",
            "1095/1095 [==============================] - 0s 97us/step - loss: 0.0772 - val_loss: 8.5586\n",
            "Epoch 26/150\n",
            "1095/1095 [==============================] - 0s 97us/step - loss: 0.0698 - val_loss: 8.5291\n",
            "Epoch 27/150\n",
            "1095/1095 [==============================] - 0s 96us/step - loss: 0.0621 - val_loss: 8.5073\n",
            "Epoch 28/150\n",
            "1095/1095 [==============================] - 0s 95us/step - loss: 0.0581 - val_loss: 8.4925\n",
            "Epoch 29/150\n",
            "1095/1095 [==============================] - 0s 100us/step - loss: 0.0503 - val_loss: 8.5402\n",
            "Epoch 30/150\n",
            "1095/1095 [==============================] - 0s 98us/step - loss: 0.0470 - val_loss: 8.4743\n",
            "Epoch 31/150\n",
            "1095/1095 [==============================] - 0s 97us/step - loss: 0.0460 - val_loss: 8.4976\n",
            "Epoch 32/150\n",
            "1095/1095 [==============================] - 0s 96us/step - loss: 0.0406 - val_loss: 8.4752\n",
            "Epoch 33/150\n",
            "1095/1095 [==============================] - 0s 108us/step - loss: 0.0365 - val_loss: 8.5011\n",
            "Epoch 34/150\n",
            "1095/1095 [==============================] - 0s 98us/step - loss: 0.0347 - val_loss: 8.4775\n",
            "Epoch 35/150\n",
            "1095/1095 [==============================] - 0s 94us/step - loss: 0.0328 - val_loss: 8.4716\n",
            "Epoch 36/150\n",
            "1095/1095 [==============================] - 0s 98us/step - loss: 0.0313 - val_loss: 8.4748\n",
            "Epoch 37/150\n",
            "1095/1095 [==============================] - 0s 97us/step - loss: 0.0308 - val_loss: 8.4831\n",
            "Epoch 38/150\n",
            "1095/1095 [==============================] - 0s 94us/step - loss: 0.0278 - val_loss: 8.4618\n",
            "Epoch 39/150\n",
            "1095/1095 [==============================] - 0s 96us/step - loss: 0.0244 - val_loss: 8.4626\n",
            "Epoch 40/150\n",
            "1095/1095 [==============================] - 0s 97us/step - loss: 0.0237 - val_loss: 8.4746\n",
            "Epoch 41/150\n",
            "1095/1095 [==============================] - 0s 94us/step - loss: 0.0227 - val_loss: 8.4687\n",
            "Epoch 42/150\n",
            "1095/1095 [==============================] - 0s 109us/step - loss: 0.0219 - val_loss: 8.4594\n",
            "Epoch 43/150\n",
            "1095/1095 [==============================] - 0s 99us/step - loss: 0.0197 - val_loss: 8.4517\n",
            "Epoch 44/150\n",
            "1095/1095 [==============================] - 0s 98us/step - loss: 0.0193 - val_loss: 8.4629\n",
            "Epoch 45/150\n",
            "1095/1095 [==============================] - 0s 100us/step - loss: 0.0186 - val_loss: 8.4721\n",
            "Epoch 46/150\n",
            "1095/1095 [==============================] - 0s 99us/step - loss: 0.0176 - val_loss: 8.4505\n",
            "Epoch 47/150\n",
            "1095/1095 [==============================] - 0s 102us/step - loss: 0.0170 - val_loss: 8.4705\n",
            "Epoch 48/150\n",
            "1095/1095 [==============================] - 0s 96us/step - loss: 0.0148 - val_loss: 8.4693\n",
            "Epoch 49/150\n",
            "1095/1095 [==============================] - 0s 99us/step - loss: 0.0140 - val_loss: 8.4827\n",
            "Epoch 50/150\n",
            "1095/1095 [==============================] - 0s 97us/step - loss: 0.0136 - val_loss: 8.4595\n",
            "Epoch 51/150\n",
            "1095/1095 [==============================] - 0s 98us/step - loss: 0.0127 - val_loss: 8.4697\n",
            "Epoch 52/150\n",
            "1095/1095 [==============================] - 0s 110us/step - loss: 0.0115 - val_loss: 8.4738\n",
            "Epoch 53/150\n",
            "1095/1095 [==============================] - 0s 96us/step - loss: 0.0110 - val_loss: 8.4872\n",
            "Epoch 54/150\n",
            "1095/1095 [==============================] - 0s 99us/step - loss: 0.0107 - val_loss: 8.4537\n",
            "Epoch 55/150\n",
            "1095/1095 [==============================] - 0s 99us/step - loss: 0.0103 - val_loss: 8.4780\n",
            "Epoch 56/150\n",
            "1095/1095 [==============================] - 0s 99us/step - loss: 0.0093 - val_loss: 8.4486\n",
            "Epoch 57/150\n",
            "1095/1095 [==============================] - 0s 98us/step - loss: 0.0095 - val_loss: 8.4761\n",
            "Epoch 58/150\n",
            "1095/1095 [==============================] - 0s 99us/step - loss: 0.0096 - val_loss: 8.4613\n",
            "Epoch 59/150\n",
            "1095/1095 [==============================] - 0s 96us/step - loss: 0.0088 - val_loss: 8.4650\n",
            "Epoch 60/150\n",
            "1095/1095 [==============================] - 0s 95us/step - loss: 0.0082 - val_loss: 8.4738\n",
            "Epoch 61/150\n",
            "1095/1095 [==============================] - 0s 109us/step - loss: 0.0081 - val_loss: 8.4685\n",
            "Epoch 62/150\n",
            "1095/1095 [==============================] - 0s 96us/step - loss: 0.0078 - val_loss: 8.4578\n",
            "Epoch 63/150\n",
            "1095/1095 [==============================] - 0s 99us/step - loss: 0.0076 - val_loss: 8.4455\n",
            "Epoch 64/150\n",
            "1095/1095 [==============================] - 0s 94us/step - loss: 0.0080 - val_loss: 8.4606\n",
            "Epoch 65/150\n",
            "1095/1095 [==============================] - 0s 97us/step - loss: 0.0070 - val_loss: 8.4535\n",
            "Epoch 66/150\n",
            "1095/1095 [==============================] - 0s 95us/step - loss: 0.0066 - val_loss: 8.4492\n",
            "Epoch 67/150\n",
            "1095/1095 [==============================] - 0s 98us/step - loss: 0.0064 - val_loss: 8.4555\n",
            "Epoch 68/150\n",
            "1095/1095 [==============================] - 0s 99us/step - loss: 0.0063 - val_loss: 8.4505\n",
            "Epoch 69/150\n",
            "1095/1095 [==============================] - 0s 96us/step - loss: 0.0062 - val_loss: 8.4703\n",
            "Epoch 70/150\n",
            "1095/1095 [==============================] - 0s 111us/step - loss: 0.0060 - val_loss: 8.4770\n",
            "Epoch 71/150\n",
            "1095/1095 [==============================] - 0s 97us/step - loss: 0.0058 - val_loss: 8.4558\n",
            "Epoch 72/150\n",
            "1095/1095 [==============================] - 0s 101us/step - loss: 0.0057 - val_loss: 8.4570\n",
            "Epoch 73/150\n",
            "1095/1095 [==============================] - 0s 94us/step - loss: 0.0057 - val_loss: 8.4579\n",
            "Epoch 74/150\n",
            "1095/1095 [==============================] - 0s 103us/step - loss: 0.0057 - val_loss: 8.4682\n",
            "Epoch 75/150\n",
            "1095/1095 [==============================] - 0s 103us/step - loss: 0.0054 - val_loss: 8.4549\n",
            "Epoch 76/150\n",
            "1095/1095 [==============================] - 0s 104us/step - loss: 0.0057 - val_loss: 8.4671\n",
            "Epoch 77/150\n",
            "1095/1095 [==============================] - 0s 103us/step - loss: 0.0054 - val_loss: 8.4624\n",
            "Epoch 78/150\n",
            "1095/1095 [==============================] - 0s 103us/step - loss: 0.0052 - val_loss: 8.4476\n",
            "Epoch 79/150\n",
            "1095/1095 [==============================] - 0s 110us/step - loss: 0.0052 - val_loss: 8.5147\n",
            "Epoch 80/150\n",
            "1095/1095 [==============================] - 0s 96us/step - loss: 0.0060 - val_loss: 8.4430\n",
            "Epoch 81/150\n",
            "1095/1095 [==============================] - 0s 97us/step - loss: 0.0051 - val_loss: 8.4582\n",
            "Epoch 82/150\n",
            "1095/1095 [==============================] - 0s 97us/step - loss: 0.0054 - val_loss: 8.4618\n",
            "Epoch 83/150\n",
            "1095/1095 [==============================] - 0s 98us/step - loss: 0.0051 - val_loss: 8.4668\n",
            "Epoch 84/150\n",
            "1095/1095 [==============================] - 0s 99us/step - loss: 0.0050 - val_loss: 8.4640\n",
            "Epoch 85/150\n",
            "1095/1095 [==============================] - 0s 98us/step - loss: 0.0050 - val_loss: 8.4582\n",
            "Epoch 86/150\n",
            "1095/1095 [==============================] - 0s 96us/step - loss: 0.0049 - val_loss: 8.4685\n",
            "Epoch 87/150\n",
            "1095/1095 [==============================] - 0s 99us/step - loss: 0.0049 - val_loss: 8.4724\n",
            "Epoch 88/150\n",
            "1095/1095 [==============================] - 0s 109us/step - loss: 0.0049 - val_loss: 8.4562\n",
            "Epoch 89/150\n",
            "1095/1095 [==============================] - 0s 105us/step - loss: 0.0053 - val_loss: 8.4661\n",
            "Epoch 90/150\n",
            "1095/1095 [==============================] - 0s 103us/step - loss: 0.0049 - val_loss: 8.4549\n",
            "Epoch 91/150\n",
            "1095/1095 [==============================] - 0s 102us/step - loss: 0.0049 - val_loss: 8.4527\n",
            "Epoch 92/150\n",
            "1095/1095 [==============================] - 0s 105us/step - loss: 0.0048 - val_loss: 8.4456\n",
            "Epoch 93/150\n",
            "1095/1095 [==============================] - 0s 101us/step - loss: 0.0049 - val_loss: 8.4587\n",
            "Epoch 94/150\n",
            "1095/1095 [==============================] - 0s 102us/step - loss: 0.0048 - val_loss: 8.4343\n",
            "Epoch 95/150\n",
            "1095/1095 [==============================] - 0s 98us/step - loss: 0.0050 - val_loss: 8.4720\n",
            "Epoch 96/150\n",
            "1095/1095 [==============================] - 0s 103us/step - loss: 0.0048 - val_loss: 8.4637\n",
            "Epoch 97/150\n",
            "1095/1095 [==============================] - 0s 114us/step - loss: 0.0048 - val_loss: 8.4661\n",
            "Epoch 98/150\n",
            "1095/1095 [==============================] - 0s 99us/step - loss: 0.0047 - val_loss: 8.4466\n",
            "Epoch 99/150\n",
            "1095/1095 [==============================] - 0s 103us/step - loss: 0.0048 - val_loss: 8.4675\n",
            "Epoch 100/150\n",
            "1095/1095 [==============================] - 0s 100us/step - loss: 0.0048 - val_loss: 8.4651\n",
            "Epoch 101/150\n",
            "1095/1095 [==============================] - 0s 105us/step - loss: 0.0046 - val_loss: 8.4743\n",
            "Epoch 102/150\n",
            "1095/1095 [==============================] - 0s 98us/step - loss: 0.0047 - val_loss: 8.4778\n",
            "Epoch 103/150\n",
            "1095/1095 [==============================] - 0s 104us/step - loss: 0.0050 - val_loss: 8.4554\n",
            "Epoch 104/150\n",
            "1095/1095 [==============================] - 0s 99us/step - loss: 0.0047 - val_loss: 8.4553\n",
            "Epoch 105/150\n",
            "1095/1095 [==============================] - 0s 102us/step - loss: 0.0047 - val_loss: 8.4568\n",
            "Epoch 106/150\n",
            "1095/1095 [==============================] - 0s 98us/step - loss: 0.0046 - val_loss: 8.4478\n",
            "Epoch 107/150\n",
            "1095/1095 [==============================] - 0s 106us/step - loss: 0.0046 - val_loss: 8.4682\n",
            "Epoch 108/150\n",
            "1095/1095 [==============================] - 0s 101us/step - loss: 0.0047 - val_loss: 8.4743\n",
            "Epoch 109/150\n",
            "1095/1095 [==============================] - 0s 101us/step - loss: 0.0047 - val_loss: 8.4573\n",
            "Epoch 110/150\n",
            "1095/1095 [==============================] - 0s 106us/step - loss: 0.0047 - val_loss: 8.4436\n",
            "Epoch 111/150\n",
            "1095/1095 [==============================] - 0s 96us/step - loss: 0.0048 - val_loss: 8.4635\n",
            "Epoch 112/150\n",
            "1095/1095 [==============================] - 0s 100us/step - loss: 0.0047 - val_loss: 8.4413\n",
            "Epoch 113/150\n",
            "1095/1095 [==============================] - 0s 98us/step - loss: 0.0047 - val_loss: 8.4248\n",
            "Epoch 114/150\n",
            "1095/1095 [==============================] - 0s 100us/step - loss: 0.0062 - val_loss: 8.4508\n",
            "Epoch 115/150\n",
            "1095/1095 [==============================] - 0s 96us/step - loss: 0.0046 - val_loss: 8.4605\n",
            "Epoch 116/150\n",
            "1095/1095 [==============================] - 0s 108us/step - loss: 0.0046 - val_loss: 8.4553\n",
            "Epoch 117/150\n",
            "1095/1095 [==============================] - 0s 99us/step - loss: 0.0046 - val_loss: 8.4336\n",
            "Epoch 118/150\n",
            "1095/1095 [==============================] - 0s 100us/step - loss: 0.0051 - val_loss: 8.4608\n",
            "Epoch 119/150\n",
            "1095/1095 [==============================] - 0s 96us/step - loss: 0.0056 - val_loss: 8.4467\n",
            "Epoch 120/150\n",
            "1095/1095 [==============================] - 0s 101us/step - loss: 0.0049 - val_loss: 8.4505\n",
            "Epoch 121/150\n",
            "1095/1095 [==============================] - 0s 114us/step - loss: 0.0046 - val_loss: 8.4570\n",
            "Epoch 122/150\n",
            "1095/1095 [==============================] - 0s 98us/step - loss: 0.0047 - val_loss: 8.4567\n",
            "Epoch 123/150\n",
            "1095/1095 [==============================] - 0s 97us/step - loss: 0.0047 - val_loss: 8.4479\n",
            "Epoch 124/150\n",
            "1095/1095 [==============================] - 0s 98us/step - loss: 0.0047 - val_loss: 8.4564\n",
            "Epoch 125/150\n",
            "1095/1095 [==============================] - 0s 106us/step - loss: 0.0047 - val_loss: 8.4666\n",
            "Epoch 126/150\n",
            "1095/1095 [==============================] - 0s 99us/step - loss: 0.0047 - val_loss: 8.4679\n",
            "Epoch 127/150\n",
            "1095/1095 [==============================] - 0s 102us/step - loss: 0.0047 - val_loss: 8.4609\n",
            "Epoch 128/150\n",
            "1095/1095 [==============================] - 0s 99us/step - loss: 0.0047 - val_loss: 8.4433\n",
            "Epoch 129/150\n",
            "1095/1095 [==============================] - 0s 98us/step - loss: 0.0052 - val_loss: 8.4493\n",
            "Epoch 130/150\n",
            "1095/1095 [==============================] - 0s 101us/step - loss: 0.0047 - val_loss: 8.4539\n",
            "Epoch 131/150\n",
            "1095/1095 [==============================] - 0s 105us/step - loss: 0.0046 - val_loss: 8.4780\n",
            "Epoch 132/150\n",
            "1095/1095 [==============================] - 0s 103us/step - loss: 0.0048 - val_loss: 8.4651\n",
            "Epoch 133/150\n",
            "1095/1095 [==============================] - 0s 100us/step - loss: 0.0049 - val_loss: 8.4704\n",
            "Epoch 134/150\n",
            "1095/1095 [==============================] - 0s 108us/step - loss: 0.0046 - val_loss: 8.4484\n",
            "Epoch 135/150\n",
            "1095/1095 [==============================] - 0s 98us/step - loss: 0.0045 - val_loss: 8.4675\n",
            "Epoch 136/150\n",
            "1095/1095 [==============================] - 0s 97us/step - loss: 0.0045 - val_loss: 8.4510\n",
            "Epoch 137/150\n",
            "1095/1095 [==============================] - 0s 106us/step - loss: 0.0047 - val_loss: 8.4579\n",
            "Epoch 138/150\n",
            "1095/1095 [==============================] - 0s 105us/step - loss: 0.0046 - val_loss: 8.4560\n",
            "Epoch 139/150\n",
            "1095/1095 [==============================] - 0s 104us/step - loss: 0.0045 - val_loss: 8.4572\n",
            "Epoch 140/150\n",
            "1095/1095 [==============================] - 0s 104us/step - loss: 0.0046 - val_loss: 8.4501\n",
            "Epoch 141/150\n",
            "1095/1095 [==============================] - 0s 107us/step - loss: 0.0048 - val_loss: 8.4594\n",
            "Epoch 142/150\n",
            "1095/1095 [==============================] - 0s 103us/step - loss: 0.0046 - val_loss: 8.4579\n",
            "Epoch 143/150\n",
            "1095/1095 [==============================] - 0s 117us/step - loss: 0.0049 - val_loss: 8.4684\n",
            "Epoch 144/150\n",
            "1095/1095 [==============================] - 0s 104us/step - loss: 0.0048 - val_loss: 8.4636\n",
            "Epoch 145/150\n",
            "1095/1095 [==============================] - 0s 105us/step - loss: 0.0045 - val_loss: 8.4669\n",
            "Epoch 146/150\n",
            "1095/1095 [==============================] - 0s 110us/step - loss: 0.0045 - val_loss: 8.4494\n",
            "Epoch 147/150\n",
            "1095/1095 [==============================] - 0s 103us/step - loss: 0.0046 - val_loss: 8.4611\n",
            "Epoch 148/150\n",
            "1095/1095 [==============================] - 0s 103us/step - loss: 0.0046 - val_loss: 8.4604\n",
            "Epoch 149/150\n",
            "1095/1095 [==============================] - 0s 107us/step - loss: 0.0046 - val_loss: 8.4564\n",
            "Epoch 150/150\n",
            "1095/1095 [==============================] - 0s 106us/step - loss: 0.0046 - val_loss: 8.4559\n"
          ],
          "name": "stdout"
        },
        {
          "output_type": "execute_result",
          "data": {
            "text/plain": [
              "[<matplotlib.lines.Line2D at 0x7fe46f426eb8>]"
            ]
          },
          "metadata": {
            "tags": []
          },
          "execution_count": 58
        },
        {
          "output_type": "display_data",
          "data": {
            "image/png": "[encoded data removed]",
            "text/plain": [
              "<Figure size 432x288 with 1 Axes>"
            ]
          },
          "metadata": {
            "tags": []
          }
        }
      ]
    },
    {
      "metadata": {
        "id": "LVSFUPpAtOKP",
        "colab_type": "code",
        "outputId": "7adcae4a-10b0-4de7-e765-e2099dace4e3",
        "colab": {
          "base_uri": "https://localhost:8080/",
          "height": 34
        }
      },
      "cell_type": "code",
      "source": [
        "#Predicting the model\n",
        "model.evaluate(X_val, y_val, verbose=0)\n",
        "#print(model.predict(X_test))\n",
        "#pd.Series(model.predict(X_test)[:,0]).hist()"
      ],
      "execution_count": 0,
      "outputs": [
        {
          "output_type": "execute_result",
          "data": {
            "text/plain": [
              "8.45585905750703"
            ]
          },
          "metadata": {
            "tags": []
          },
          "execution_count": 59
        }
      ]
    },
    {
      "metadata": {
        "id": "xJl7DvJD6MOS",
        "colab_type": "text"
      },
      "cell_type": "markdown",
      "source": [
        "#Logistic Regression"
      ]
    },
    {
      "metadata": {
        "id": "qXLuzfMo6RIp",
        "colab_type": "code",
        "outputId": "53bceb48-3429-4f34-d34b-cf64040e5ff1",
        "colab": {
          "base_uri": "https://localhost:8080/",
          "height": 71
        }
      },
      "cell_type": "code",
      "source": [
        "dataset = pd.read_csv(\"drive/DL_labs/Lab_1/heart.csv\")\n",
        "\n",
        "X = dataset.iloc[:, 0:13].values\n",
        "y = dataset.iloc[:, 13].values\n",
        "\n",
        "#training set\n",
        "train_X, test_X, train_y, test_y = train_test_split(X, y, train_size=0.75, random_state=0)\n",
        "#Validation Set\n",
        "train_X, val_X, train_y, val_y = train_test_split(train_X, train_y, train_size=0.9, random_state=0)\n",
        "\n"
      ],
      "execution_count": 93,
      "outputs": [
        {
          "output_type": "stream",
          "text": [
            "/usr/local/lib/python3.6/dist-packages/sklearn/model_selection/_split.py:2179: FutureWarning: From version 0.21, test_size will always complement train_size unless both are specified.\n",
            "  FutureWarning)\n"
          ],
          "name": "stderr"
        }
      ]
    },
    {
      "metadata": {
        "id": "nrOL1H539U40",
        "colab_type": "text"
      },
      "cell_type": "markdown",
      "source": [
        "#Building the model"
      ]
    },
    {
      "metadata": {
        "id": "EBJkpq1O9Xl1",
        "colab_type": "code",
        "colab": {}
      },
      "cell_type": "code",
      "source": [
        "model = Sequential()\n",
        "output_dimension = 1\n",
        "input_dimension = 13 \n",
        "dense_layer = Dense(output_dimension, input_dim = input_dimension)\n",
        "activation_layer = Activation('sigmoid')\n",
        "model.add(dense_layer)\n",
        "model.add(activation_layer)\n",
        "optimizer = Adam(lr=0.01, beta_1=0.9, beta_2=0.999, epsilon=None, decay=0.0, amsgrad=True)\n"
      ],
      "execution_count": 0,
      "outputs": []
    },
    {
      "metadata": {
        "id": "zmauJxka9E0X",
        "colab_type": "text"
      },
      "cell_type": "markdown",
      "source": [
        "#Fitting the Model"
      ]
    },
    {
      "metadata": {
        "id": "ieS9lhBR9KNw",
        "colab_type": "code",
        "outputId": "23ae5e2a-2e56-460b-c716-3ed5913fa6a6",
        "colab": {
          "base_uri": "https://localhost:8080/",
          "height": 1999
        }
      },
      "cell_type": "code",
      "source": [
        "model.compile(loss='binary_crossentropy', metrics=['accuracy'], optimizer=optimizer)\n",
        "hist = model.fit(train_X, train_y, validation_data = (val_X, val_y),verbose=1, batch_size=2, epochs=50)\n",
        "plt.plot(hist.history['loss'])\n",
        "plt.plot(hist.history['val_loss'])\n"
      ],
      "execution_count": 105,
      "outputs": [
        {
          "output_type": "stream",
          "text": [
            "Train on 204 samples, validate on 23 samples\n",
            "Epoch 1/50\n",
            "204/204 [==============================] - 2s 10ms/step - loss: 5.1839 - acc: 0.5833 - val_loss: 4.1659 - val_acc: 0.6957\n",
            "Epoch 2/50\n",
            "204/204 [==============================] - 0s 2ms/step - loss: 4.6205 - acc: 0.6225 - val_loss: 1.6430 - val_acc: 0.8261\n",
            "Epoch 3/50\n",
            "204/204 [==============================] - 0s 2ms/step - loss: 4.7832 - acc: 0.5882 - val_loss: 5.5474 - val_acc: 0.6522\n",
            "Epoch 4/50\n",
            "204/204 [==============================] - 0s 2ms/step - loss: 4.2083 - acc: 0.6373 - val_loss: 0.6527 - val_acc: 0.7826\n",
            "Epoch 5/50\n",
            "204/204 [==============================] - 1s 2ms/step - loss: 4.4423 - acc: 0.6275 - val_loss: 5.3973 - val_acc: 0.6522\n",
            "Epoch 6/50\n",
            "204/204 [==============================] - 0s 2ms/step - loss: 4.2641 - acc: 0.6373 - val_loss: 1.5749 - val_acc: 0.8261\n",
            "Epoch 7/50\n",
            "204/204 [==============================] - 0s 2ms/step - loss: 3.6113 - acc: 0.6814 - val_loss: 1.6588 - val_acc: 0.7826\n",
            "Epoch 8/50\n",
            "204/204 [==============================] - 0s 2ms/step - loss: 3.4229 - acc: 0.6667 - val_loss: 1.3116 - val_acc: 0.7826\n",
            "Epoch 9/50\n",
            "204/204 [==============================] - 0s 2ms/step - loss: 3.2054 - acc: 0.6520 - val_loss: 0.4869 - val_acc: 0.8261\n",
            "Epoch 10/50\n",
            "204/204 [==============================] - 0s 2ms/step - loss: 3.3532 - acc: 0.6520 - val_loss: 0.6608 - val_acc: 0.9565\n",
            "Epoch 11/50\n",
            "204/204 [==============================] - 0s 2ms/step - loss: 3.3655 - acc: 0.6618 - val_loss: 1.0353 - val_acc: 0.8261\n",
            "Epoch 12/50\n",
            "204/204 [==============================] - 0s 2ms/step - loss: 2.4248 - acc: 0.7059 - val_loss: 0.7110 - val_acc: 0.9565\n",
            "Epoch 13/50\n",
            "204/204 [==============================] - 0s 2ms/step - loss: 1.9231 - acc: 0.7549 - val_loss: 0.5160 - val_acc: 0.9130\n",
            "Epoch 14/50\n",
            "204/204 [==============================] - 0s 2ms/step - loss: 1.7721 - acc: 0.7402 - val_loss: 0.5912 - val_acc: 0.8261\n",
            "Epoch 15/50\n",
            "204/204 [==============================] - 0s 2ms/step - loss: 1.6337 - acc: 0.7402 - val_loss: 0.4431 - val_acc: 0.9565\n",
            "Epoch 16/50\n",
            "204/204 [==============================] - 0s 2ms/step - loss: 1.3593 - acc: 0.7892 - val_loss: 0.3736 - val_acc: 0.9565\n",
            "Epoch 17/50\n",
            "204/204 [==============================] - 0s 2ms/step - loss: 1.1010 - acc: 0.7794 - val_loss: 0.6700 - val_acc: 0.9130\n",
            "Epoch 18/50\n",
            "204/204 [==============================] - 0s 2ms/step - loss: 0.9834 - acc: 0.7745 - val_loss: 2.8202 - val_acc: 0.6522\n",
            "Epoch 19/50\n",
            "204/204 [==============================] - 0s 2ms/step - loss: 1.5598 - acc: 0.7206 - val_loss: 0.8937 - val_acc: 0.8261\n",
            "Epoch 20/50\n",
            "204/204 [==============================] - 1s 2ms/step - loss: 1.1197 - acc: 0.7647 - val_loss: 0.3343 - val_acc: 0.9130\n",
            "Epoch 21/50\n",
            "204/204 [==============================] - 1s 3ms/step - loss: 1.1388 - acc: 0.7745 - val_loss: 0.4908 - val_acc: 0.9130\n",
            "Epoch 22/50\n",
            "204/204 [==============================] - 0s 2ms/step - loss: 1.3291 - acc: 0.7059 - val_loss: 1.0700 - val_acc: 0.7391\n",
            "Epoch 23/50\n",
            "204/204 [==============================] - 1s 2ms/step - loss: 1.0492 - acc: 0.7941 - val_loss: 0.5058 - val_acc: 0.7826\n",
            "Epoch 24/50\n",
            "204/204 [==============================] - 0s 2ms/step - loss: 0.9839 - acc: 0.7647 - val_loss: 0.2366 - val_acc: 0.9130\n",
            "Epoch 25/50\n",
            "204/204 [==============================] - 0s 2ms/step - loss: 0.9398 - acc: 0.8039 - val_loss: 0.2724 - val_acc: 0.9130\n",
            "Epoch 26/50\n",
            "204/204 [==============================] - 0s 2ms/step - loss: 0.9454 - acc: 0.7745 - val_loss: 0.2371 - val_acc: 0.9130\n",
            "Epoch 27/50\n",
            "204/204 [==============================] - 0s 2ms/step - loss: 0.6739 - acc: 0.8039 - val_loss: 0.8318 - val_acc: 0.8261\n",
            "Epoch 28/50\n",
            "204/204 [==============================] - 0s 2ms/step - loss: 0.8351 - acc: 0.7892 - val_loss: 0.1982 - val_acc: 0.9565\n",
            "Epoch 29/50\n",
            "204/204 [==============================] - 0s 2ms/step - loss: 0.7181 - acc: 0.8137 - val_loss: 0.6270 - val_acc: 0.7391\n",
            "Epoch 30/50\n",
            "204/204 [==============================] - 0s 2ms/step - loss: 0.8412 - acc: 0.7843 - val_loss: 0.2231 - val_acc: 0.9130\n",
            "Epoch 31/50\n",
            "204/204 [==============================] - 0s 2ms/step - loss: 0.8601 - acc: 0.7549 - val_loss: 0.3003 - val_acc: 0.8261\n",
            "Epoch 32/50\n",
            "204/204 [==============================] - 0s 2ms/step - loss: 0.8293 - acc: 0.8186 - val_loss: 0.1886 - val_acc: 0.9130\n",
            "Epoch 33/50\n",
            "204/204 [==============================] - 0s 2ms/step - loss: 0.6857 - acc: 0.8186 - val_loss: 0.2812 - val_acc: 0.9130\n",
            "Epoch 34/50\n",
            "204/204 [==============================] - 0s 2ms/step - loss: 0.6935 - acc: 0.8480 - val_loss: 0.1565 - val_acc: 0.9130\n",
            "Epoch 35/50\n",
            "204/204 [==============================] - 0s 2ms/step - loss: 1.0746 - acc: 0.7451 - val_loss: 0.5015 - val_acc: 0.8696\n",
            "Epoch 36/50\n",
            "204/204 [==============================] - 0s 2ms/step - loss: 0.7111 - acc: 0.8137 - val_loss: 1.0521 - val_acc: 0.6957\n",
            "Epoch 37/50\n",
            "204/204 [==============================] - 0s 2ms/step - loss: 1.2890 - acc: 0.7402 - val_loss: 0.2483 - val_acc: 0.9130\n",
            "Epoch 38/50\n",
            "204/204 [==============================] - 0s 2ms/step - loss: 0.8222 - acc: 0.7990 - val_loss: 1.1214 - val_acc: 0.6957\n",
            "Epoch 39/50\n",
            "204/204 [==============================] - 0s 2ms/step - loss: 0.8368 - acc: 0.7696 - val_loss: 0.4148 - val_acc: 0.9130\n",
            "Epoch 40/50\n",
            "204/204 [==============================] - 0s 2ms/step - loss: 1.0107 - acc: 0.7010 - val_loss: 0.3581 - val_acc: 0.8261\n",
            "Epoch 41/50\n",
            "204/204 [==============================] - 0s 2ms/step - loss: 0.6685 - acc: 0.7941 - val_loss: 0.4255 - val_acc: 0.9130\n",
            "Epoch 42/50\n",
            "204/204 [==============================] - 0s 2ms/step - loss: 0.9468 - acc: 0.7451 - val_loss: 0.2321 - val_acc: 0.9130\n",
            "Epoch 43/50\n",
            "204/204 [==============================] - 0s 2ms/step - loss: 0.8218 - acc: 0.7745 - val_loss: 0.1811 - val_acc: 0.9130\n",
            "Epoch 44/50\n",
            "204/204 [==============================] - 0s 2ms/step - loss: 0.9087 - acc: 0.7745 - val_loss: 0.1563 - val_acc: 0.9130\n",
            "Epoch 45/50\n",
            "204/204 [==============================] - 0s 2ms/step - loss: 0.7157 - acc: 0.8088 - val_loss: 0.4338 - val_acc: 0.7826\n",
            "Epoch 46/50\n",
            "204/204 [==============================] - 0s 2ms/step - loss: 0.9623 - acc: 0.7402 - val_loss: 1.5889 - val_acc: 0.7391\n",
            "Epoch 47/50\n",
            "204/204 [==============================] - 0s 2ms/step - loss: 1.0168 - acc: 0.7451 - val_loss: 0.4651 - val_acc: 0.7826\n",
            "Epoch 48/50\n",
            "204/204 [==============================] - 0s 2ms/step - loss: 0.8296 - acc: 0.7794 - val_loss: 2.4228 - val_acc: 0.5652\n",
            "Epoch 49/50\n",
            "204/204 [==============================] - 0s 2ms/step - loss: 0.6719 - acc: 0.8088 - val_loss: 0.1936 - val_acc: 0.9130\n",
            "Epoch 50/50\n",
            "204/204 [==============================] - 0s 2ms/step - loss: 0.6536 - acc: 0.8088 - val_loss: 0.3236 - val_acc: 0.9130\n"
          ],
          "name": "stdout"
        },
        {
          "output_type": "execute_result",
          "data": {
            "text/plain": [
              "[<matplotlib.lines.Line2D at 0x7fe46c274780>]"
            ]
          },
          "metadata": {
            "tags": []
          },
          "execution_count": 105
        },
        {
          "output_type": "display_data",
          "data": {
            "image/png": "[encoded data removed]",
            "text/plain": [
              "<Figure size 432x288 with 1 Axes>"
            ]
          },
          "metadata": {
            "tags": []
          }
        }
      ]
    },
    {
      "metadata": {
        "id": "FRuFZOg99L_d",
        "colab_type": "text"
      },
      "cell_type": "markdown",
      "source": [
        "#Predicting "
      ]
    },
    {
      "metadata": {
        "id": "Mv0nEHJZ9R-M",
        "colab_type": "code",
        "outputId": "ec68004f-b391-4e1f-9991-90419dea5909",
        "colab": {
          "base_uri": "https://localhost:8080/",
          "height": 51
        }
      },
      "cell_type": "code",
      "source": [
        "score, accuracy = model.evaluate(test_X, test_y, batch_size=16, verbose=0)\n",
        "print(\"Test fraction correct (NN-Score) = {:.2f}\".format(score))\n",
        "print(\"Test fraction correct (NN-Accuracy) = {:.2f}\".format(accuracy))\n"
      ],
      "execution_count": 106,
      "outputs": [
        {
          "output_type": "stream",
          "text": [
            "Test fraction correct (NN-Score) = 0.84\n",
            "Test fraction correct (NN-Accuracy) = 0.83\n"
          ],
          "name": "stdout"
        }
      ]
    }
  ]
}