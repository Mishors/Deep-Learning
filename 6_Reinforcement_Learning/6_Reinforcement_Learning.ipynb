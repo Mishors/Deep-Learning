{
  "nbformat": 4,
  "nbformat_minor": 0,
  "metadata": {
    "colab": {
      "name": "Reinforcement Learning.ipynb",
      "version": "0.3.2",
      "provenance": [],
      "collapsed_sections": []
    },
    "kernelspec": {
      "name": "python2",
      "display_name": "Python 2"
    },
    "accelerator": "GPU"
  },
  "cells": [
    {
      "cell_type": "markdown",
      "metadata": {
        "id": "WoXYKhfZMHiw",
        "colab_type": "text"
      },
      "source": [
        "# Lab 6: Model-Free Reinforcement Learning\n",
        "\n",
        "Reinforcement learning (RL) is a subset of machine learning which poses learning problems as interactions between agents and environments. It often assumes agents have no prior knowledge of the given world, so they must learn to navigate environments by optimizing some provided reward function. Within a world, an agent can take certain actions and receive feedback--in the form of positive or negative rewards--with respect to their decision. As such, an agent's feedback loop is somewhat akin to the manner in which a child might learn to distinguish between \"good\" and \"bad\" actions. In practical terms, our RL agent will interact with the environment by taking an action at each timestep, receiving a corresponding reward, and updating its state according to what it's \"learned\".  \n",
        "\n",
        "![alt text](https://www.kdnuggets.com/images/reinforcement-learning-fig1-700.jpg)\n",
        "\n",
        "## Why do we care about games? \n",
        "While the ultimate goal of reinforcement learning is to teach agents to act in the real, physical world, games provide a set of very useful properties that we also care about: \n",
        "\n",
        "1.   In many cases, games have perfectly describable enviornments. For example, all rules of chess can be formally written and programmed into a chess game simulator;\n",
        "2.   Massively parallelizable. Do not require running in the real world, therefore simultaneous environments can be run on large data clusters; \n",
        "3.   Fast prototyping of algorithms on simpler scenarios can speed up the development of algorithms that could eventually run in the real-world; and\n",
        "4.   ... Games are fun! \n",
        "\n",
        "In this lab, we focus on building a model-free reinforcement learning algorithm to master two different enviornments with varying complexity. \n",
        "\n",
        "1.   **Cartpole:   Balance a pole in an upright position by only moving your base left or right. Low-dimensional observation space.**\n",
        "2.   **Pong:   Beat a classical AI system designed at the game of Pong. High-dimensional observational space -- learning directly from raw pixels!  **\n"
      ]
    },
    {
      "cell_type": "markdown",
      "metadata": {
        "id": "zmrHSiXKTXTY",
        "colab_type": "text"
      },
      "source": [
        "#Part 1: Cartpole\n",
        "\n",
        "Since we're no longer dealing with a supervised learning task, let's take a step back and outline our approach to the problem. First, we'll need to create our environment and initialize our agent. Moreover, we'll need to provide our agent with some sort of mechanism for remembering action and reward history... in other words, a memory bank. Then we'll need to define our learning algorithm, much like we've done in previous labs.\n",
        "\n",
        "\n",
        "First we'll import TensorFlow, enable Eager execution, and also import some dependencies."
      ]
    },
    {
      "cell_type": "code",
      "metadata": {
        "id": "xk5qeNPWCm00",
        "colab_type": "code",
        "outputId": "b1ec9bd7-a749-4f79-e639-d3dc81dd95e3",
        "colab": {
          "base_uri": "https://localhost:8080/",
          "height": 68
        }
      },
      "source": [
        "!apt-get install -y xvfb python-opengl > /dev/null 2>&1\n",
        "!pip install gym pyvirtualdisplay scikit-video > /dev/null 2>&1\n",
        "\n",
        "import tensorflow as tf\n",
        "tf.enable_eager_execution()\n",
        "\n",
        "\n",
        "import gym\n",
        "import numpy as np\n",
        "import matplotlib.pyplot as plt\n",
        "from IPython import display as ipythondisplay\n",
        "import time\n",
        "from keras import regularizers\n",
        "\n",
        "# Download the class repository\n",
        "! git clone https://github.com/aamini/introtodeeplearning_labs.git  > /dev/null 2>&1\n",
        "% cd introtodeeplearning_labs \n",
        "! git pull\n",
        "% cd .. \n",
        "\n",
        "import introtodeeplearning_labs as util"
      ],
      "execution_count": 0,
      "outputs": [
        {
          "output_type": "stream",
          "text": [
            "/content/introtodeeplearning_labs\n",
            "Already up to date.\n",
            "/content\n"
          ],
          "name": "stdout"
        }
      ]
    },
    {
      "cell_type": "markdown",
      "metadata": {
        "id": "UT7YL8KBJIIc",
        "colab_type": "text"
      },
      "source": [
        "### 1.1 Define and inspect the environment\n",
        "\n",
        "In order to model our environment, we'll be using a toolkit developed by OpenAI, [OpenAI Gym](https://gym.openai.com/). It provides several pre-defined environments for training and testing reinforcement learning agents, including those for classic physics control tasks, Atari video games, and robotic simulations. To access the basic version of a control task, \"Cart Pole\", we can use `env = gym.make(\"CartPole-v0\")`. When we imported `gym`, we gained access to higher level functions in the package, including creating virtual worlds. Each environment has a specific identifier (for which you can read through [here](https://gym.openai.com/envs/#classic_control)) which is accessed by passing the environment name as a string variable.\n",
        "One issue we might experience when developing RL algorithms is that many aspects of the learning process are inherently random: initializing game states, changes in the environment, and the agent's actions. As such, it can be helpful to set a random \"seed\" for one of these variables to ensure some level of reproducibility. Much like you might use `numpy.random.seed`, we can call the comparable function in gym, `seed`, with our defined environment to ensure the environment's random variables are initialized the same each time. "
      ]
    },
    {
      "cell_type": "code",
      "metadata": {
        "id": "quv9SC0iIYFm",
        "colab_type": "code",
        "outputId": "628b98d4-a343-4040-cc44-690f8191c68a",
        "colab": {
          "base_uri": "https://localhost:8080/",
          "height": 34
        }
      },
      "source": [
        "env = gym.make(\"CartPole-v0\")\n",
        "env.seed(1) # reproducible, since RL has high variance"
      ],
      "execution_count": 0,
      "outputs": [
        {
          "output_type": "execute_result",
          "data": {
            "text/plain": [
              "[1L]"
            ]
          },
          "metadata": {
            "tags": []
          },
          "execution_count": 23
        }
      ]
    },
    {
      "cell_type": "markdown",
      "metadata": {
        "id": "mhEITUcKK455",
        "colab_type": "text"
      },
      "source": [
        "\n",
        "**CartPole Environment: ** \n",
        "\n",
        "A pole is attached by an un-actuated joint to a cart, which moves along a frictionless track. The system is controlled by applying a force of +1 or -1 to the cart. The pendulum starts upright, and the goal is to prevent it from falling over. A reward of +1 is provided for every timestep that the pole remains upright. The episode ends when the pole is more than 15 degrees from vertical, or the cart moves more than 2.4 units from the center.\n",
        "\n",
        "<img width=\"400px\" src=\"https://danielpiedrahita.files.wordpress.com/2017/02/cart-pole.png\"></img>\n",
        "\n",
        "Observations:\n",
        "\n",
        "1. position of cart\n",
        "2. velocity of cart\n",
        "3. angle of pole\n",
        "4. rotation rate of pole\n",
        "\n",
        "We can confirm the size of the space by querying the observation space:\n"
      ]
    },
    {
      "cell_type": "code",
      "metadata": {
        "id": "UVJaEcbdIX82",
        "colab_type": "code",
        "outputId": "34357462-8a1a-4dd3-c9db-6f26161d2dfb",
        "colab": {
          "base_uri": "https://localhost:8080/",
          "height": 34
        }
      },
      "source": [
        "print \"Enviornment has observation space = {}\".format(env.observation_space)"
      ],
      "execution_count": 0,
      "outputs": [
        {
          "output_type": "stream",
          "text": [
            "Enviornment has observation space = Box(4,)\n"
          ],
          "name": "stdout"
        }
      ]
    },
    {
      "cell_type": "markdown",
      "metadata": {
        "id": "ZibGgjrALgPM",
        "colab_type": "text"
      },
      "source": [
        "At every time step, the agent can move either right or left. Confirm the size of the action space by querying the environment:"
      ]
    },
    {
      "cell_type": "code",
      "metadata": {
        "id": "qc9SIPxBIXrm",
        "colab_type": "code",
        "outputId": "386aa6b1-0331-423c-f4c7-b628a0562124",
        "colab": {
          "base_uri": "https://localhost:8080/",
          "height": 34
        }
      },
      "source": [
        "n_actions = env.action_space.n\n",
        "print \"Number of possible actions that the agent can choose from = {}\".format(n_actions)"
      ],
      "execution_count": 0,
      "outputs": [
        {
          "output_type": "stream",
          "text": [
            "Number of possible actions that the agent can choose from = 2\n"
          ],
          "name": "stdout"
        }
      ]
    },
    {
      "cell_type": "markdown",
      "metadata": {
        "id": "pPfHME8aRKkb",
        "colab_type": "text"
      },
      "source": [
        "### 1.2 Define the Agent\n",
        "\n",
        "Let's define our agent, which is simply a deep neural network which takes as input an observation of the enviornment and outputs the probability of taking each of the possible actions. \n"
      ]
    },
    {
      "cell_type": "code",
      "metadata": {
        "id": "W-o_XK4oQ4eu",
        "colab_type": "code",
        "colab": {}
      },
      "source": [
        "def create_cartpole_model():\n",
        "  model = tf.keras.models.Sequential([\n",
        "      tf.keras.layers.Dense(units=32, activation='relu'),\n",
        "      # TODO: define the output dimension of the last Dense layer\n",
        "      # Hint: think about that the space the agent needs to act in\n",
        "      tf.keras.layers.Dense(units=2, activation=None) # TODO\n",
        "  ])\n",
        "  return model\n",
        "\n",
        "cartpole_model = create_cartpole_model()"
      ],
      "execution_count": 0,
      "outputs": []
    },
    {
      "cell_type": "code",
      "metadata": {
        "id": "BAY6ZACEWBle",
        "colab_type": "code",
        "colab": {}
      },
      "source": [
        "def create_cartpole_model2():\n",
        "  model = tf.keras.models.Sequential([\n",
        "      tf.keras.layers.Dense(units=32, activation='relu'),\n",
        "      #tf.keras.layers.Dropout(0.5),\n",
        "      tf.keras.layers.Dense(units=64, activation='relu'),\n",
        "      #tf.keras.layers.Dropout(0.5),\n",
        "      tf.keras.layers.Dense(units=2, activation=None) # TODO\n",
        "  ])\n",
        "  return model\n",
        "\n"
      ],
      "execution_count": 0,
      "outputs": []
    },
    {
      "cell_type": "markdown",
      "metadata": {
        "id": "d5D5NSIYS2IW",
        "colab_type": "text"
      },
      "source": [
        "Define the action function that executes a forward pass through the network and samples from the output. Take special note of the output activation of the model."
      ]
    },
    {
      "cell_type": "code",
      "metadata": {
        "id": "E_vVZRr8Q4R_",
        "colab_type": "code",
        "colab": {}
      },
      "source": [
        "def choose_action(model, observation):\n",
        "    \n",
        "  observation = observation.reshape([1, -1])\n",
        "  '''TODO: feed the observations through the model to predict the log probabilities of each possible action.'''\n",
        "  logits = model.predict(x = observation) # TODO\n",
        "  \n",
        "  # pass the log probabilities through a softmax to compute true probabilities\n",
        "  prob_weights = tf.nn.softmax(logits).numpy()\n",
        "  \n",
        "  '''TODO: randomly sample from the prob_weights to pick an action.\n",
        "  Hint: carefully consider the dimensionality of the input probabilities (vector) and the output action (scalar)'''\n",
        "  action = np.random.choice(env.action_space.n, p=prob_weights.ravel()) # TODO\n",
        "\n",
        "  return action"
      ],
      "execution_count": 0,
      "outputs": []
    },
    {
      "cell_type": "markdown",
      "metadata": {
        "id": "_tR9uAWcTnkr",
        "colab_type": "text"
      },
      "source": [
        "### 1.3 Create the agent's memory\n",
        "\n",
        "During training, the agent will need to remember all of its observations, actions so that once the episode ends, it can \"reinforce\" the good actions and punish the undesirable actions. Let's do this by defining a simple memory buffer that contains the agent's observations, actions, and received rewards from a given episode. "
      ]
    },
    {
      "cell_type": "code",
      "metadata": {
        "id": "8MM6JwXVQ4JG",
        "colab_type": "code",
        "colab": {}
      },
      "source": [
        "class Memory:\n",
        "  def __init__(self): \n",
        "      self.clear()\n",
        "\n",
        "  def clear(self): \n",
        "      self.observations = []\n",
        "      self.actions = []\n",
        "      self.rewards = []\n",
        "\n",
        "  def add_to_memory(self, new_observation, new_action, new_reward): \n",
        "      self.observations.append(new_observation)\n",
        "      '''TODO: update the list of actions with new action'''\n",
        "      # TODO\n",
        "      self.actions.append(new_action)\n",
        "      '''TODO: update the list of rewards with new reward'''\n",
        "      # TODO\n",
        "      self.rewards.append(new_reward)\n",
        "        \n",
        "memory = Memory()"
      ],
      "execution_count": 0,
      "outputs": []
    },
    {
      "cell_type": "markdown",
      "metadata": {
        "id": "D4YhtPaUVj5m",
        "colab_type": "text"
      },
      "source": [
        "We're almost ready to begin the learning algorithm for our agent! The final step is to compute the discounted rewards of our agent. Recall from lecture, we use reward discount to give more preference at getting rewards now rather than later in the future. The idea of discounting rewards is similar to discounting money in the case of interest and can be defined as: \n",
        "\n",
        ">$R_{t}=\\sum_{k=0}^\\infty\\gamma^kr_{t+k}$\n",
        "\n",
        "where  $\\gamma$ is the discount factor. In other words, at the end of an episode, we'll want to depreciate any rewards received at later time steps. Since we can't play an infinite number of games, we'll be limited to the number of timesteps in an episode. When implementing the function, you can initialize a numpy array of zeros (with length of the number of time steps) and fill it with the real discounted reward values as you loop through the saved rewards from the episode. We'll also want to normalize our output, which you can do using information about the mean and standard deviation of the discounted rewards.\n"
      ]
    },
    {
      "cell_type": "code",
      "metadata": {
        "id": "5_Q2OFYtQ32X",
        "colab_type": "code",
        "colab": {}
      },
      "source": [
        "def normalize(x):\n",
        "  x -= np.mean(x)\n",
        "  x /= np.std(x)\n",
        "  return x\n",
        "\n",
        "def discount_rewards(rewards, gamma=0.95): \n",
        "  discounted_rewards = np.zeros_like(rewards)\n",
        "  R = 0\n",
        "  for t in reversed(range(0, len(rewards))):\n",
        "      # update the total discounted reward\n",
        "      R = R * gamma + rewards[t]\n",
        "      discounted_rewards[t] = R\n",
        "      \n",
        "  return normalize(discounted_rewards)"
      ],
      "execution_count": 0,
      "outputs": []
    },
    {
      "cell_type": "markdown",
      "metadata": {
        "id": "QzbY-mjGYcmt",
        "colab_type": "text"
      },
      "source": [
        "### 1.4 Define the learning algorithm\n",
        "\n",
        "Now we can start to define the learing algorithm which will be used to reinforce good behaviors of the agent and discourage bad behaviours. Start by defining the optimizer we want to use."
      ]
    },
    {
      "cell_type": "code",
      "metadata": {
        "id": "m3u6xDNMY0zg",
        "colab_type": "code",
        "colab": {}
      },
      "source": [
        "learning_rate = 1e-3\n",
        "optimizer = tf.train.AdamOptimizer(learning_rate)"
      ],
      "execution_count": 0,
      "outputs": []
    },
    {
      "cell_type": "markdown",
      "metadata": {
        "id": "M-LJwWqTZegG",
        "colab_type": "text"
      },
      "source": [
        "And now let's define the loss function. In this lab we are focusing on policy gradient methods which aim to **maximize** the likelihood of actions that result in large rewards. Equivalently, this means that we want to **minimize** the negative likelihood of these same actions. Like in supervised learning, we can use stochastic gradient descent methods to achieve this minimization. \n",
        "\n",
        "Since the log function is monotonically increasing, this means that minimizing negative **likelihood** is equivalent to minimizing negative **log-likelihood**.  Recall that we can easily compute the negative log-likelihood of an discrete action by evaluting its softmax cross entropy (https://www.tensorflow.org/api_docs/python/tf/nn/sparse_softmax_cross_entropy_with_logits) "
      ]
    },
    {
      "cell_type": "code",
      "metadata": {
        "id": "fsgZ3IDCY_Zn",
        "colab_type": "code",
        "colab": {}
      },
      "source": [
        "def compute_loss(logits, actions, rewards): \n",
        "  '''TODO: complete the call to compute the loss'''\n",
        "  neg_logprob = tf.nn.sparse_softmax_cross_entropy_with_logits(labels=actions, logits=logits) # TODO\n",
        "  '''TODO: scale the negative log probability by the rewards'''\n",
        "  loss = tf.reduce_mean( neg_logprob *rewards) # TODO\n",
        "  return loss"
      ],
      "execution_count": 0,
      "outputs": []
    },
    {
      "cell_type": "markdown",
      "metadata": {
        "id": "Rr5vQ9fqbPpp",
        "colab_type": "text"
      },
      "source": [
        "Now let's use the loss function to define a backpropogation step of our learning algorithm."
      ]
    },
    {
      "cell_type": "code",
      "metadata": {
        "id": "_50ada7nbZ7L",
        "colab_type": "code",
        "colab": {}
      },
      "source": [
        "def train_step(model, optimizer, observations, actions, discounted_rewards):\n",
        "  with tf.GradientTape() as tape:\n",
        "      # Forward propogate through the agent\n",
        "      observations = tf.convert_to_tensor(observations, dtype=tf.float32)\n",
        "      logits = model(observations)\n",
        "\n",
        "      '''TODO: call the compute_loss function to compute the loss'''\n",
        "      loss = compute_loss(logits, actions, discounted_rewards) # TODO\n",
        "\n",
        "  '''TODO: run backpropagation using the tape.gradient method'''\n",
        "  grads = tape.gradient(target = loss, sources = model.variables) # TODO\n",
        "  optimizer.apply_gradients(zip(grads, model.variables), global_step=tf.train.get_or_create_global_step())"
      ],
      "execution_count": 0,
      "outputs": []
    },
    {
      "cell_type": "markdown",
      "metadata": {
        "id": "XsjKXh6BcgjR",
        "colab_type": "text"
      },
      "source": [
        "### 1.5 Let the agent go and watch it learn from scratch!\n",
        "\n",
        "Having had no prior knowledge of the environment, the agent will begin to learn how to balance the pole on the cart based only on the feedback received from the environment! Having defined how our agent can move, how it takes in new observations, and how it updates its state, we'll see how it gradually learns a policy of actions to optimize balancing the pole as long as possible.\n",
        "\n"
      ]
    },
    {
      "cell_type": "code",
      "metadata": {
        "id": "XmOzc2rrcn8Q",
        "colab_type": "code",
        "outputId": "f08fef0b-d66a-4ac5-f4de-de45b79a119d",
        "colab": {
          "base_uri": "https://localhost:8080/",
          "height": 926
        }
      },
      "source": [
        "cartpole_model = create_cartpole_model()\n",
        "\n",
        "smoothed_reward = util.LossHistory(smoothing_factor=0.9)\n",
        "plotter = util.PeriodicPlotter(sec=5, xlabel='Iterations', ylabel='Rewards')\n",
        "\n",
        "\n",
        "for i_episode in range(1000):\n",
        "\n",
        "  plotter.plot(smoothed_reward.get())\n",
        "\n",
        "  # Restart the environment\n",
        "  observation = env.reset()\n",
        "\n",
        "  while True:\n",
        "      # using our observation, take an action\n",
        "      action = choose_action(cartpole_model, observation)\n",
        "      next_observation, reward, done, info = env.step(action)\n",
        "      # add to memory\n",
        "      memory.add_to_memory(observation, action, reward)\n",
        "      \n",
        "      # is the episode over? did you crash or do so well that you're done?\n",
        "      if done:\n",
        "          # determine total reward and keep a record of this\n",
        "          total_reward = sum(memory.rewards)\n",
        "          smoothed_reward.append( total_reward )\n",
        "          \n",
        "          # initiate training - remember we don't know anything about how the agent is doing until it's crashed!\n",
        "          train_step(cartpole_model, \n",
        "                     optimizer, \n",
        "                     observations = np.vstack(memory.observations),\n",
        "                     actions = np.array(memory.actions),\n",
        "                     discounted_rewards = discount_rewards(memory.rewards)\n",
        "                    )\n",
        "          \n",
        "          memory.clear()\n",
        "          break\n",
        "      # update our observatons\n",
        "      observation = next_observation"
      ],
      "execution_count": 0,
      "outputs": [
        {
          "output_type": "display_data",
          "data": {
            "image/png": "[encoded data removed]",
            "text/plain": [
              "<Figure size 432x288 with 1 Axes>"
            ]
          },
          "metadata": {
            "tags": []
          }
        },
        {
          "output_type": "error",
          "ename": "KeyboardInterrupt",
          "evalue": "ignored",
          "traceback": [
            "\u001b[0;31m\u001b[0m",
            "\u001b[0;31mKeyboardInterrupt\u001b[0mTraceback (most recent call last)",
            "\u001b[0;32m<ipython-input-40-aebe3863239b>\u001b[0m in \u001b[0;36m<module>\u001b[0;34m()\u001b[0m\n\u001b[1;32m     14\u001b[0m   \u001b[0;32mwhile\u001b[0m \u001b[0mTrue\u001b[0m\u001b[0;34m:\u001b[0m\u001b[0;34m\u001b[0m\u001b[0m\n\u001b[1;32m     15\u001b[0m       \u001b[0;31m# using our observation, take an action\u001b[0m\u001b[0;34m\u001b[0m\u001b[0;34m\u001b[0m\u001b[0m\n\u001b[0;32m---> 16\u001b[0;31m       \u001b[0maction\u001b[0m \u001b[0;34m=\u001b[0m \u001b[0mchoose_action\u001b[0m\u001b[0;34m(\u001b[0m\u001b[0mcartpole_model\u001b[0m\u001b[0;34m,\u001b[0m \u001b[0mobservation\u001b[0m\u001b[0;34m)\u001b[0m\u001b[0;34m\u001b[0m\u001b[0m\n\u001b[0m\u001b[1;32m     17\u001b[0m       \u001b[0mnext_observation\u001b[0m\u001b[0;34m,\u001b[0m \u001b[0mreward\u001b[0m\u001b[0;34m,\u001b[0m \u001b[0mdone\u001b[0m\u001b[0;34m,\u001b[0m \u001b[0minfo\u001b[0m \u001b[0;34m=\u001b[0m \u001b[0menv\u001b[0m\u001b[0;34m.\u001b[0m\u001b[0mstep\u001b[0m\u001b[0;34m(\u001b[0m\u001b[0maction\u001b[0m\u001b[0;34m)\u001b[0m\u001b[0;34m\u001b[0m\u001b[0m\n\u001b[1;32m     18\u001b[0m       \u001b[0;31m# add to memory\u001b[0m\u001b[0;34m\u001b[0m\u001b[0;34m\u001b[0m\u001b[0m\n",
            "\u001b[0;32m<ipython-input-25-8ae7dab6020f>\u001b[0m in \u001b[0;36mchoose_action\u001b[0;34m(model, observation)\u001b[0m\n\u001b[1;32m      3\u001b[0m   \u001b[0mobservation\u001b[0m \u001b[0;34m=\u001b[0m \u001b[0mobservation\u001b[0m\u001b[0;34m.\u001b[0m\u001b[0mreshape\u001b[0m\u001b[0;34m(\u001b[0m\u001b[0;34m[\u001b[0m\u001b[0;36m1\u001b[0m\u001b[0;34m,\u001b[0m \u001b[0;34m-\u001b[0m\u001b[0;36m1\u001b[0m\u001b[0;34m]\u001b[0m\u001b[0;34m)\u001b[0m\u001b[0;34m\u001b[0m\u001b[0m\n\u001b[1;32m      4\u001b[0m   \u001b[0;34m'''TODO: feed the observations through the model to predict the log probabilities of each possible action.'''\u001b[0m\u001b[0;34m\u001b[0m\u001b[0m\n\u001b[0;32m----> 5\u001b[0;31m   \u001b[0mlogits\u001b[0m \u001b[0;34m=\u001b[0m \u001b[0mmodel\u001b[0m\u001b[0;34m.\u001b[0m\u001b[0mpredict\u001b[0m\u001b[0;34m(\u001b[0m\u001b[0mx\u001b[0m \u001b[0;34m=\u001b[0m \u001b[0mobservation\u001b[0m\u001b[0;34m)\u001b[0m \u001b[0;31m# TODO\u001b[0m\u001b[0;34m\u001b[0m\u001b[0m\n\u001b[0m\u001b[1;32m      6\u001b[0m \u001b[0;34m\u001b[0m\u001b[0m\n\u001b[1;32m      7\u001b[0m   \u001b[0;31m# pass the log probabilities through a softmax to compute true probabilities\u001b[0m\u001b[0;34m\u001b[0m\u001b[0;34m\u001b[0m\u001b[0m\n",
            "\u001b[0;32m/usr/local/lib/python2.7/dist-packages/tensorflow/python/keras/engine/training.pyc\u001b[0m in \u001b[0;36mpredict\u001b[0;34m(self, x, batch_size, verbose, steps, max_queue_size, workers, use_multiprocessing)\u001b[0m\n\u001b[1;32m   1111\u001b[0m     \u001b[0;32melse\u001b[0m\u001b[0;34m:\u001b[0m\u001b[0;34m\u001b[0m\u001b[0m\n\u001b[1;32m   1112\u001b[0m       return training_arrays.predict_loop(\n\u001b[0;32m-> 1113\u001b[0;31m           self, x, batch_size=batch_size, verbose=verbose, steps=steps)\n\u001b[0m\u001b[1;32m   1114\u001b[0m \u001b[0;34m\u001b[0m\u001b[0m\n\u001b[1;32m   1115\u001b[0m   \u001b[0;32mdef\u001b[0m \u001b[0mreset_metrics\u001b[0m\u001b[0;34m(\u001b[0m\u001b[0mself\u001b[0m\u001b[0;34m)\u001b[0m\u001b[0;34m:\u001b[0m\u001b[0;34m\u001b[0m\u001b[0m\n",
            "\u001b[0;32m/usr/local/lib/python2.7/dist-packages/tensorflow/python/keras/engine/training_arrays.pyc\u001b[0m in \u001b[0;36mmodel_iteration\u001b[0;34m(model, inputs, targets, sample_weights, batch_size, epochs, verbose, callbacks, val_inputs, val_targets, val_sample_weights, shuffle, initial_epoch, steps_per_epoch, validation_steps, mode, validation_in_fit, **kwargs)\u001b[0m\n\u001b[1;32m    327\u001b[0m \u001b[0;34m\u001b[0m\u001b[0m\n\u001b[1;32m    328\u001b[0m         \u001b[0;31m# Get outputs.\u001b[0m\u001b[0;34m\u001b[0m\u001b[0;34m\u001b[0m\u001b[0m\n\u001b[0;32m--> 329\u001b[0;31m         \u001b[0mbatch_outs\u001b[0m \u001b[0;34m=\u001b[0m \u001b[0mf\u001b[0m\u001b[0;34m(\u001b[0m\u001b[0mins_batch\u001b[0m\u001b[0;34m)\u001b[0m\u001b[0;34m\u001b[0m\u001b[0m\n\u001b[0m\u001b[1;32m    330\u001b[0m         \u001b[0;32mif\u001b[0m \u001b[0;32mnot\u001b[0m \u001b[0misinstance\u001b[0m\u001b[0;34m(\u001b[0m\u001b[0mbatch_outs\u001b[0m\u001b[0;34m,\u001b[0m \u001b[0mlist\u001b[0m\u001b[0;34m)\u001b[0m\u001b[0;34m:\u001b[0m\u001b[0;34m\u001b[0m\u001b[0m\n\u001b[1;32m    331\u001b[0m           \u001b[0mbatch_outs\u001b[0m \u001b[0;34m=\u001b[0m \u001b[0;34m[\u001b[0m\u001b[0mbatch_outs\u001b[0m\u001b[0;34m]\u001b[0m\u001b[0;34m\u001b[0m\u001b[0m\n",
            "\u001b[0;32m/usr/local/lib/python2.7/dist-packages/tensorflow/python/keras/backend.pyc\u001b[0m in \u001b[0;36m__call__\u001b[0;34m(self, inputs)\u001b[0m\n\u001b[1;32m   3164\u001b[0m         \u001b[0mvalue\u001b[0m \u001b[0;34m=\u001b[0m \u001b[0mmath_ops\u001b[0m\u001b[0;34m.\u001b[0m\u001b[0mcast\u001b[0m\u001b[0;34m(\u001b[0m\u001b[0mvalue\u001b[0m\u001b[0;34m,\u001b[0m \u001b[0mtensor\u001b[0m\u001b[0;34m.\u001b[0m\u001b[0mdtype\u001b[0m\u001b[0;34m)\u001b[0m\u001b[0;34m\u001b[0m\u001b[0m\n\u001b[1;32m   3165\u001b[0m       \u001b[0mconverted_inputs\u001b[0m\u001b[0;34m.\u001b[0m\u001b[0mappend\u001b[0m\u001b[0;34m(\u001b[0m\u001b[0mvalue\u001b[0m\u001b[0;34m)\u001b[0m\u001b[0;34m\u001b[0m\u001b[0m\n\u001b[0;32m-> 3166\u001b[0;31m     \u001b[0moutputs\u001b[0m \u001b[0;34m=\u001b[0m \u001b[0mself\u001b[0m\u001b[0;34m.\u001b[0m\u001b[0m_graph_fn\u001b[0m\u001b[0;34m(\u001b[0m\u001b[0;34m*\u001b[0m\u001b[0mconverted_inputs\u001b[0m\u001b[0;34m)\u001b[0m\u001b[0;34m\u001b[0m\u001b[0m\n\u001b[0m\u001b[1;32m   3167\u001b[0m     return nest.pack_sequence_as(self._outputs_structure,\n\u001b[1;32m   3168\u001b[0m                                  [x.numpy() for x in outputs])\n",
            "\u001b[0;32m/usr/local/lib/python2.7/dist-packages/tensorflow/python/eager/function.pyc\u001b[0m in \u001b[0;36m__call__\u001b[0;34m(self, *args, **kwargs)\u001b[0m\n\u001b[1;32m    366\u001b[0m           \u001b[0;32mraise\u001b[0m \u001b[0mTypeError\u001b[0m\u001b[0;34m(\u001b[0m\u001b[0;34m\"Got two values for keyword '{}'.\"\u001b[0m\u001b[0;34m.\u001b[0m\u001b[0mformat\u001b[0m\u001b[0;34m(\u001b[0m\u001b[0munused_key\u001b[0m\u001b[0;34m)\u001b[0m\u001b[0;34m)\u001b[0m\u001b[0;34m\u001b[0m\u001b[0m\n\u001b[1;32m    367\u001b[0m       \u001b[0;32mraise\u001b[0m \u001b[0mTypeError\u001b[0m\u001b[0;34m(\u001b[0m\u001b[0;34m\"Keyword arguments {} unknown.\"\u001b[0m\u001b[0;34m.\u001b[0m\u001b[0mformat\u001b[0m\u001b[0;34m(\u001b[0m\u001b[0mkwargs\u001b[0m\u001b[0;34m.\u001b[0m\u001b[0mkeys\u001b[0m\u001b[0;34m(\u001b[0m\u001b[0;34m)\u001b[0m\u001b[0;34m)\u001b[0m\u001b[0;34m)\u001b[0m\u001b[0;34m\u001b[0m\u001b[0m\n\u001b[0;32m--> 368\u001b[0;31m     \u001b[0;32mreturn\u001b[0m \u001b[0mself\u001b[0m\u001b[0;34m.\u001b[0m\u001b[0m_call_flat\u001b[0m\u001b[0;34m(\u001b[0m\u001b[0margs\u001b[0m\u001b[0;34m)\u001b[0m\u001b[0;34m\u001b[0m\u001b[0m\n\u001b[0m\u001b[1;32m    369\u001b[0m \u001b[0;34m\u001b[0m\u001b[0m\n\u001b[1;32m    370\u001b[0m   \u001b[0;32mdef\u001b[0m \u001b[0m_filtered_call\u001b[0m\u001b[0;34m(\u001b[0m\u001b[0mself\u001b[0m\u001b[0;34m,\u001b[0m \u001b[0margs\u001b[0m\u001b[0;34m,\u001b[0m \u001b[0mkwargs\u001b[0m\u001b[0;34m)\u001b[0m\u001b[0;34m:\u001b[0m\u001b[0;34m\u001b[0m\u001b[0m\n",
            "\u001b[0;32m/usr/local/lib/python2.7/dist-packages/tensorflow/python/eager/function.pyc\u001b[0m in \u001b[0;36m_call_flat\u001b[0;34m(self, args)\u001b[0m\n\u001b[1;32m    431\u001b[0m     \u001b[0;31m# Only need to override the gradient in graph mode and when we have outputs.\u001b[0m\u001b[0;34m\u001b[0m\u001b[0;34m\u001b[0m\u001b[0m\n\u001b[1;32m    432\u001b[0m     \u001b[0;32mif\u001b[0m \u001b[0mcontext\u001b[0m\u001b[0;34m.\u001b[0m\u001b[0mexecuting_eagerly\u001b[0m\u001b[0;34m(\u001b[0m\u001b[0;34m)\u001b[0m \u001b[0;32mor\u001b[0m \u001b[0;32mnot\u001b[0m \u001b[0mself\u001b[0m\u001b[0;34m.\u001b[0m\u001b[0moutputs\u001b[0m\u001b[0;34m:\u001b[0m\u001b[0;34m\u001b[0m\u001b[0m\n\u001b[0;32m--> 433\u001b[0;31m       \u001b[0moutputs\u001b[0m \u001b[0;34m=\u001b[0m \u001b[0mself\u001b[0m\u001b[0;34m.\u001b[0m\u001b[0m_inference_function\u001b[0m\u001b[0;34m.\u001b[0m\u001b[0mcall\u001b[0m\u001b[0;34m(\u001b[0m\u001b[0mctx\u001b[0m\u001b[0;34m,\u001b[0m \u001b[0margs\u001b[0m\u001b[0;34m)\u001b[0m\u001b[0;34m\u001b[0m\u001b[0m\n\u001b[0m\u001b[1;32m    434\u001b[0m     \u001b[0;32melse\u001b[0m\u001b[0;34m:\u001b[0m\u001b[0;34m\u001b[0m\u001b[0m\n\u001b[1;32m    435\u001b[0m       \u001b[0;32mif\u001b[0m \u001b[0;32mnot\u001b[0m \u001b[0mself\u001b[0m\u001b[0;34m.\u001b[0m\u001b[0m_gradient_name\u001b[0m\u001b[0;34m:\u001b[0m\u001b[0;34m\u001b[0m\u001b[0m\n",
            "\u001b[0;32m/usr/local/lib/python2.7/dist-packages/tensorflow/python/eager/function.pyc\u001b[0m in \u001b[0;36mcall\u001b[0;34m(self, ctx, args)\u001b[0m\n\u001b[1;32m    267\u001b[0m           \u001b[0mexecuting_eagerly\u001b[0m\u001b[0;34m=\u001b[0m\u001b[0mexecuting_eagerly\u001b[0m\u001b[0;34m,\u001b[0m\u001b[0;34m\u001b[0m\u001b[0m\n\u001b[1;32m    268\u001b[0m           \u001b[0mconfig\u001b[0m\u001b[0;34m=\u001b[0m\u001b[0mfunction_call_options\u001b[0m\u001b[0;34m.\u001b[0m\u001b[0mconfig_proto_serialized\u001b[0m\u001b[0;34m,\u001b[0m\u001b[0;34m\u001b[0m\u001b[0m\n\u001b[0;32m--> 269\u001b[0;31m           executor_type=function_call_options.executor_type)\n\u001b[0m\u001b[1;32m    270\u001b[0m \u001b[0;34m\u001b[0m\u001b[0m\n\u001b[1;32m    271\u001b[0m     \u001b[0;32mif\u001b[0m \u001b[0mexecuting_eagerly\u001b[0m\u001b[0;34m:\u001b[0m\u001b[0;34m\u001b[0m\u001b[0m\n",
            "\u001b[0;32m/usr/local/lib/python2.7/dist-packages/tensorflow/python/ops/functional_ops.pyc\u001b[0m in \u001b[0;36mpartitioned_call\u001b[0;34m(args, f, tout, executing_eagerly, config, executor_type)\u001b[0m\n\u001b[1;32m   1081\u001b[0m       outputs = gen_functional_ops.stateful_partitioned_call(\n\u001b[1;32m   1082\u001b[0m           \u001b[0margs\u001b[0m\u001b[0;34m=\u001b[0m\u001b[0margs\u001b[0m\u001b[0;34m,\u001b[0m \u001b[0mTout\u001b[0m\u001b[0;34m=\u001b[0m\u001b[0mtout\u001b[0m\u001b[0;34m,\u001b[0m \u001b[0mf\u001b[0m\u001b[0;34m=\u001b[0m\u001b[0mf\u001b[0m\u001b[0;34m,\u001b[0m \u001b[0mconfig_proto\u001b[0m\u001b[0;34m=\u001b[0m\u001b[0mconfig\u001b[0m\u001b[0;34m,\u001b[0m\u001b[0;34m\u001b[0m\u001b[0m\n\u001b[0;32m-> 1083\u001b[0;31m           executor_type=executor_type)\n\u001b[0m\u001b[1;32m   1084\u001b[0m     \u001b[0;32melse\u001b[0m\u001b[0;34m:\u001b[0m\u001b[0;34m\u001b[0m\u001b[0m\n\u001b[1;32m   1085\u001b[0m       outputs = gen_functional_ops.partitioned_call(\n",
            "\u001b[0;32m/usr/local/lib/python2.7/dist-packages/tensorflow/python/ops/gen_functional_ops.pyc\u001b[0m in \u001b[0;36mstateful_partitioned_call\u001b[0;34m(args, Tout, f, config, config_proto, executor_type, name)\u001b[0m\n\u001b[1;32m    481\u001b[0m         \u001b[0;34m\"StatefulPartitionedCall\"\u001b[0m\u001b[0;34m,\u001b[0m \u001b[0mname\u001b[0m\u001b[0;34m,\u001b[0m \u001b[0m_ctx\u001b[0m\u001b[0;34m.\u001b[0m\u001b[0m_post_execution_callbacks\u001b[0m\u001b[0;34m,\u001b[0m \u001b[0margs\u001b[0m\u001b[0;34m,\u001b[0m\u001b[0;34m\u001b[0m\u001b[0m\n\u001b[1;32m    482\u001b[0m         \u001b[0;34m\"Tout\"\u001b[0m\u001b[0;34m,\u001b[0m \u001b[0mTout\u001b[0m\u001b[0;34m,\u001b[0m \u001b[0;34m\"f\"\u001b[0m\u001b[0;34m,\u001b[0m \u001b[0mf\u001b[0m\u001b[0;34m,\u001b[0m \u001b[0;34m\"config\"\u001b[0m\u001b[0;34m,\u001b[0m \u001b[0mconfig\u001b[0m\u001b[0;34m,\u001b[0m \u001b[0;34m\"config_proto\"\u001b[0m\u001b[0;34m,\u001b[0m \u001b[0mconfig_proto\u001b[0m\u001b[0;34m,\u001b[0m\u001b[0;34m\u001b[0m\u001b[0m\n\u001b[0;32m--> 483\u001b[0;31m         \"executor_type\", executor_type)\n\u001b[0m\u001b[1;32m    484\u001b[0m       \u001b[0;32mreturn\u001b[0m \u001b[0m_result\u001b[0m\u001b[0;34m\u001b[0m\u001b[0m\n\u001b[1;32m    485\u001b[0m     \u001b[0;32mexcept\u001b[0m \u001b[0m_core\u001b[0m\u001b[0;34m.\u001b[0m\u001b[0m_FallbackException\u001b[0m\u001b[0;34m:\u001b[0m\u001b[0;34m\u001b[0m\u001b[0m\n",
            "\u001b[0;31mKeyboardInterrupt\u001b[0m: "
          ]
        },
        {
          "output_type": "display_data",
          "data": {
            "image/png": "[encoded data removed]",
            "text/plain": [
              "<Figure size 432x288 with 1 Axes>"
            ]
          },
          "metadata": {
            "tags": []
          }
        }
      ]
    },
    {
      "cell_type": "code",
      "metadata": {
        "id": "5L_MeoXbW5RG",
        "colab_type": "code",
        "outputId": "5633aac3-aad9-44f6-e93d-fd0b3fa9a745",
        "colab": {
          "base_uri": "https://localhost:8080/",
          "height": 906
        }
      },
      "source": [
        "cartpole_model2 = create_cartpole_model2()\n",
        "\n",
        "smoothed_reward = util.LossHistory(smoothing_factor=0.9)\n",
        "plotter = util.PeriodicPlotter(sec=5, xlabel='Iterations', ylabel='Rewards')\n",
        "\n",
        "\n",
        "for i_episode in range(1000):\n",
        "\n",
        "  plotter.plot(smoothed_reward.get())\n",
        "\n",
        "  # Restart the environment\n",
        "  observation = env.reset()\n",
        "\n",
        "  while True:\n",
        "      # using our observation, take an action\n",
        "      action = choose_action(cartpole_model2, observation)\n",
        "      next_observation, reward, done, info = env.step(action)\n",
        "      # add to memory\n",
        "      memory.add_to_memory(observation, action, reward)\n",
        "      \n",
        "      # is the episode over? did you crash or do so well that you're done?\n",
        "      if done:\n",
        "          # determine total reward and keep a record of this\n",
        "          total_reward = sum(memory.rewards)\n",
        "          smoothed_reward.append( total_reward )\n",
        "          \n",
        "          # initiate training - remember we don't know anything about how the agent is doing until it's crashed!\n",
        "          train_step(cartpole_model2, \n",
        "                     optimizer, \n",
        "                     observations = np.vstack(memory.observations),\n",
        "                     actions = np.array(memory.actions),\n",
        "                     discounted_rewards = discount_rewards(memory.rewards)\n",
        "                    )\n",
        "          \n",
        "          memory.clear()\n",
        "          break\n",
        "      # update our observatons\n",
        "      observation = next_observation"
      ],
      "execution_count": 0,
      "outputs": [
        {
          "output_type": "display_data",
          "data": {
            "image/png": "[encoded data removed]",
            "text/plain": [
              "<Figure size 432x288 with 1 Axes>"
            ]
          },
          "metadata": {
            "tags": []
          }
        },
        {
          "output_type": "error",
          "ename": "KeyboardInterrupt",
          "evalue": "ignored",
          "traceback": [
            "\u001b[0;31m\u001b[0m",
            "\u001b[0;31mKeyboardInterrupt\u001b[0mTraceback (most recent call last)",
            "\u001b[0;32m<ipython-input-41-3c4fce83cb8a>\u001b[0m in \u001b[0;36m<module>\u001b[0;34m()\u001b[0m\n\u001b[1;32m     14\u001b[0m   \u001b[0;32mwhile\u001b[0m \u001b[0mTrue\u001b[0m\u001b[0;34m:\u001b[0m\u001b[0;34m\u001b[0m\u001b[0m\n\u001b[1;32m     15\u001b[0m       \u001b[0;31m# using our observation, take an action\u001b[0m\u001b[0;34m\u001b[0m\u001b[0;34m\u001b[0m\u001b[0m\n\u001b[0;32m---> 16\u001b[0;31m       \u001b[0maction\u001b[0m \u001b[0;34m=\u001b[0m \u001b[0mchoose_action\u001b[0m\u001b[0;34m(\u001b[0m\u001b[0mcartpole_model2\u001b[0m\u001b[0;34m,\u001b[0m \u001b[0mobservation\u001b[0m\u001b[0;34m)\u001b[0m\u001b[0;34m\u001b[0m\u001b[0m\n\u001b[0m\u001b[1;32m     17\u001b[0m       \u001b[0mnext_observation\u001b[0m\u001b[0;34m,\u001b[0m \u001b[0mreward\u001b[0m\u001b[0;34m,\u001b[0m \u001b[0mdone\u001b[0m\u001b[0;34m,\u001b[0m \u001b[0minfo\u001b[0m \u001b[0;34m=\u001b[0m \u001b[0menv\u001b[0m\u001b[0;34m.\u001b[0m\u001b[0mstep\u001b[0m\u001b[0;34m(\u001b[0m\u001b[0maction\u001b[0m\u001b[0;34m)\u001b[0m\u001b[0;34m\u001b[0m\u001b[0m\n\u001b[1;32m     18\u001b[0m       \u001b[0;31m# add to memory\u001b[0m\u001b[0;34m\u001b[0m\u001b[0;34m\u001b[0m\u001b[0m\n",
            "\u001b[0;32m<ipython-input-25-8ae7dab6020f>\u001b[0m in \u001b[0;36mchoose_action\u001b[0;34m(model, observation)\u001b[0m\n\u001b[1;32m      6\u001b[0m \u001b[0;34m\u001b[0m\u001b[0m\n\u001b[1;32m      7\u001b[0m   \u001b[0;31m# pass the log probabilities through a softmax to compute true probabilities\u001b[0m\u001b[0;34m\u001b[0m\u001b[0;34m\u001b[0m\u001b[0m\n\u001b[0;32m----> 8\u001b[0;31m   \u001b[0mprob_weights\u001b[0m \u001b[0;34m=\u001b[0m \u001b[0mtf\u001b[0m\u001b[0;34m.\u001b[0m\u001b[0mnn\u001b[0m\u001b[0;34m.\u001b[0m\u001b[0msoftmax\u001b[0m\u001b[0;34m(\u001b[0m\u001b[0mlogits\u001b[0m\u001b[0;34m)\u001b[0m\u001b[0;34m.\u001b[0m\u001b[0mnumpy\u001b[0m\u001b[0;34m(\u001b[0m\u001b[0;34m)\u001b[0m\u001b[0;34m\u001b[0m\u001b[0m\n\u001b[0m\u001b[1;32m      9\u001b[0m \u001b[0;34m\u001b[0m\u001b[0m\n\u001b[1;32m     10\u001b[0m   '''TODO: randomly sample from the prob_weights to pick an action.\n",
            "\u001b[0;32m/usr/local/lib/python2.7/dist-packages/tensorflow/python/util/deprecation.pyc\u001b[0m in \u001b[0;36mnew_func\u001b[0;34m(*args, **kwargs)\u001b[0m\n\u001b[1;32m    505\u001b[0m                 \u001b[0;34m'in a future version'\u001b[0m \u001b[0;32mif\u001b[0m \u001b[0mdate\u001b[0m \u001b[0;32mis\u001b[0m \u001b[0mNone\u001b[0m \u001b[0;32melse\u001b[0m \u001b[0;34m(\u001b[0m\u001b[0;34m'after %s'\u001b[0m \u001b[0;34m%\u001b[0m \u001b[0mdate\u001b[0m\u001b[0;34m)\u001b[0m\u001b[0;34m,\u001b[0m\u001b[0;34m\u001b[0m\u001b[0m\n\u001b[1;32m    506\u001b[0m                 instructions)\n\u001b[0;32m--> 507\u001b[0;31m       \u001b[0;32mreturn\u001b[0m \u001b[0mfunc\u001b[0m\u001b[0;34m(\u001b[0m\u001b[0;34m*\u001b[0m\u001b[0margs\u001b[0m\u001b[0;34m,\u001b[0m \u001b[0;34m**\u001b[0m\u001b[0mkwargs\u001b[0m\u001b[0;34m)\u001b[0m\u001b[0;34m\u001b[0m\u001b[0m\n\u001b[0m\u001b[1;32m    508\u001b[0m \u001b[0;34m\u001b[0m\u001b[0m\n\u001b[1;32m    509\u001b[0m     doc = _add_deprecated_arg_notice_to_docstring(\n",
            "\u001b[0;32m/usr/local/lib/python2.7/dist-packages/tensorflow/python/ops/nn_ops.pyc\u001b[0m in \u001b[0;36msoftmax\u001b[0;34m(logits, axis, name, dim)\u001b[0m\n\u001b[1;32m   2222\u001b[0m   \u001b[0;32mif\u001b[0m \u001b[0maxis\u001b[0m \u001b[0;32mis\u001b[0m \u001b[0mNone\u001b[0m\u001b[0;34m:\u001b[0m\u001b[0;34m\u001b[0m\u001b[0m\n\u001b[1;32m   2223\u001b[0m     \u001b[0maxis\u001b[0m \u001b[0;34m=\u001b[0m \u001b[0;34m-\u001b[0m\u001b[0;36m1\u001b[0m\u001b[0;34m\u001b[0m\u001b[0m\n\u001b[0;32m-> 2224\u001b[0;31m   \u001b[0;32mreturn\u001b[0m \u001b[0m_softmax\u001b[0m\u001b[0;34m(\u001b[0m\u001b[0mlogits\u001b[0m\u001b[0;34m,\u001b[0m \u001b[0mgen_nn_ops\u001b[0m\u001b[0;34m.\u001b[0m\u001b[0msoftmax\u001b[0m\u001b[0;34m,\u001b[0m \u001b[0maxis\u001b[0m\u001b[0;34m,\u001b[0m \u001b[0mname\u001b[0m\u001b[0;34m)\u001b[0m\u001b[0;34m\u001b[0m\u001b[0m\n\u001b[0m\u001b[1;32m   2225\u001b[0m \u001b[0;34m\u001b[0m\u001b[0m\n\u001b[1;32m   2226\u001b[0m \u001b[0;34m\u001b[0m\u001b[0m\n",
            "\u001b[0;32m/usr/local/lib/python2.7/dist-packages/tensorflow/python/ops/nn_ops.pyc\u001b[0m in \u001b[0;36m_softmax\u001b[0;34m(logits, compute_op, dim, name)\u001b[0m\n\u001b[1;32m   2155\u001b[0m \u001b[0;34m\u001b[0m\u001b[0m\n\u001b[1;32m   2156\u001b[0m   \u001b[0;32mif\u001b[0m \u001b[0mis_last_dim\u001b[0m\u001b[0;34m:\u001b[0m\u001b[0;34m\u001b[0m\u001b[0m\n\u001b[0;32m-> 2157\u001b[0;31m     \u001b[0;32mreturn\u001b[0m \u001b[0mcompute_op\u001b[0m\u001b[0;34m(\u001b[0m\u001b[0mlogits\u001b[0m\u001b[0;34m,\u001b[0m \u001b[0mname\u001b[0m\u001b[0;34m=\u001b[0m\u001b[0mname\u001b[0m\u001b[0;34m)\u001b[0m\u001b[0;34m\u001b[0m\u001b[0m\n\u001b[0m\u001b[1;32m   2158\u001b[0m \u001b[0;34m\u001b[0m\u001b[0m\n\u001b[1;32m   2159\u001b[0m   \u001b[0mdim_val\u001b[0m \u001b[0;34m=\u001b[0m \u001b[0mdim\u001b[0m\u001b[0;34m\u001b[0m\u001b[0m\n",
            "\u001b[0;32m/usr/local/lib/python2.7/dist-packages/tensorflow/python/ops/gen_nn_ops.pyc\u001b[0m in \u001b[0;36msoftmax\u001b[0;34m(logits, name)\u001b[0m\n\u001b[1;32m   7767\u001b[0m       _result = _pywrap_tensorflow.TFE_Py_FastPathExecute(\n\u001b[1;32m   7768\u001b[0m         \u001b[0m_ctx\u001b[0m\u001b[0;34m.\u001b[0m\u001b[0m_context_handle\u001b[0m\u001b[0;34m,\u001b[0m \u001b[0m_ctx\u001b[0m\u001b[0;34m.\u001b[0m\u001b[0m_eager_context\u001b[0m\u001b[0;34m.\u001b[0m\u001b[0mdevice_name\u001b[0m\u001b[0;34m,\u001b[0m \u001b[0;34m\"Softmax\"\u001b[0m\u001b[0;34m,\u001b[0m\u001b[0;34m\u001b[0m\u001b[0m\n\u001b[0;32m-> 7769\u001b[0;31m         name, _ctx._post_execution_callbacks, logits)\n\u001b[0m\u001b[1;32m   7770\u001b[0m       \u001b[0;32mreturn\u001b[0m \u001b[0m_result\u001b[0m\u001b[0;34m\u001b[0m\u001b[0m\n\u001b[1;32m   7771\u001b[0m     \u001b[0;32mexcept\u001b[0m \u001b[0m_core\u001b[0m\u001b[0;34m.\u001b[0m\u001b[0m_FallbackException\u001b[0m\u001b[0;34m:\u001b[0m\u001b[0;34m\u001b[0m\u001b[0m\n",
            "\u001b[0;31mKeyboardInterrupt\u001b[0m: "
          ]
        },
        {
          "output_type": "display_data",
          "data": {
            "image/png": "[encoded data removed]",
            "text/plain": [
              "<Figure size 432x288 with 1 Axes>"
            ]
          },
          "metadata": {
            "tags": []
          }
        }
      ]
    },
    {
      "cell_type": "markdown",
      "metadata": {
        "id": "mkcUtGF1VE-K",
        "colab_type": "text"
      },
      "source": [
        "### 1.6 Save a video of the trained model while it is balancing the pole"
      ]
    },
    {
      "cell_type": "code",
      "metadata": {
        "id": "M40RoTBxo3HD",
        "colab_type": "code",
        "colab": {}
      },
      "source": [
        "def save_video_of_model(model, env_name, filename='agent.mp4'):  \n",
        "  import skvideo.io\n",
        "  from pyvirtualdisplay import Display\n",
        "  display = Display(visible=0, size=(40, 30))\n",
        "  display.start()\n",
        "\n",
        "  env = gym.make(env_name)\n",
        "  obs = env.reset()\n",
        "  shape = env.render(mode='rgb_array').shape[0:2]\n",
        "\n",
        "  out = skvideo.io.FFmpegWriter(filename)\n",
        "\n",
        "  done = False\n",
        "  while not done: \n",
        "      frame = env.render(mode='rgb_array')\n",
        "      out.writeFrame(frame)\n",
        "      \n",
        "      action = model(tf.convert_to_tensor(obs.reshape((1,-1)), tf.float32)).numpy().argmax()\n",
        "      obs, reward, done, info = env.step(action)\n",
        "  out.close()\n",
        "  print \"Successfully saved into {}!\".format(filename)\n",
        "\n",
        "save_video_of_model(cartpole_model, \"CartPole-v0\", filename='agent1.mp4')\n",
        "save_video_of_model(cartpole_model2, \"CartPole-v0\", filename='agent2.mp4')\n"
      ],
      "execution_count": 0,
      "outputs": []
    },
    {
      "cell_type": "markdown",
      "metadata": {
        "id": "dvvqdwO7VV_L",
        "colab_type": "text"
      },
      "source": [
        "### 1.7 Display the saved video\n"
      ]
    },
    {
      "cell_type": "code",
      "metadata": {
        "id": "DBjhWQ0XwQ1d",
        "colab_type": "code",
        "outputId": "ef6460d7-b74e-4748-cd05-4c6045daa6e9",
        "colab": {
          "base_uri": "https://localhost:8080/",
          "height": 421
        }
      },
      "source": [
        "from IPython.display import HTML\n",
        "import io, base64\n",
        "video = io.open('./agent1.mp4', 'r+b').read()\n",
        "encoded = base64.b64encode(video)\n",
        "HTML(data='''\n",
        "<video controls>\n",
        "    <source src=\"data:video/mp4;base64,{0}\" type=\"video/mp4\" />\n",
        "</video>'''.format(encoded.decode('ascii')))"
      ],
      "execution_count": 0,
      "outputs": [
        {
          "output_type": "execute_result",
          "data": {
            "text/html": [
              "\n",
              "<video controls>\n",
              "    <source src=\"data:video/mp4;base64,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\" type=\"video/mp4\" />\n",
              "</video>"
            ],
            "text/plain": [
              "<IPython.core.display.HTML object>"
            ]
          },
          "metadata": {
            "tags": []
          },
          "execution_count": 24
        }
      ]
    },
    {
      "cell_type": "code",
      "metadata": {
        "id": "6wz0dVlCYu9P",
        "colab_type": "code",
        "outputId": "9fd33b5c-e155-46b7-b00d-2b003cbe2b0b",
        "colab": {
          "base_uri": "https://localhost:8080/",
          "height": 421
        }
      },
      "source": [
        "from IPython.display import HTML\n",
        "import io, base64\n",
        "video = io.open('./agent2.mp4', 'r+b').read()\n",
        "encoded = base64.b64encode(video)\n",
        "HTML(data='''\n",
        "<video controls>\n",
        "    <source src=\"data:video/mp4;base64,{0}\" type=\"video/mp4\" />\n",
        "</video>'''.format(encoded.decode('ascii')))"
      ],
      "execution_count": 0,
      "outputs": [
        {
          "output_type": "execute_result",
          "data": {
            "text/html": [
              "\n",
              "<video controls>\n",
              "    <source src=\"data:video/mp4;base64,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\" type=\"video/mp4\" />\n",
              "</video>"
            ],
            "text/plain": [
              "<IPython.core.display.HTML object>"
            ]
          },
          "metadata": {
            "tags": []
          },
          "execution_count": 25
        }
      ]
    },
    {
      "cell_type": "markdown",
      "metadata": {
        "id": "CSbVNDpaVb3_",
        "colab_type": "text"
      },
      "source": [
        "Congratulations, well done! How does the agent perform? Could you train it for shorter amounts of time and still perform well? Would training longer help even more? "
      ]
    },
    {
      "cell_type": "markdown",
      "metadata": {
        "id": "Eu6Mqxc720ST",
        "colab_type": "text"
      },
      "source": [
        "#Part 2: Pong\n",
        "\n",
        "In Cart Pole, we dealt with an environment that was static--in other words, it didn't change over time. What happens if our environment is dynamic and unpredictable? Well that's exactly the case in Pong, since part of the environment is our opposing player. We don't know how our opponent will act or react to our actions, so the complexity of our problem increases. It also becomes much more interesting, since we can compete to beat our opponent."
      ]
    },
    {
      "cell_type": "markdown",
      "metadata": {
        "id": "srZ4YE29isuA",
        "colab_type": "text"
      },
      "source": [
        "### 2.1 Define and inspect the environment"
      ]
    },
    {
      "cell_type": "code",
      "metadata": {
        "id": "lbYHLr66i15n",
        "colab_type": "code",
        "colab": {}
      },
      "source": [
        "env = gym.make(\"Pong-v0\")\n",
        "env.seed(1) # reproducible, since RL has high variance"
      ],
      "execution_count": 0,
      "outputs": []
    },
    {
      "cell_type": "markdown",
      "metadata": {
        "id": "52uZ2Xhyi-MW",
        "colab_type": "text"
      },
      "source": [
        "Observations: \n",
        "\n",
        "1. RGB image of shape (210, 160, 3)\n",
        "\n",
        "We can again confirm the size of the observation space by query:"
      ]
    },
    {
      "cell_type": "code",
      "metadata": {
        "id": "0yX4GWvxjnHS",
        "colab_type": "code",
        "outputId": "591a702b-141c-475e-9cac-ceab285f486b",
        "colab": {
          "base_uri": "https://localhost:8080/",
          "height": 34
        }
      },
      "source": [
        "print \"Enviornment has observation space = {}\".format(env.observation_space)"
      ],
      "execution_count": 0,
      "outputs": [
        {
          "output_type": "stream",
          "text": [
            "Enviornment has observation space = Box(210, 160, 3)\n"
          ],
          "name": "stdout"
        }
      ]
    },
    {
      "cell_type": "markdown",
      "metadata": {
        "id": "uuEC2TdSjx9D",
        "colab_type": "text"
      },
      "source": [
        "At every time step, the agent has six actions to choose from: noop, fire, move right, move left, fire right, and fire left. Let's confirm the size of the action space by querying the environment:"
      ]
    },
    {
      "cell_type": "code",
      "metadata": {
        "id": "Iuy9oPc1kag3",
        "colab_type": "code",
        "outputId": "20405350-bc2a-4e08-f434-473321e4db39",
        "colab": {
          "base_uri": "https://localhost:8080/",
          "height": 34
        }
      },
      "source": [
        "n_actions = env.action_space.n\n",
        "print \"Number of possible actions that the agent can choose from = {}\".format(n_actions)"
      ],
      "execution_count": 0,
      "outputs": [
        {
          "output_type": "stream",
          "text": [
            "Number of possible actions that the agent can choose from = 6\n"
          ],
          "name": "stdout"
        }
      ]
    },
    {
      "cell_type": "markdown",
      "metadata": {
        "id": "9-fghDRigUE5",
        "colab_type": "text"
      },
      "source": [
        "### 2.2 Define the Agent\n",
        "\n",
        "We'll define our agent again, but this time, we'll add convolutional layers to the network to increase the learning capacity of our network."
      ]
    },
    {
      "cell_type": "code",
      "metadata": {
        "id": "IJiqbFYpgYRH",
        "colab_type": "code",
        "colab": {}
      },
      "source": [
        "def create_pong_model():\n",
        "  model = tf.keras.models.Sequential([\n",
        "      # Define and reshape inputs\n",
        "      tf.keras.layers.InputLayer(input_shape=(6400,), dtype=tf.float32),\n",
        "      tf.keras.layers.Reshape((80, 80, 1)),\n",
        "      \n",
        "      # Convolutional layers\n",
        "      tf.keras.layers.Conv2D(filters=16, kernel_size=(8,8), strides=(4,4), activation='relu', padding='same'),\n",
        "      # TODO: define a convolutional layer with 32 4x4 filters and 2x2 stride, ReLu activation\n",
        "      tf.keras.layers.Conv2D(filters=32, kernel_size=(4,4),strides=(2,2), activation='relu', padding='same'), # TODO\n",
        "      tf.keras.layers.Flatten(),\n",
        "      \n",
        "      # Fully connected layer and output\n",
        "      tf.keras.layers.Dense(units=256, activation='relu'),\n",
        "      # TODO: define the output dimension of the last Dense layer\n",
        "      # Hint: think about that the space the agent needs to act in\n",
        "      tf.keras.layers.Dense(units=6, activation=None) # TODO\n",
        "  ])\n",
        "  return model\n",
        "\n",
        "pong_model = create_pong_model()"
      ],
      "execution_count": 0,
      "outputs": []
    },
    {
      "cell_type": "markdown",
      "metadata": {
        "id": "yaeZ067olFiJ",
        "colab_type": "text"
      },
      "source": [
        "Since we've already defined the action function, `choose_action(model, observation)`, we don't need to define it again. Instead, we'll be able to reuse it later on by passing in our new model we've just created, `pong_model`. "
      ]
    },
    {
      "cell_type": "markdown",
      "metadata": {
        "id": "l0RvqOVkmc2r",
        "colab_type": "text"
      },
      "source": [
        "### 2.3 Helper Functions"
      ]
    },
    {
      "cell_type": "markdown",
      "metadata": {
        "id": "g4xtfog0mupM",
        "colab_type": "text"
      },
      "source": [
        "We've already implemented some functions in Part 1 (Cartpole), so we won't need to recreate them in this section. However, we might need to make some slight modifications. For example, we need to reset the reward to zero when a game ends. In Pong, we know a game has ended if the reward is +1 (we won!) or -1 (we lost unfortunately). Otherwise, we expect the reward at a timestep to be zero. Also, note that we've increased gamma from 0.95 to 0.99, so the rate of decay will be even more rapid."
      ]
    },
    {
      "cell_type": "code",
      "metadata": {
        "id": "iEZG2o50luLu",
        "colab_type": "code",
        "colab": {}
      },
      "source": [
        "def discount_rewards(rewards, gamma=0.99): \n",
        "  discounted_rewards = np.zeros_like(rewards)\n",
        "  R = 0\n",
        "  for t in reversed(range(0, len(rewards))):\n",
        "      # NEW: Reset sum\n",
        "      if rewards[t] != 0:\n",
        "        R = 0\n",
        "      # update the total discounted reward as before\n",
        "      R = R * gamma + rewards[t]\n",
        "      discounted_rewards[t] = R\n",
        "      \n",
        "  return normalize(discounted_rewards)"
      ],
      "execution_count": 0,
      "outputs": []
    },
    {
      "cell_type": "markdown",
      "metadata": {
        "id": "HopLpb4IoOqA",
        "colab_type": "text"
      },
      "source": [
        "Before we input an image into our network, we'll need to pre-process it by converting it into a 1D array of floating point numbers:"
      ]
    },
    {
      "cell_type": "code",
      "metadata": {
        "id": "Drpkn38Goout",
        "colab_type": "code",
        "colab": {}
      },
      "source": [
        "def pre_process(image):\n",
        "  I = image[35:195] # Crop\n",
        "  I = I[::2, ::2, 0] # Downsample width and height by a factor of 2\n",
        "  I[I == 144] = 0 # Remove background type 1\n",
        "  I[I == 109] = 0 # Remove background type 2\n",
        "  I[I != 0] = 1 # Set remaining elements (paddles, ball, etc.) to 1\n",
        "  return I.astype(np.float).ravel()"
      ],
      "execution_count": 0,
      "outputs": []
    },
    {
      "cell_type": "markdown",
      "metadata": {
        "id": "-tP8_Bna6pgJ",
        "colab_type": "text"
      },
      "source": [
        "Let's use this function to visualize what an observation might look like before and after pre-processing"
      ]
    },
    {
      "cell_type": "code",
      "metadata": {
        "id": "no5IIYtFm8pI",
        "colab_type": "code",
        "outputId": "9cad81fa-f77c-4578-fa30-e0dac1efb008",
        "colab": {
          "base_uri": "https://localhost:8080/",
          "height": 298
        }
      },
      "source": [
        "observation = env.reset()\n",
        "for i in range(30):\n",
        "  observation, _,_,_ = env.step(0)\n",
        "observation_pp = pre_process(observation)\n",
        "\n",
        "f = plt.figure(figsize=(10,3))\n",
        "ax = f.add_subplot(121)\n",
        "ax2 = f.add_subplot(122)\n",
        "ax.imshow(observation); ax.grid('off');\n",
        "ax2.imshow(observation_pp.reshape((80,80))); ax2.grid('off'); plt.title('Preprocessed Observation')"
      ],
      "execution_count": 0,
      "outputs": [
        {
          "output_type": "stream",
          "text": [
            "/usr/local/lib/python2.7/dist-packages/matplotlib/cbook/deprecation.py:107: MatplotlibDeprecationWarning: Passing one of 'on', 'true', 'off', 'false' as a boolean is deprecated; use an actual boolean (True/False) instead.\n",
            "  warnings.warn(message, mplDeprecation, stacklevel=1)\n"
          ],
          "name": "stderr"
        },
        {
          "output_type": "execute_result",
          "data": {
            "text/plain": [
              "Text(0.5,1,'Preprocessed Observation')"
            ]
          },
          "metadata": {
            "tags": []
          },
          "execution_count": 14
        },
        {
          "output_type": "display_data",
          "data": {
            "image/png": "[encoded data removed]",
            "text/plain": [
              "<Figure size 720x216 with 2 Axes>"
            ]
          },
          "metadata": {
            "tags": []
          }
        }
      ]
    },
    {
      "cell_type": "markdown",
      "metadata": {
        "id": "mRqcaDQ1pm3x",
        "colab_type": "text"
      },
      "source": [
        "### 2.4: Training\n",
        "We've already defined our loss function with `compute_loss`, which is great! If we want to use a different learning rate, though, we can reinitialize the `optimizer`:"
      ]
    },
    {
      "cell_type": "code",
      "metadata": {
        "id": "cIjRZ8JUqBLV",
        "colab_type": "code",
        "colab": {}
      },
      "source": [
        "learning_rate=1e-4\n",
        "optimizer = tf.train.AdamOptimizer(learning_rate)"
      ],
      "execution_count": 0,
      "outputs": []
    },
    {
      "cell_type": "markdown",
      "metadata": {
        "id": "IL2lMbTDn6Z3",
        "colab_type": "text"
      },
      "source": [
        "We can also implement a very simple variant of `plot_progress`. In Pong, rather than feeding our network one image at a time, it can actually improve performance to input the difference between two consecutive observations, which really gives us information about the movement between frames. We'll first pre-process the raw observation, `x`, and then we'll compute the difference with the image frame we saw one timestep before. We'll also increase the number of maximum iterations from 1000 to 10000, since we expect it to take many more iterations to learn a more complex game."
      ]
    },
    {
      "cell_type": "code",
      "metadata": {
        "id": "xCwyQQrPnkZG",
        "colab_type": "code",
        "outputId": "d85756ca-b075-4333-b423-c4ceee52bf4e",
        "colab": {
          "base_uri": "https://localhost:8080/",
          "height": 549
        }
      },
      "source": [
        "pong_model = create_pong_model()\n",
        "MAX_ITERS = 50\n",
        "\n",
        "smoothed_reward = util.LossHistory(smoothing_factor=0.9)\n",
        "plotter = util.PeriodicPlotter(sec=5, xlabel='Iterations', ylabel='Rewards')\n",
        "memory = Memory()\n",
        "\n",
        "for i_episode in range(MAX_ITERS):\n",
        "\n",
        "  plotter.plot(smoothed_reward.get())\n",
        "\n",
        "  # Restart the environment\n",
        "  observation = env.reset()\n",
        "  previous_frame = pre_process(observation)\n",
        "\n",
        "\n",
        "  while True:\n",
        "      # Pre-process image \n",
        "      current_frame = pre_process(observation)\n",
        "      \n",
        "      '''TODO: determine the observation change\n",
        "      Hint: this is the difference between the past two frames'''\n",
        "      obs_change = current_frame - previous_frame\n",
        "      \n",
        "      '''TODO: choose an action for the pong model, using the frame difference, and evaluate'''\n",
        "      action = choose_action(pong_model, obs_change)# TODO \n",
        "      # Take the chosen action\n",
        "      next_observation, reward, done, info = env.step(action)\n",
        "      '''TODO: save the observed frame difference, the action that was taken, and the resulting reward!'''\n",
        "      # TODO\n",
        "      memory.add_to_memory(obs_change, action, reward)\n",
        "      \n",
        "      # is the episode over? did you crash or do so well that you're done?\n",
        "      if done:\n",
        "          # determine total reward and keep a record of this\n",
        "          total_reward = sum(memory.rewards)\n",
        "          smoothed_reward.append( total_reward )\n",
        "          \n",
        "          # begin training\n",
        "          train_step(pong_model, \n",
        "                     optimizer, \n",
        "                     observations = np.vstack(memory.observations), \n",
        "                     actions = np.array(memory.actions),\n",
        "                     discounted_rewards = discount_rewards(memory.rewards))\n",
        "          \n",
        "          memory.clear()\n",
        "          break\n",
        "\n",
        "      observation = next_observation\n",
        "      previous_frame = current_frame"
      ],
      "execution_count": 0,
      "outputs": [
        {
          "output_type": "display_data",
          "data": {
            "image/png": "[encoded data removed]",
            "text/plain": [
              "<Figure size 432x288 with 1 Axes>"
            ]
          },
          "metadata": {
            "tags": []
          }
        },
        {
          "output_type": "display_data",
          "data": {
            "image/png": "[encoded data removed]",
            "text/plain": [
              "<Figure size 432x288 with 1 Axes>"
            ]
          },
          "metadata": {
            "tags": []
          }
        }
      ]
    },
    {
      "cell_type": "markdown",
      "metadata": {
        "id": "nwXjQH-puH5D",
        "colab_type": "text"
      },
      "source": [
        "### 2.5: Save and display video of training"
      ]
    },
    {
      "cell_type": "markdown",
      "metadata": {
        "id": "8LiEY5Y_ts-Z",
        "colab_type": "text"
      },
      "source": [
        "We can now save the video of our model learning:"
      ]
    },
    {
      "cell_type": "code",
      "metadata": {
        "id": "TvHXbkL0tR6M",
        "colab_type": "code",
        "outputId": "da694322-2f48-4cc1-c0ed-601545056bf5",
        "colab": {
          "base_uri": "https://localhost:8080/",
          "height": 306
        }
      },
      "source": [
        "save_video_of_model(pong_model, \"Pong-v0\", filename='pong_agent.mp4')  "
      ],
      "execution_count": 0,
      "outputs": [
        {
          "output_type": "error",
          "ename": "InvalidArgumentError",
          "evalue": "ignored",
          "traceback": [
            "\u001b[0;31m\u001b[0m",
            "\u001b[0;31mInvalidArgumentError\u001b[0mTraceback (most recent call last)",
            "\u001b[0;32m<ipython-input-19-62dba2052daf>\u001b[0m in \u001b[0;36m<module>\u001b[0;34m()\u001b[0m\n\u001b[0;32m----> 1\u001b[0;31m \u001b[0msave_video_of_model\u001b[0m\u001b[0;34m(\u001b[0m\u001b[0mpong_model\u001b[0m\u001b[0;34m,\u001b[0m \u001b[0;34m\"Pong-v0\"\u001b[0m\u001b[0;34m,\u001b[0m \u001b[0mfilename\u001b[0m\u001b[0;34m=\u001b[0m\u001b[0;34m'pong_agent.mp4'\u001b[0m\u001b[0;34m)\u001b[0m\u001b[0;34m\u001b[0m\u001b[0m\n\u001b[0m",
            "\u001b[0;32m<ipython-input-18-46ec817b89d8>\u001b[0m in \u001b[0;36msave_video_of_model\u001b[0;34m(model, env_name, filename)\u001b[0m\n\u001b[1;32m     16\u001b[0m       \u001b[0mout\u001b[0m\u001b[0;34m.\u001b[0m\u001b[0mwriteFrame\u001b[0m\u001b[0;34m(\u001b[0m\u001b[0mframe\u001b[0m\u001b[0;34m)\u001b[0m\u001b[0;34m\u001b[0m\u001b[0m\n\u001b[1;32m     17\u001b[0m \u001b[0;34m\u001b[0m\u001b[0m\n\u001b[0;32m---> 18\u001b[0;31m       \u001b[0maction\u001b[0m \u001b[0;34m=\u001b[0m \u001b[0mmodel\u001b[0m\u001b[0;34m(\u001b[0m\u001b[0mtf\u001b[0m\u001b[0;34m.\u001b[0m\u001b[0mconvert_to_tensor\u001b[0m\u001b[0;34m(\u001b[0m\u001b[0mobs\u001b[0m\u001b[0;34m.\u001b[0m\u001b[0mreshape\u001b[0m\u001b[0;34m(\u001b[0m\u001b[0;34m(\u001b[0m\u001b[0;36m1\u001b[0m\u001b[0;34m,\u001b[0m\u001b[0;34m-\u001b[0m\u001b[0;36m1\u001b[0m\u001b[0;34m)\u001b[0m\u001b[0;34m)\u001b[0m\u001b[0;34m,\u001b[0m \u001b[0mtf\u001b[0m\u001b[0;34m.\u001b[0m\u001b[0mfloat32\u001b[0m\u001b[0;34m)\u001b[0m\u001b[0;34m)\u001b[0m\u001b[0;34m.\u001b[0m\u001b[0mnumpy\u001b[0m\u001b[0;34m(\u001b[0m\u001b[0;34m)\u001b[0m\u001b[0;34m.\u001b[0m\u001b[0margmax\u001b[0m\u001b[0;34m(\u001b[0m\u001b[0;34m)\u001b[0m\u001b[0;34m\u001b[0m\u001b[0m\n\u001b[0m\u001b[1;32m     19\u001b[0m       \u001b[0mobs\u001b[0m\u001b[0;34m,\u001b[0m \u001b[0mreward\u001b[0m\u001b[0;34m,\u001b[0m \u001b[0mdone\u001b[0m\u001b[0;34m,\u001b[0m \u001b[0minfo\u001b[0m \u001b[0;34m=\u001b[0m \u001b[0menv\u001b[0m\u001b[0;34m.\u001b[0m\u001b[0mstep\u001b[0m\u001b[0;34m(\u001b[0m\u001b[0maction\u001b[0m\u001b[0;34m)\u001b[0m\u001b[0;34m\u001b[0m\u001b[0m\n\u001b[1;32m     20\u001b[0m   \u001b[0mout\u001b[0m\u001b[0;34m.\u001b[0m\u001b[0mclose\u001b[0m\u001b[0;34m(\u001b[0m\u001b[0;34m)\u001b[0m\u001b[0;34m\u001b[0m\u001b[0m\n",
            "\u001b[0;32m/usr/local/lib/python2.7/dist-packages/tensorflow/python/keras/engine/base_layer.pyc\u001b[0m in \u001b[0;36m__call__\u001b[0;34m(self, inputs, *args, **kwargs)\u001b[0m\n\u001b[1;32m    590\u001b[0m       \u001b[0;32melse\u001b[0m\u001b[0;34m:\u001b[0m\u001b[0;34m\u001b[0m\u001b[0m\n\u001b[1;32m    591\u001b[0m         \u001b[0;31m# Eager execution on data tensors.\u001b[0m\u001b[0;34m\u001b[0m\u001b[0;34m\u001b[0m\u001b[0m\n\u001b[0;32m--> 592\u001b[0;31m         \u001b[0moutputs\u001b[0m \u001b[0;34m=\u001b[0m \u001b[0mself\u001b[0m\u001b[0;34m.\u001b[0m\u001b[0mcall\u001b[0m\u001b[0;34m(\u001b[0m\u001b[0minputs\u001b[0m\u001b[0;34m,\u001b[0m \u001b[0;34m*\u001b[0m\u001b[0margs\u001b[0m\u001b[0;34m,\u001b[0m \u001b[0;34m**\u001b[0m\u001b[0mkwargs\u001b[0m\u001b[0;34m)\u001b[0m\u001b[0;34m\u001b[0m\u001b[0m\n\u001b[0m\u001b[1;32m    593\u001b[0m         \u001b[0mself\u001b[0m\u001b[0;34m.\u001b[0m\u001b[0m_handle_activity_regularization\u001b[0m\u001b[0;34m(\u001b[0m\u001b[0minputs\u001b[0m\u001b[0;34m,\u001b[0m \u001b[0moutputs\u001b[0m\u001b[0;34m)\u001b[0m\u001b[0;34m\u001b[0m\u001b[0m\n\u001b[1;32m    594\u001b[0m         \u001b[0;32mreturn\u001b[0m \u001b[0moutputs\u001b[0m\u001b[0;34m\u001b[0m\u001b[0m\n",
            "\u001b[0;32m/usr/local/lib/python2.7/dist-packages/tensorflow/python/keras/engine/sequential.pyc\u001b[0m in \u001b[0;36mcall\u001b[0;34m(self, inputs, training, mask)\u001b[0m\n\u001b[1;32m    228\u001b[0m   \u001b[0;32mdef\u001b[0m \u001b[0mcall\u001b[0m\u001b[0;34m(\u001b[0m\u001b[0mself\u001b[0m\u001b[0;34m,\u001b[0m \u001b[0minputs\u001b[0m\u001b[0;34m,\u001b[0m \u001b[0mtraining\u001b[0m\u001b[0;34m=\u001b[0m\u001b[0mNone\u001b[0m\u001b[0;34m,\u001b[0m \u001b[0mmask\u001b[0m\u001b[0;34m=\u001b[0m\u001b[0mNone\u001b[0m\u001b[0;34m)\u001b[0m\u001b[0;34m:\u001b[0m\u001b[0;34m\u001b[0m\u001b[0m\n\u001b[1;32m    229\u001b[0m     \u001b[0;32mif\u001b[0m \u001b[0mself\u001b[0m\u001b[0;34m.\u001b[0m\u001b[0m_is_graph_network\u001b[0m\u001b[0;34m:\u001b[0m\u001b[0;34m\u001b[0m\u001b[0m\n\u001b[0;32m--> 230\u001b[0;31m       \u001b[0;32mreturn\u001b[0m \u001b[0msuper\u001b[0m\u001b[0;34m(\u001b[0m\u001b[0mSequential\u001b[0m\u001b[0;34m,\u001b[0m \u001b[0mself\u001b[0m\u001b[0;34m)\u001b[0m\u001b[0;34m.\u001b[0m\u001b[0mcall\u001b[0m\u001b[0;34m(\u001b[0m\u001b[0minputs\u001b[0m\u001b[0;34m,\u001b[0m \u001b[0mtraining\u001b[0m\u001b[0;34m=\u001b[0m\u001b[0mtraining\u001b[0m\u001b[0;34m,\u001b[0m \u001b[0mmask\u001b[0m\u001b[0;34m=\u001b[0m\u001b[0mmask\u001b[0m\u001b[0;34m)\u001b[0m\u001b[0;34m\u001b[0m\u001b[0m\n\u001b[0m\u001b[1;32m    231\u001b[0m \u001b[0;34m\u001b[0m\u001b[0m\n\u001b[1;32m    232\u001b[0m     outputs, _ = self._call_and_compute_mask(\n",
            "\u001b[0;32m/usr/local/lib/python2.7/dist-packages/tensorflow/python/keras/engine/network.pyc\u001b[0m in \u001b[0;36mcall\u001b[0;34m(self, inputs, training, mask)\u001b[0m\n\u001b[1;32m    813\u001b[0m     outputs, _ = self._run_internal_graph(inputs,\n\u001b[1;32m    814\u001b[0m                                           \u001b[0mtraining\u001b[0m\u001b[0;34m=\u001b[0m\u001b[0mtraining\u001b[0m\u001b[0;34m,\u001b[0m\u001b[0;34m\u001b[0m\u001b[0m\n\u001b[0;32m--> 815\u001b[0;31m                                           mask=masks)\n\u001b[0m\u001b[1;32m    816\u001b[0m     \u001b[0;32mreturn\u001b[0m \u001b[0moutputs\u001b[0m\u001b[0;34m\u001b[0m\u001b[0m\n\u001b[1;32m    817\u001b[0m \u001b[0;34m\u001b[0m\u001b[0m\n",
            "\u001b[0;32m/usr/local/lib/python2.7/dist-packages/tensorflow/python/keras/engine/network.pyc\u001b[0m in \u001b[0;36m_run_internal_graph\u001b[0;34m(self, inputs, training, mask)\u001b[0m\n\u001b[1;32m    998\u001b[0m               \u001b[0;32melse\u001b[0m\u001b[0;34m:\u001b[0m\u001b[0;34m\u001b[0m\u001b[0m\n\u001b[1;32m    999\u001b[0m                 \u001b[0;32mif\u001b[0m \u001b[0mcontext\u001b[0m\u001b[0;34m.\u001b[0m\u001b[0mexecuting_eagerly\u001b[0m\u001b[0;34m(\u001b[0m\u001b[0;34m)\u001b[0m\u001b[0;34m:\u001b[0m\u001b[0;34m\u001b[0m\u001b[0m\n\u001b[0;32m-> 1000\u001b[0;31m                   \u001b[0moutput_tensors\u001b[0m \u001b[0;34m=\u001b[0m \u001b[0mlayer\u001b[0m\u001b[0;34m(\u001b[0m\u001b[0mcomputed_tensor\u001b[0m\u001b[0;34m,\u001b[0m \u001b[0;34m**\u001b[0m\u001b[0mkwargs\u001b[0m\u001b[0;34m)\u001b[0m\u001b[0;34m\u001b[0m\u001b[0m\n\u001b[0m\u001b[1;32m   1001\u001b[0m                 \u001b[0;32melse\u001b[0m\u001b[0;34m:\u001b[0m\u001b[0;34m\u001b[0m\u001b[0m\n\u001b[1;32m   1002\u001b[0m                   \u001b[0moutput_tensors\u001b[0m \u001b[0;34m=\u001b[0m \u001b[0mlayer\u001b[0m\u001b[0;34m.\u001b[0m\u001b[0mcall\u001b[0m\u001b[0;34m(\u001b[0m\u001b[0mcomputed_tensor\u001b[0m\u001b[0;34m,\u001b[0m \u001b[0;34m**\u001b[0m\u001b[0mkwargs\u001b[0m\u001b[0;34m)\u001b[0m\u001b[0;34m\u001b[0m\u001b[0m\n",
            "\u001b[0;32m/usr/local/lib/python2.7/dist-packages/tensorflow/python/keras/engine/base_layer.pyc\u001b[0m in \u001b[0;36m__call__\u001b[0;34m(self, inputs, *args, **kwargs)\u001b[0m\n\u001b[1;32m    590\u001b[0m       \u001b[0;32melse\u001b[0m\u001b[0;34m:\u001b[0m\u001b[0;34m\u001b[0m\u001b[0m\n\u001b[1;32m    591\u001b[0m         \u001b[0;31m# Eager execution on data tensors.\u001b[0m\u001b[0;34m\u001b[0m\u001b[0;34m\u001b[0m\u001b[0m\n\u001b[0;32m--> 592\u001b[0;31m         \u001b[0moutputs\u001b[0m \u001b[0;34m=\u001b[0m \u001b[0mself\u001b[0m\u001b[0;34m.\u001b[0m\u001b[0mcall\u001b[0m\u001b[0;34m(\u001b[0m\u001b[0minputs\u001b[0m\u001b[0;34m,\u001b[0m \u001b[0;34m*\u001b[0m\u001b[0margs\u001b[0m\u001b[0;34m,\u001b[0m \u001b[0;34m**\u001b[0m\u001b[0mkwargs\u001b[0m\u001b[0;34m)\u001b[0m\u001b[0;34m\u001b[0m\u001b[0m\n\u001b[0m\u001b[1;32m    593\u001b[0m         \u001b[0mself\u001b[0m\u001b[0;34m.\u001b[0m\u001b[0m_handle_activity_regularization\u001b[0m\u001b[0;34m(\u001b[0m\u001b[0minputs\u001b[0m\u001b[0;34m,\u001b[0m \u001b[0moutputs\u001b[0m\u001b[0;34m)\u001b[0m\u001b[0;34m\u001b[0m\u001b[0m\n\u001b[1;32m    594\u001b[0m         \u001b[0;32mreturn\u001b[0m \u001b[0moutputs\u001b[0m\u001b[0;34m\u001b[0m\u001b[0m\n",
            "\u001b[0;32m/usr/local/lib/python2.7/dist-packages/tensorflow/python/keras/layers/core.pyc\u001b[0m in \u001b[0;36mcall\u001b[0;34m(self, inputs)\u001b[0m\n\u001b[1;32m    437\u001b[0m   \u001b[0;32mdef\u001b[0m \u001b[0mcall\u001b[0m\u001b[0;34m(\u001b[0m\u001b[0mself\u001b[0m\u001b[0;34m,\u001b[0m \u001b[0minputs\u001b[0m\u001b[0;34m)\u001b[0m\u001b[0;34m:\u001b[0m\u001b[0;34m\u001b[0m\u001b[0m\n\u001b[1;32m    438\u001b[0m     return array_ops.reshape(inputs,\n\u001b[0;32m--> 439\u001b[0;31m                              (array_ops.shape(inputs)[0],) + self.target_shape)\n\u001b[0m\u001b[1;32m    440\u001b[0m \u001b[0;34m\u001b[0m\u001b[0m\n\u001b[1;32m    441\u001b[0m   \u001b[0;32mdef\u001b[0m \u001b[0mget_config\u001b[0m\u001b[0;34m(\u001b[0m\u001b[0mself\u001b[0m\u001b[0;34m)\u001b[0m\u001b[0;34m:\u001b[0m\u001b[0;34m\u001b[0m\u001b[0m\n",
            "\u001b[0;32m/usr/local/lib/python2.7/dist-packages/tensorflow/python/ops/gen_array_ops.pyc\u001b[0m in \u001b[0;36mreshape\u001b[0;34m(tensor, shape, name)\u001b[0m\n\u001b[1;32m   7159\u001b[0m       \u001b[0;32mtry\u001b[0m\u001b[0;34m:\u001b[0m\u001b[0;34m\u001b[0m\u001b[0m\n\u001b[1;32m   7160\u001b[0m         return reshape_eager_fallback(\n\u001b[0;32m-> 7161\u001b[0;31m             tensor, shape, name=name, ctx=_ctx)\n\u001b[0m\u001b[1;32m   7162\u001b[0m       \u001b[0;32mexcept\u001b[0m \u001b[0m_core\u001b[0m\u001b[0;34m.\u001b[0m\u001b[0m_SymbolicException\u001b[0m\u001b[0;34m:\u001b[0m\u001b[0;34m\u001b[0m\u001b[0m\n\u001b[1;32m   7163\u001b[0m         \u001b[0;32mpass\u001b[0m  \u001b[0;31m# Add nodes to the TensorFlow graph.\u001b[0m\u001b[0;34m\u001b[0m\u001b[0m\n",
            "\u001b[0;32m/usr/local/lib/python2.7/dist-packages/tensorflow/python/ops/gen_array_ops.pyc\u001b[0m in \u001b[0;36mreshape_eager_fallback\u001b[0;34m(tensor, shape, name, ctx)\u001b[0m\n\u001b[1;32m   7204\u001b[0m   \u001b[0m_attrs\u001b[0m \u001b[0;34m=\u001b[0m \u001b[0;34m(\u001b[0m\u001b[0;34m\"T\"\u001b[0m\u001b[0;34m,\u001b[0m \u001b[0m_attr_T\u001b[0m\u001b[0;34m,\u001b[0m \u001b[0;34m\"Tshape\"\u001b[0m\u001b[0;34m,\u001b[0m \u001b[0m_attr_Tshape\u001b[0m\u001b[0;34m)\u001b[0m\u001b[0;34m\u001b[0m\u001b[0m\n\u001b[1;32m   7205\u001b[0m   _result = _execute.execute(b\"Reshape\", 1, inputs=_inputs_flat, attrs=_attrs,\n\u001b[0;32m-> 7206\u001b[0;31m                              ctx=_ctx, name=name)\n\u001b[0m\u001b[1;32m   7207\u001b[0m   _execute.record_gradient(\n\u001b[1;32m   7208\u001b[0m       \"Reshape\", _inputs_flat, _attrs, _result, name)\n",
            "\u001b[0;32m/usr/local/lib/python2.7/dist-packages/tensorflow/python/eager/execute.pyc\u001b[0m in \u001b[0;36mquick_execute\u001b[0;34m(op_name, num_outputs, inputs, attrs, ctx, name)\u001b[0m\n\u001b[1;32m     64\u001b[0m     \u001b[0;32melse\u001b[0m\u001b[0;34m:\u001b[0m\u001b[0;34m\u001b[0m\u001b[0m\n\u001b[1;32m     65\u001b[0m       \u001b[0mmessage\u001b[0m \u001b[0;34m=\u001b[0m \u001b[0me\u001b[0m\u001b[0;34m.\u001b[0m\u001b[0mmessage\u001b[0m\u001b[0;34m\u001b[0m\u001b[0m\n\u001b[0;32m---> 66\u001b[0;31m     \u001b[0msix\u001b[0m\u001b[0;34m.\u001b[0m\u001b[0mraise_from\u001b[0m\u001b[0;34m(\u001b[0m\u001b[0mcore\u001b[0m\u001b[0;34m.\u001b[0m\u001b[0m_status_to_exception\u001b[0m\u001b[0;34m(\u001b[0m\u001b[0me\u001b[0m\u001b[0;34m.\u001b[0m\u001b[0mcode\u001b[0m\u001b[0;34m,\u001b[0m \u001b[0mmessage\u001b[0m\u001b[0;34m)\u001b[0m\u001b[0;34m,\u001b[0m \u001b[0mNone\u001b[0m\u001b[0;34m)\u001b[0m\u001b[0;34m\u001b[0m\u001b[0m\n\u001b[0m\u001b[1;32m     67\u001b[0m   \u001b[0;32mexcept\u001b[0m \u001b[0mTypeError\u001b[0m \u001b[0;32mas\u001b[0m \u001b[0me\u001b[0m\u001b[0;34m:\u001b[0m\u001b[0;34m\u001b[0m\u001b[0m\n\u001b[1;32m     68\u001b[0m     \u001b[0;32mif\u001b[0m \u001b[0many\u001b[0m\u001b[0;34m(\u001b[0m\u001b[0mops\u001b[0m\u001b[0;34m.\u001b[0m\u001b[0m_is_keras_symbolic_tensor\u001b[0m\u001b[0;34m(\u001b[0m\u001b[0mx\u001b[0m\u001b[0;34m)\u001b[0m \u001b[0;32mfor\u001b[0m \u001b[0mx\u001b[0m \u001b[0;32min\u001b[0m \u001b[0minputs\u001b[0m\u001b[0;34m)\u001b[0m\u001b[0;34m:\u001b[0m\u001b[0;34m\u001b[0m\u001b[0m\n",
            "\u001b[0;32m/usr/local/lib/python2.7/dist-packages/six.pyc\u001b[0m in \u001b[0;36mraise_from\u001b[0;34m(value, from_value)\u001b[0m\n\u001b[1;32m    735\u001b[0m \u001b[0;32melse\u001b[0m\u001b[0;34m:\u001b[0m\u001b[0;34m\u001b[0m\u001b[0m\n\u001b[1;32m    736\u001b[0m     \u001b[0;32mdef\u001b[0m \u001b[0mraise_from\u001b[0m\u001b[0;34m(\u001b[0m\u001b[0mvalue\u001b[0m\u001b[0;34m,\u001b[0m \u001b[0mfrom_value\u001b[0m\u001b[0;34m)\u001b[0m\u001b[0;34m:\u001b[0m\u001b[0;34m\u001b[0m\u001b[0m\n\u001b[0;32m--> 737\u001b[0;31m         \u001b[0;32mraise\u001b[0m \u001b[0mvalue\u001b[0m\u001b[0;34m\u001b[0m\u001b[0m\n\u001b[0m\u001b[1;32m    738\u001b[0m \u001b[0;34m\u001b[0m\u001b[0m\n\u001b[1;32m    739\u001b[0m \u001b[0;34m\u001b[0m\u001b[0m\n",
            "\u001b[0;31mInvalidArgumentError\u001b[0m: Input to reshape is a tensor with 100800 values, but the requested shape has 6400 [Op:Reshape]"
          ]
        }
      ]
    },
    {
      "cell_type": "markdown",
      "metadata": {
        "id": "xmIcylIzuWaL",
        "colab_type": "text"
      },
      "source": [
        "And display the result:"
      ]
    },
    {
      "cell_type": "code",
      "metadata": {
        "id": "qoOBQSrXt2Ib",
        "colab_type": "code",
        "outputId": "c8202ddf-5b35-4c54-b889-aff81f15350a",
        "colab": {
          "base_uri": "https://localhost:8080/",
          "height": 171
        }
      },
      "source": [
        "from IPython.display import HTML\n",
        "import io, base64\n",
        "video = io.open('./pong_agent.mp4', 'r+b').read()\n",
        "encoded = base64.b64encode(video)\n",
        "HTML(data='''\n",
        "<video controls>\n",
        "    <source src=\"data:video/mp4;base64,{0}\" type=\"video/mp4\" />\n",
        "</video>'''.format(encoded.decode('ascii')))"
      ],
      "execution_count": 0,
      "outputs": [
        {
          "output_type": "execute_result",
          "data": {
            "text/html": [
              "\n",
              "<video controls>\n",
              "    <source src=\"data:video/mp4;base64,\" type=\"video/mp4\" />\n",
              "</video>"
            ],
            "text/plain": [
              "<IPython.core.display.HTML object>"
            ]
          },
          "metadata": {
            "tags": []
          },
          "execution_count": 20
        }
      ]
    }
  ]
}