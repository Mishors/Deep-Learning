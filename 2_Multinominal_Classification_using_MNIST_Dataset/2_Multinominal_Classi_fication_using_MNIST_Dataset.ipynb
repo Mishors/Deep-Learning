{
  "nbformat": 4,
  "nbformat_minor": 0,
  "metadata": {
    "colab": {
      "name": "2- Multinominal Classi\ffication using MNIST Dataset.ipynb",
      "version": "0.3.2",
      "provenance": [],
      "collapsed_sections": []
    },
    "kernelspec": {
      "name": "python3",
      "display_name": "Python 3"
    }
  },
  "cells": [
    {
      "metadata": {
        "id": "5hCRPj8iZ38g",
        "colab_type": "text"
      },
      "cell_type": "markdown",
      "source": [
        "##Imports"
      ]
    },
    {
      "metadata": {
        "id": "Jf_AgMbHYqrl",
        "colab_type": "code",
        "colab": {}
      },
      "cell_type": "code",
      "source": [
        "import tensorflow as tf\n",
        "tf.enable_eager_execution()\n",
        "import matplotlib.pyplot as plt\n",
        "import numpy as np\n",
        "import random\n",
        "from progressbar import progressbar\n",
        "from sklearn.model_selection import train_test_split\n",
        "from keras.optimizers import SGD,RMSprop,Adam\n",
        "from keras.models import Sequential\n",
        "from keras.layers import Dense, Dropout, Activation, Flatten\n",
        "from keras.layers import Conv2D, MaxPooling2D"
      ],
      "execution_count": 0,
      "outputs": []
    },
    {
      "metadata": {
        "id": "K6cBKWxecfPn",
        "colab_type": "text"
      },
      "cell_type": "markdown",
      "source": [
        "##Data Manipulations"
      ]
    },
    {
      "metadata": {
        "id": "sz65eyAbclZ4",
        "colab_type": "text"
      },
      "cell_type": "markdown",
      "source": [
        "###Loading Data"
      ]
    },
    {
      "metadata": {
        "id": "zKPBz1h9cyOK",
        "colab_type": "code",
        "colab": {}
      },
      "cell_type": "code",
      "source": [
        "mnist = tf.keras.datasets.mnist\n",
        "(train_images, train_labels), (test_images, test_labels) = mnist.load_data()"
      ],
      "execution_count": 0,
      "outputs": []
    },
    {
      "metadata": {
        "id": "Rx6aCpVBdeFc",
        "colab_type": "text"
      },
      "cell_type": "markdown",
      "source": [
        "###Normalizing Data"
      ]
    },
    {
      "metadata": {
        "id": "zvf2KSCSdFrG",
        "colab_type": "code",
        "outputId": "2b741b7b-487d-48e1-93af-db62daa836f7",
        "colab": {
          "base_uri": "https://localhost:8080/",
          "height": 139
        }
      },
      "cell_type": "code",
      "source": [
        "train_images = np.expand_dims(train_images, axis=-1)/255.\n",
        "train_labels = np.int64(train_labels)\n",
        "test_images = np.expand_dims(test_images, axis=-1)/255.\n",
        "test_labels = np.int64(test_labels)\n",
        "train_images, val_images, train_labels, val_labels = train_test_split(train_images, train_labels, train_size=0.9, random_state=0)\n",
        "print(\"Number of training Images = {}\\nNumber of validation Images = {}\\nNumber of testing Images = {}\\nDimensions of each image = {} x {}\".format(train_images.shape[0],val_images.shape[0],test_images.shape[0], train_images.shape[1], train_images.shape[2]))\n"
      ],
      "execution_count": 0,
      "outputs": [
        {
          "output_type": "stream",
          "text": [
            "/usr/local/lib/python3.6/dist-packages/sklearn/model_selection/_split.py:2179: FutureWarning: From version 0.21, test_size will always complement train_size unless both are specified.\n",
            "  FutureWarning)\n"
          ],
          "name": "stderr"
        },
        {
          "output_type": "stream",
          "text": [
            "Number of training Images = 54000\n",
            "Number of validation Images = 6000\n",
            "Number of testing Images = 10000\n",
            "Dimensions of each image = 28 x 28\n"
          ],
          "name": "stdout"
        }
      ]
    },
    {
      "metadata": {
        "id": "3CeF4lbCdwVP",
        "colab_type": "text"
      },
      "cell_type": "markdown",
      "source": [
        "###Plotting Data"
      ]
    },
    {
      "metadata": {
        "id": "adPn-h0Td0BH",
        "colab_type": "code",
        "outputId": "7f3e7001-f2b4-45e3-bdfe-024707f2b3c1",
        "colab": {
          "base_uri": "https://localhost:8080/",
          "height": 589
        }
      },
      "cell_type": "code",
      "source": [
        "plt.figure(figsize=(10,10))\n",
        "random_inds = np.random.choice(train_images.shape[0],36)\n",
        "for i in range(36):\n",
        "    plt.subplot(6,6,i+1)\n",
        "    plt.xticks([])\n",
        "    plt.yticks([])\n",
        "    plt.grid(False)\n",
        "    image_ind = random_inds[i]\n",
        "    plt.imshow(np.squeeze(train_images[image_ind]), cmap=plt.cm.binary)\n",
        "    plt.xlabel(train_labels[image_ind])"
      ],
      "execution_count": 0,
      "outputs": [
        {
          "output_type": "display_data",
          "data": {
            "image/png": "[encoded data removed]",
            "text/plain": [
              "<Figure size 720x720 with 36 Axes>"
            ]
          },
          "metadata": {
            "tags": []
          }
        }
      ]
    },
    {
      "metadata": {
        "id": "AmH6QUkxfrfP",
        "colab_type": "text"
      },
      "cell_type": "markdown",
      "source": [
        "##Simple Model Manipulations"
      ]
    },
    {
      "metadata": {
        "id": "BstUz45afy-C",
        "colab_type": "text"
      },
      "cell_type": "markdown",
      "source": [
        "###Building the Model"
      ]
    },
    {
      "metadata": {
        "id": "SY2-c3IWgR2b",
        "colab_type": "text"
      },
      "cell_type": "markdown",
      "source": [
        "####Defining building the model function"
      ]
    },
    {
      "metadata": {
        "id": "x8fKeDmSf2W4",
        "colab_type": "code",
        "colab": {}
      },
      "cell_type": "code",
      "source": [
        "def build_fc_model():\n",
        "  fc_model = tf.keras.Sequential()\n",
        "  #Flattens the 2D image to be 1-Dimensional\n",
        "  layer_flatten = tf.keras.layers.Flatten()#input_shape=(28, 28))\n",
        "  layer_1 = tf.keras.layers.Dense(128)\n",
        "  layer_2 = tf.keras.layers.Dense(10,  activation='softmax')  \n",
        "  fc_model.add(layer_flatten)\n",
        "  fc_model.add(layer_1)\n",
        "  fc_model.add(layer_2)\n",
        "  \n",
        "  return fc_model"
      ],
      "execution_count": 0,
      "outputs": []
    },
    {
      "metadata": {
        "id": "7P4jsNHZgalv",
        "colab_type": "text"
      },
      "cell_type": "markdown",
      "source": [
        "####Running the function"
      ]
    },
    {
      "metadata": {
        "id": "4B8raw68gf1h",
        "colab_type": "code",
        "colab": {}
      },
      "cell_type": "code",
      "source": [
        "model = build_fc_model()\n",
        "#print(model.summary())"
      ],
      "execution_count": 0,
      "outputs": []
    },
    {
      "metadata": {
        "id": "qgIG0iCFgyAN",
        "colab_type": "text"
      },
      "cell_type": "markdown",
      "source": [
        "###Compiling & fitting the model"
      ]
    },
    {
      "metadata": {
        "id": "xgW92hbqg4kK",
        "colab_type": "code",
        "outputId": "8f1a94e5-16a2-404c-86ce-123ca86b8ffe",
        "colab": {
          "base_uri": "https://localhost:8080/",
          "height": 721
        }
      },
      "cell_type": "code",
      "source": [
        "BATCH_SIZE = 160\n",
        "EPOCHS = 10\n",
        "optimize =tf.keras.optimizers.Adamax(lr=0.002, beta_1=0.999, beta_2=0.999, epsilon=None, decay=0.0)\n",
        "# TODO compile and fit the model with the appropriate parameters.\n",
        "model.compile(loss='sparse_categorical_crossentropy', metrics=['accuracy'], optimizer=optimize)\n",
        "hist = model.fit(train_images, train_labels, validation_data = (val_images, val_labels),verbose=1, batch_size=BATCH_SIZE, epochs=EPOCHS)\n",
        "plt.plot(hist.history['acc'])\n",
        "plt.plot(hist.history['val_acc'])"
      ],
      "execution_count": 0,
      "outputs": [
        {
          "output_type": "stream",
          "text": [
            "Train on 54000 samples, validate on 6000 samples\n",
            "Epoch 1/10\n",
            "54000/54000 [==============================] - 2s 41us/sample - loss: 0.4667 - acc: 0.8669 - val_loss: 0.3295 - val_acc: 0.9103\n",
            "Epoch 2/10\n",
            "54000/54000 [==============================] - 2s 36us/sample - loss: 0.3372 - acc: 0.9099 - val_loss: 0.3079 - val_acc: 0.9185\n",
            "Epoch 3/10\n",
            "54000/54000 [==============================] - 2s 36us/sample - loss: 0.3098 - acc: 0.9149 - val_loss: 0.2916 - val_acc: 0.9215\n",
            "Epoch 4/10\n",
            "54000/54000 [==============================] - 2s 34us/sample - loss: 0.2914 - acc: 0.9204 - val_loss: 0.2884 - val_acc: 0.9218\n",
            "Epoch 5/10\n",
            "54000/54000 [==============================] - 2s 34us/sample - loss: 0.2786 - acc: 0.9223 - val_loss: 0.2784 - val_acc: 0.9247\n",
            "Epoch 6/10\n",
            "54000/54000 [==============================] - 2s 35us/sample - loss: 0.2706 - acc: 0.9251 - val_loss: 0.2763 - val_acc: 0.9250\n",
            "Epoch 7/10\n",
            "54000/54000 [==============================] - 2s 34us/sample - loss: 0.2662 - acc: 0.9255 - val_loss: 0.2698 - val_acc: 0.9258\n",
            "Epoch 8/10\n",
            "54000/54000 [==============================] - 2s 35us/sample - loss: 0.2601 - acc: 0.9279 - val_loss: 0.2674 - val_acc: 0.9278\n",
            "Epoch 9/10\n",
            "54000/54000 [==============================] - 2s 34us/sample - loss: 0.2567 - acc: 0.9283 - val_loss: 0.2634 - val_acc: 0.9310\n",
            "Epoch 10/10\n",
            "54000/54000 [==============================] - 2s 35us/sample - loss: 0.2523 - acc: 0.9304 - val_loss: 0.2651 - val_acc: 0.9283\n"
          ],
          "name": "stdout"
        },
        {
          "output_type": "execute_result",
          "data": {
            "text/plain": [
              "[<matplotlib.lines.Line2D at 0x7ff2e7f00978>]"
            ]
          },
          "metadata": {
            "tags": []
          },
          "execution_count": 23
        },
        {
          "output_type": "display_data",
          "data": {
            "image/png": "[encoded data removed]",
            "text/plain": [
              "<Figure size 576x396 with 1 Axes>"
            ]
          },
          "metadata": {
            "tags": []
          }
        }
      ]
    },
    {
      "metadata": {
        "id": "gwLRIrcfhBIJ",
        "colab_type": "text"
      },
      "cell_type": "markdown",
      "source": [
        "###Evaluating the model"
      ]
    },
    {
      "metadata": {
        "id": "kztDSi99hIvl",
        "colab_type": "code",
        "outputId": "3e912a37-4a6e-4653-fb58-1e58d83679e5",
        "colab": {
          "base_uri": "https://localhost:8080/",
          "height": 51
        }
      },
      "cell_type": "code",
      "source": [
        "test_result = model.evaluate(test_images, test_labels, verbose=0)\n",
        "print(\"Test Loss: {}\\nTest Accuracy {}\".format( test_result[0],test_result[1]))"
      ],
      "execution_count": 0,
      "outputs": [
        {
          "output_type": "stream",
          "text": [
            "Test Loss: 0.27227048588246106\n",
            "Test Accuracy 0.9241999983787537\n"
          ],
          "name": "stdout"
        }
      ]
    },
    {
      "metadata": {
        "id": "N3YGTl4HhfxQ",
        "colab_type": "text"
      },
      "cell_type": "markdown",
      "source": [
        "##CNN Model Manipulations"
      ]
    },
    {
      "metadata": {
        "id": "mDtJqVXthvnW",
        "colab_type": "text"
      },
      "cell_type": "markdown",
      "source": [
        "###Building the Model"
      ]
    },
    {
      "metadata": {
        "id": "klgpdBa3hyne",
        "colab_type": "text"
      },
      "cell_type": "markdown",
      "source": [
        "####Defining building the model function"
      ]
    },
    {
      "metadata": {
        "id": "7vPwIe0wiB7Z",
        "colab_type": "code",
        "colab": {}
      },
      "cell_type": "code",
      "source": [
        "def build_cnn_model():\n",
        "    cnn_model = tf.keras.models.Sequential()\n",
        "    layer_conv_1 = tf.keras.layers.Conv2D(24,(3,3),input_shape=(28,28,1),padding='same',activation='tanh')\n",
        "    layer_pool_1 =  tf.keras.layers.MaxPooling2D(pool_size=(2, 2))\n",
        "    layer_conv_2 =  tf.keras.layers.Conv2D(36,(3,3),input_shape=(13,13,24),padding='same',activation='tanh')\n",
        "    layer_pool_2 =  tf.keras.layers.MaxPooling2D(pool_size=(2, 2))\n",
        "    layer_flatten =  tf.keras.layers.Flatten()\n",
        "    layer_dense_1 =  tf.keras.layers.Dense(784)\n",
        "    layer_dense_2 =  tf.keras.layers.Dense(128)\n",
        "    layer_dense_3 =  tf.keras.layers.Dense(10, activation='softmax')\n",
        "    cnn_model.add(layer_conv_1)\n",
        "    cnn_model.add(layer_pool_1)\n",
        "    cnn_model.add(layer_conv_2)\n",
        "    cnn_model.add(layer_pool_2)\n",
        "    cnn_model.add(layer_flatten)\n",
        "    cnn_model.add(layer_dense_1)\n",
        "    cnn_model.add(layer_dense_2)\n",
        "    cnn_model.add(layer_dense_3)\n",
        "    \n",
        "    \n",
        "    return cnn_model"
      ],
      "execution_count": 0,
      "outputs": []
    },
    {
      "metadata": {
        "id": "9c668ughh2LY",
        "colab_type": "text"
      },
      "cell_type": "markdown",
      "source": [
        "####Running the function"
      ]
    },
    {
      "metadata": {
        "id": "uv_q_uroiCt_",
        "colab_type": "code",
        "colab": {}
      },
      "cell_type": "code",
      "source": [
        "cnn_model = build_cnn_model()\n",
        "#print(cnn_model.summary())"
      ],
      "execution_count": 0,
      "outputs": []
    },
    {
      "metadata": {
        "id": "LwmH_25Uh6A6",
        "colab_type": "text"
      },
      "cell_type": "markdown",
      "source": [
        "###Compiling & fitting the model"
      ]
    },
    {
      "metadata": {
        "id": "yE3CyR6ZiDUz",
        "colab_type": "code",
        "outputId": "ed80b4cf-ccf4-4f65-edbb-76fc2c425c4a",
        "colab": {
          "base_uri": "https://localhost:8080/",
          "height": 721
        }
      },
      "cell_type": "code",
      "source": [
        "BATCH_SIZE = 160\n",
        "EPOCHS = 10\n",
        "optimize =tf.keras.optimizers.Adamax(lr=0.002, beta_1=0.999, beta_2=0.999, epsilon=None, decay=0.0)\n",
        "# TODO compile and fit the model with the appropriate parameters.\n",
        "cnn_model.compile(loss='sparse_categorical_crossentropy', metrics=['accuracy'], optimizer=optimize)\n",
        "hist = cnn_model.fit(train_images, train_labels, validation_data = (val_images, val_labels),verbose=1, batch_size=BATCH_SIZE, epochs=EPOCHS)\n",
        "plt.plot(hist.history['acc'])\n",
        "plt.plot(hist.history['val_acc'])"
      ],
      "execution_count": 0,
      "outputs": [
        {
          "output_type": "stream",
          "text": [
            "Train on 54000 samples, validate on 6000 samples\n",
            "Epoch 1/10\n",
            "54000/54000 [==============================] - 71s 1ms/sample - loss: 0.1164 - acc: 0.9658 - val_loss: 0.0676 - val_acc: 0.9795\n",
            "Epoch 2/10\n",
            "54000/54000 [==============================] - 70s 1ms/sample - loss: 0.0662 - acc: 0.9797 - val_loss: 0.0632 - val_acc: 0.9818\n",
            "Epoch 3/10\n",
            "54000/54000 [==============================] - 71s 1ms/sample - loss: 0.0510 - acc: 0.9839 - val_loss: 0.0609 - val_acc: 0.9810\n",
            "Epoch 4/10\n",
            "54000/54000 [==============================] - 71s 1ms/sample - loss: 0.0404 - acc: 0.9868 - val_loss: 0.0669 - val_acc: 0.9817\n",
            "Epoch 5/10\n",
            "54000/54000 [==============================] - 71s 1ms/sample - loss: 0.0341 - acc: 0.9891 - val_loss: 0.0533 - val_acc: 0.9852\n",
            "Epoch 6/10\n",
            "54000/54000 [==============================] - 70s 1ms/sample - loss: 0.0281 - acc: 0.9908 - val_loss: 0.0559 - val_acc: 0.9847\n",
            "Epoch 7/10\n",
            "54000/54000 [==============================] - 71s 1ms/sample - loss: 0.0219 - acc: 0.9932 - val_loss: 0.0569 - val_acc: 0.9870\n",
            "Epoch 8/10\n",
            "54000/54000 [==============================] - 71s 1ms/sample - loss: 0.0187 - acc: 0.9941 - val_loss: 0.0637 - val_acc: 0.9838\n",
            "Epoch 9/10\n",
            "54000/54000 [==============================] - 70s 1ms/sample - loss: 0.0151 - acc: 0.9949 - val_loss: 0.0627 - val_acc: 0.9868\n",
            "Epoch 10/10\n",
            "54000/54000 [==============================] - 71s 1ms/sample - loss: 0.0124 - acc: 0.9957 - val_loss: 0.0619 - val_acc: 0.9867\n"
          ],
          "name": "stdout"
        },
        {
          "output_type": "execute_result",
          "data": {
            "text/plain": [
              "[<matplotlib.lines.Line2D at 0x7ff2de727f60>]"
            ]
          },
          "metadata": {
            "tags": []
          },
          "execution_count": 31
        },
        {
          "output_type": "display_data",
          "data": {
            "image/png": "[encoded data removed]",
            "text/plain": [
              "<Figure size 576x396 with 1 Axes>"
            ]
          },
          "metadata": {
            "tags": []
          }
        }
      ]
    },
    {
      "metadata": {
        "id": "LpjV-geyh-HW",
        "colab_type": "text"
      },
      "cell_type": "markdown",
      "source": [
        "###Evaluating the model"
      ]
    },
    {
      "metadata": {
        "id": "bzA7sCq7iEDl",
        "colab_type": "code",
        "outputId": "8ec119b8-cc9b-4dea-d369-3199d7ac8d60",
        "colab": {
          "base_uri": "https://localhost:8080/",
          "height": 51
        }
      },
      "cell_type": "code",
      "source": [
        "test_result = cnn_model.evaluate(test_images, test_labels, verbose=0)\n",
        "print(\"Test Loss: {}\\nTest Accuracy {}\".format( test_result[0],test_result[1]))"
      ],
      "execution_count": 0,
      "outputs": [
        {
          "output_type": "stream",
          "text": [
            "Test Loss: 0.05630356174340413\n",
            "Test Accuracy 0.9860000014305115\n"
          ],
          "name": "stdout"
        }
      ]
    },
    {
      "metadata": {
        "id": "koVStEsAazl4",
        "colab_type": "code",
        "colab": {}
      },
      "cell_type": "code",
      "source": [
        "result = predict(test_image[0], batch_size=None, verbose=0, steps=None, callbacks=None)"
      ],
      "execution_count": 0,
      "outputs": []
    }
  ]
}