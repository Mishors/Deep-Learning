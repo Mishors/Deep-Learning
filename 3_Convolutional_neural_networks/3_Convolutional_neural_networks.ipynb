{
  "nbformat": 4,
  "nbformat_minor": 0,
  "metadata": {
    "colab": {
      "name": "3- Convolutional neural networks.ipynb",
      "version": "0.3.2",
      "provenance": [],
      "collapsed_sections": []
    },
    "kernelspec": {
      "name": "python3",
      "display_name": "Python 3"
    },
    "accelerator": "GPU"
  },
  "cells": [
    {
      "metadata": {
        "id": "APJvGlDlu6jo",
        "colab_type": "text"
      },
      "cell_type": "markdown",
      "source": [
        "##Imports"
      ]
    },
    {
      "metadata": {
        "id": "25WWt4EPuXvI",
        "colab_type": "code",
        "colab": {}
      },
      "cell_type": "code",
      "source": [
        "import numpy as np\n",
        "from keras.optimizers import SGD,RMSprop,Adam\n",
        "import h5py\n",
        "from keras.models import Sequential\n",
        "from keras.applications.resnet50 import ResNet50\n",
        "from keras.applications.vgg19 import VGG19\n",
        "from keras.applications.vgg16 import VGG16\n",
        "from keras import layers\n",
        "from keras.layers import Input, Dense, Activation, ZeroPadding2D, BatchNormalization, Flatten, Conv2D\n",
        "from keras.layers import AveragePooling2D, MaxPooling2D, Dropout, GlobalMaxPooling2D, GlobalAveragePooling2D\n",
        "from keras.models import Model\n",
        "from keras.preprocessing import image\n",
        "from keras.utils import layer_utils\n",
        "from keras.utils.data_utils import get_file\n",
        "from keras.applications.imagenet_utils import preprocess_input\n",
        "import pydot\n",
        "from IPython.display import SVG\n",
        "from keras.utils.vis_utils import model_to_dot\n",
        "from keras.utils import plot_model\n",
        "\n",
        "import keras.backend as K\n",
        "K.set_image_data_format('channels_last')\n",
        "import matplotlib.pyplot as plt\n",
        "from matplotlib.pyplot import imshow\n",
        "\n",
        "%matplotlib inline"
      ],
      "execution_count": 0,
      "outputs": []
    },
    {
      "metadata": {
        "id": "NmoF5JsT4-9r",
        "colab_type": "text"
      },
      "cell_type": "markdown",
      "source": [
        "## Mounting Google Drive\n"
      ]
    },
    {
      "metadata": {
        "id": "gCFw4y0L47qX",
        "colab_type": "code",
        "outputId": "ed351ef3-fd77-4767-8649-f3ed9f3bd98c",
        "colab": {
          "base_uri": "https://localhost:8080/",
          "height": 141
        }
      },
      "cell_type": "code",
      "source": [
        "# Install a Drive FUSE wrapper.\n",
        "\n",
        "# https://github.com/astrada/google-drive-ocamlfuse\n",
        "\n",
        "!apt-get install -y -qq software-properties-common python-software-properties module-init-tools\n",
        "\n",
        "!add-apt-repository -y ppa:alessandro-strada/ppa 2>&1 > /dev/null\n",
        "\n",
        "!apt-get update -qq 2>&1 > /dev/null\n",
        "\n",
        "!apt-get -y install -qq google-drive-ocamlfuse fuse"
      ],
      "execution_count": 0,
      "outputs": [
        {
          "output_type": "stream",
          "text": [
            "E: Package 'python-software-properties' has no installation candidate\n",
            "Selecting previously unselected package google-drive-ocamlfuse.\n",
            "(Reading database ... 131323 files and directories currently installed.)\n",
            "Preparing to unpack .../google-drive-ocamlfuse_0.7.1-0ubuntu3~ubuntu18.04.1_amd64.deb ...\n",
            "Unpacking google-drive-ocamlfuse (0.7.1-0ubuntu3~ubuntu18.04.1) ...\n",
            "Setting up google-drive-ocamlfuse (0.7.1-0ubuntu3~ubuntu18.04.1) ...\n",
            "Processing triggers for man-db (2.8.3-2ubuntu0.1) ...\n"
          ],
          "name": "stdout"
        }
      ]
    },
    {
      "metadata": {
        "id": "ZibU-O4d5HB7",
        "colab_type": "code",
        "colab": {}
      },
      "cell_type": "code",
      "source": [
        "# Generate auth tokens for Colab\n",
        "\n",
        "from google.colab import auth \n",
        "auth.authenticate_user()"
      ],
      "execution_count": 0,
      "outputs": []
    },
    {
      "metadata": {
        "id": "if9j7oKG5H8P",
        "colab_type": "code",
        "outputId": "54d0c9fd-14f6-46af-cd0d-bf0264c98128",
        "colab": {
          "base_uri": "https://localhost:8080/",
          "height": 107
        }
      },
      "cell_type": "code",
      "source": [
        "# Generate creds for the Drive FUSE library.\n",
        "\n",
        "from oauth2client.client import GoogleCredentials \n",
        "creds = GoogleCredentials.get_application_default()\n",
        "\n",
        "import getpass\n",
        "\n",
        "!google-drive-ocamlfuse -headless -id={creds.client_id} -secret={creds.client_secret} < /dev/null 2>&1 | grep URL\n",
        "\n",
        "vcode = getpass.getpass()\n",
        "\n",
        "!echo {vcode} | google-drive-ocamlfuse -headless -id={creds.client_id} -secret={creds.client_secret}"
      ],
      "execution_count": 0,
      "outputs": [
        {
          "output_type": "stream",
          "text": [
            "Please, open the following URL in a web browser: https://accounts.google.com/o/oauth2/auth?client_id=32555940559.apps.googleusercontent.com&redirect_uri=urn%3Aietf%3Awg%3Aoauth%3A2.0%3Aoob&scope=https%3A%2F%2Fwww.googleapis.com%2Fauth%2Fdrive&response_type=code&access_type=offline&approval_prompt=force\n",
            "··········\n",
            "Please, open the following URL in a web browser: https://accounts.google.com/o/oauth2/auth?client_id=32555940559.apps.googleusercontent.com&redirect_uri=urn%3Aietf%3Awg%3Aoauth%3A2.0%3Aoob&scope=https%3A%2F%2Fwww.googleapis.com%2Fauth%2Fdrive&response_type=code&access_type=offline&approval_prompt=force\n",
            "Please enter the verification code: Access token retrieved correctly.\n"
          ],
          "name": "stdout"
        }
      ]
    },
    {
      "metadata": {
        "id": "9wNqVWq95RwL",
        "colab_type": "code",
        "colab": {}
      },
      "cell_type": "code",
      "source": [
        "# Create a directory and mount Google Drive using that directory.\n",
        "\n",
        "!mkdir -p drive\n",
        "\n",
        "!google-drive-ocamlfuse drive "
      ],
      "execution_count": 0,
      "outputs": []
    },
    {
      "metadata": {
        "id": "oYVe65nVw5wG",
        "colab_type": "text"
      },
      "cell_type": "markdown",
      "source": [
        "##Loading Data Set"
      ]
    },
    {
      "metadata": {
        "id": "_4lfR1eixGPj",
        "colab_type": "text"
      },
      "cell_type": "markdown",
      "source": [
        "###Loading Data set function **Definition**"
      ]
    },
    {
      "metadata": {
        "id": "pIHdWB-Ryani",
        "colab_type": "code",
        "colab": {}
      },
      "cell_type": "code",
      "source": [
        "def load_dataset():\n",
        "    path_to_train = \"drive/DL_labs/Lab_3/assignment3_train.h5\"\n",
        "    path_to_test = \"drive/DL_labs/Lab_3/assignment3_test.h5\"\n",
        "    train_dataset = h5py.File(path_to_train)\n",
        "    train_x = np.array(train_dataset['train_set_x'][:])\n",
        "    train_y = np.array(train_dataset['train_set_y'][:])\n",
        "\n",
        "    test_dataset = h5py.File(path_to_test)\n",
        "    test_x = np.array(test_dataset['test_set_x'][:])\n",
        "    test_y = np.array(test_dataset['test_set_y'][:])\n",
        "\n",
        "    # y reshaped\n",
        "    train_y = train_y.reshape((1, train_x.shape[0]))\n",
        "    test_y = test_y.reshape((1, test_y.shape[0]))\n",
        "\n",
        "    return train_x, train_y, test_x, test_y "
      ],
      "execution_count": 0,
      "outputs": []
    },
    {
      "metadata": {
        "id": "RgKoC4XZyb43",
        "colab_type": "text"
      },
      "cell_type": "markdown",
      "source": [
        "###Running Data set loading function"
      ]
    },
    {
      "metadata": {
        "id": "VP3OHFKdyjnC",
        "colab_type": "code",
        "colab": {}
      },
      "cell_type": "code",
      "source": [
        "X_train_orig, Y_train_orig, X_test_orig, Y_test_orig = load_dataset()"
      ],
      "execution_count": 0,
      "outputs": []
    },
    {
      "metadata": {
        "id": "nKMW1n_ny2c7",
        "colab_type": "text"
      },
      "cell_type": "markdown",
      "source": [
        "##Preprocessing the data"
      ]
    },
    {
      "metadata": {
        "id": "m6GJy_PuzLPu",
        "colab_type": "text"
      },
      "cell_type": "markdown",
      "source": [
        "###Normalization"
      ]
    },
    {
      "metadata": {
        "id": "Vt9k3sayzAFC",
        "colab_type": "code",
        "colab": {}
      },
      "cell_type": "code",
      "source": [
        "# Normalize image vectors\n",
        "X_train = X_train_orig/255.\n",
        "X_test = X_test_orig/255."
      ],
      "execution_count": 0,
      "outputs": []
    },
    {
      "metadata": {
        "id": "SeZu8iUKzVd0",
        "colab_type": "text"
      },
      "cell_type": "markdown",
      "source": [
        "###Reshaping"
      ]
    },
    {
      "metadata": {
        "id": "Y25ud7JxzbXL",
        "colab_type": "code",
        "colab": {}
      },
      "cell_type": "code",
      "source": [
        "# Reshape\n",
        "Y_train = Y_train_orig.T\n",
        "Y_test = Y_test_orig.T"
      ],
      "execution_count": 0,
      "outputs": []
    },
    {
      "metadata": {
        "id": "2LHMmLU4zsB_",
        "colab_type": "text"
      },
      "cell_type": "markdown",
      "source": [
        "###Viewing the Data"
      ]
    },
    {
      "metadata": {
        "id": "x9DtKoOwzwvQ",
        "colab_type": "code",
        "outputId": "321f1414-9adc-418e-97d4-013fda2526da",
        "colab": {
          "base_uri": "https://localhost:8080/",
          "height": 123
        }
      },
      "cell_type": "code",
      "source": [
        "print (\"number of training examples = \" + str(X_train.shape[0]))\n",
        "print (\"number of test examples = \" + str(X_test.shape[0]))\n",
        "print (\"X_train shape: \" + str(X_train.shape))\n",
        "print (\"Y_train shape: \" + str(Y_train.shape))\n",
        "print (\"X_test shape: \" + str(X_test.shape))\n",
        "print (\"Y_test shape: \" + str(Y_test.shape))"
      ],
      "execution_count": 0,
      "outputs": [
        {
          "output_type": "stream",
          "text": [
            "number of training examples = 600\n",
            "number of test examples = 150\n",
            "X_train shape: (600, 64, 64, 3)\n",
            "Y_train shape: (600, 1)\n",
            "X_test shape: (150, 64, 64, 3)\n",
            "Y_test shape: (150, 1)\n"
          ],
          "name": "stdout"
        }
      ]
    },
    {
      "metadata": {
        "id": "RNp10FJd0Qic",
        "colab_type": "text"
      },
      "cell_type": "markdown",
      "source": [
        "##Happy Model Implementation"
      ]
    },
    {
      "metadata": {
        "id": "KTfAuH3NJukm",
        "colab_type": "text"
      },
      "cell_type": "markdown",
      "source": [
        "###Defining the Model Function"
      ]
    },
    {
      "metadata": {
        "id": "SHH4wSOL0fw_",
        "colab_type": "code",
        "colab": {}
      },
      "cell_type": "code",
      "source": [
        "def HappyModel(input_shape, model_name, allow_pretrained_weights):\n",
        "    \"\"\"\n",
        "    Implementation of the HappyModel.\n",
        "    \n",
        "    Arguments:\n",
        "    input_shape -- shape of the images of the dataset\n",
        "\n",
        "    Returns:\n",
        "    model -- a Model() instance in Keras\n",
        "    \"\"\"\n",
        "    X_input = Input(input_shape)\n",
        "    \n",
        "    # Using Resnet model - without allowing the pretrained weights \n",
        "    if(model_name == 'resnet' and allow_pretrained_weights == False):\n",
        "      base_model = ResNet50(input_tensor = X_input, weights= None, include_top=False)\n",
        "      X = base_model.output\n",
        "      X = GlobalAveragePooling2D()(X)\n",
        "      X = Dropout(0.7)(X)\n",
        "      X = Dense(1, activation='sigmoid', name='fc')(X)\n",
        "      model = Model(inputs = X_input, outputs = X, name = 'HappyModel')\n",
        "    \n",
        "    # Using Resnet model - allowing the pretrained weights\n",
        "    elif(model_name == 'resnet' and allow_pretrained_weights == True):\n",
        "      base_model = ResNet50(input_tensor = X_input, weights = 'imagenet', include_top=False)\n",
        "      X = base_model.output\n",
        "      X = GlobalAveragePooling2D()(X)\n",
        "      X = Dropout(0.7)(X)\n",
        "      X = Dense(1, activation='sigmoid', name='fc')(X)\n",
        "      model = Model(inputs = X_input, outputs = X, name = 'HappyModel')\n",
        "      \n",
        "    # Using VGG19 model - without allowing the pretrained weights\n",
        "    elif(model_name == 'vgg' and allow_pretrained_weights == False):\n",
        "      base_model = VGG16(weights= None, include_top=False, input_shape= (64,64,3))\n",
        "      model = Sequential()\n",
        "      model.add(base_model)\n",
        "      model.add(layers.Flatten())\n",
        "      model.add(layers.Dense(512, activation='relu'))\n",
        "      model.add(layers.Dense(1, activation='sigmoid'))      \n",
        "    # Using VGG19 model - allowing the pretrained weights\n",
        "    elif(model_name == 'vgg' and allow_pretrained_weights == True):\n",
        "      base_model = VGG16(weights= 'imagenet', include_top=False, input_shape= (64,64,3))\n",
        "      model = Sequential()\n",
        "      model.add(base_model)\n",
        "      model.add(layers.Flatten())\n",
        "      model.add(layers.Dense(512, activation='relu'))\n",
        "      model.add(layers.Dense(1, activation='sigmoid'))  \n",
        "    \n",
        "    # Simple CNN model\n",
        "    else:\n",
        "      X = ZeroPadding2D((3, 3))(X_input)\n",
        "      X = Conv2D(32, (7, 7), strides = (1, 1), name = 'conv0')(X)\n",
        "      X = BatchNormalization(axis = 3, name = 'bn0')(X)\n",
        "      X = Activation('relu')(X)\n",
        "      X = MaxPooling2D((2, 2), name='max_pool')(X)\n",
        "      X = Flatten()(X)\n",
        "      X = Dense(1, activation='sigmoid', name='fc')(X)\n",
        "      model = Model(inputs = X_input, outputs = X, name = 'HappyModel')\n",
        "\n",
        "    return model"
      ],
      "execution_count": 0,
      "outputs": []
    },
    {
      "metadata": {
        "id": "n-1-9ZfytnSG",
        "colab_type": "text"
      },
      "cell_type": "markdown",
      "source": [
        "##Simple CNN Model"
      ]
    },
    {
      "metadata": {
        "id": "N0KKD0vXKCfH",
        "colab_type": "text"
      },
      "cell_type": "markdown",
      "source": [
        "###Create Simple CNN Model"
      ]
    },
    {
      "metadata": {
        "id": "kuHLVepsJr8d",
        "colab_type": "code",
        "colab": {}
      },
      "cell_type": "code",
      "source": [
        "input_shape = X_train.shape[1:]\n",
        "model_name = \"CNN\"\n",
        "allow_pretrained_weights = False\n",
        "happyModel = HappyModel(input_shape, model_name, allow_pretrained_weights)"
      ],
      "execution_count": 0,
      "outputs": []
    },
    {
      "metadata": {
        "id": "mUJYnKOWKdWa",
        "colab_type": "text"
      },
      "cell_type": "markdown",
      "source": [
        "###Compile the Model"
      ]
    },
    {
      "metadata": {
        "id": "7ZnCzmWtKgRg",
        "colab_type": "code",
        "colab": {}
      },
      "cell_type": "code",
      "source": [
        "happyModel.compile(optimizer = \"Adam\", loss = \"binary_crossentropy\", metrics = [\"accuracy\"])"
      ],
      "execution_count": 0,
      "outputs": []
    },
    {
      "metadata": {
        "id": "HxU5azr5Kpc_",
        "colab_type": "text"
      },
      "cell_type": "markdown",
      "source": [
        "###Train the Model"
      ]
    },
    {
      "metadata": {
        "id": "Wrf6-6F9KsRd",
        "colab_type": "code",
        "outputId": "eb1c3d92-3414-40f5-d677-72daeb367644",
        "colab": {
          "base_uri": "https://localhost:8080/",
          "height": 660
        }
      },
      "cell_type": "code",
      "source": [
        "hist = happyModel.fit(x = X_train, y = Y_train, epochs = 10, batch_size = 16, validation_split = 0.2)\n",
        "plt.plot(hist.history['acc'])\n",
        "plt.plot(hist.history['val_acc'])"
      ],
      "execution_count": 0,
      "outputs": [
        {
          "output_type": "stream",
          "text": [
            "Train on 480 samples, validate on 120 samples\n",
            "Epoch 1/10\n",
            "480/480 [==============================] - 1s 2ms/step - loss: 1.0717 - acc: 0.6792 - val_loss: 0.1665 - val_acc: 0.9417\n",
            "Epoch 2/10\n",
            "480/480 [==============================] - 0s 692us/step - loss: 0.1935 - acc: 0.9167 - val_loss: 0.8591 - val_acc: 0.5750\n",
            "Epoch 3/10\n",
            "480/480 [==============================] - 0s 676us/step - loss: 0.1999 - acc: 0.9125 - val_loss: 0.1403 - val_acc: 0.9417\n",
            "Epoch 4/10\n",
            "480/480 [==============================] - 0s 679us/step - loss: 0.1210 - acc: 0.9479 - val_loss: 0.1029 - val_acc: 0.9500\n",
            "Epoch 5/10\n",
            "480/480 [==============================] - 0s 706us/step - loss: 0.1071 - acc: 0.9667 - val_loss: 0.1065 - val_acc: 0.9500\n",
            "Epoch 6/10\n",
            "480/480 [==============================] - 0s 666us/step - loss: 0.1163 - acc: 0.9542 - val_loss: 0.1051 - val_acc: 0.9500\n",
            "Epoch 7/10\n",
            "480/480 [==============================] - 0s 682us/step - loss: 0.0933 - acc: 0.9812 - val_loss: 0.1510 - val_acc: 0.9333\n",
            "Epoch 8/10\n",
            "480/480 [==============================] - 0s 674us/step - loss: 0.0670 - acc: 0.9750 - val_loss: 0.2916 - val_acc: 0.8833\n",
            "Epoch 9/10\n",
            "480/480 [==============================] - 0s 677us/step - loss: 0.0592 - acc: 0.9812 - val_loss: 0.0958 - val_acc: 0.9417\n",
            "Epoch 10/10\n",
            "480/480 [==============================] - 0s 662us/step - loss: 0.0985 - acc: 0.9646 - val_loss: 0.0649 - val_acc: 0.9667\n"
          ],
          "name": "stdout"
        },
        {
          "output_type": "execute_result",
          "data": {
            "text/plain": [
              "[<matplotlib.lines.Line2D at 0x7efd92e5b3c8>]"
            ]
          },
          "metadata": {
            "tags": []
          },
          "execution_count": 29
        },
        {
          "output_type": "display_data",
          "data": {
            "image/png": "[encoded data removed]",
            "text/plain": [
              "<Figure size 432x288 with 1 Axes>"
            ]
          },
          "metadata": {
            "tags": []
          }
        }
      ]
    },
    {
      "metadata": {
        "id": "8eVt3fJLLiZB",
        "colab_type": "text"
      },
      "cell_type": "markdown",
      "source": [
        "###Test the Model"
      ]
    },
    {
      "metadata": {
        "id": "7hHrfkl5Llir",
        "colab_type": "code",
        "outputId": "d2a492ae-a201-4bf7-b5e3-4c4e964ecc59",
        "colab": {
          "base_uri": "https://localhost:8080/",
          "height": 87
        }
      },
      "cell_type": "code",
      "source": [
        "preds = happyModel.evaluate(x = X_test, y = Y_test)\n",
        "print()\n",
        "print (\"Loss = \" + str(preds[0]))\n",
        "print (\"Test Accuracy = \" + str(preds[1]))"
      ],
      "execution_count": 0,
      "outputs": [
        {
          "output_type": "stream",
          "text": [
            "150/150 [==============================] - 0s 295us/step\n",
            "\n",
            "Loss = 0.1184446769952774\n",
            "Test Accuracy = 0.9533333349227905\n"
          ],
          "name": "stdout"
        }
      ]
    },
    {
      "metadata": {
        "id": "zBg-V7vSuyx2",
        "colab_type": "text"
      },
      "cell_type": "markdown",
      "source": [
        "##ResNet Model - Without pretrained data"
      ]
    },
    {
      "metadata": {
        "id": "SxlR53Ecu7QI",
        "colab_type": "text"
      },
      "cell_type": "markdown",
      "source": [
        "###Create ResNet Model"
      ]
    },
    {
      "metadata": {
        "id": "NfNz6-t4yS_e",
        "colab_type": "code",
        "outputId": "ced89fde-3da7-453d-c9a4-1922ef139e05",
        "colab": {
          "base_uri": "https://localhost:8080/",
          "height": 52
        }
      },
      "cell_type": "code",
      "source": [
        "input_shape = X_train.shape[1:]\n",
        "model_name = \"resnet\"\n",
        "allow_pretrained_weights = False\n",
        "happyModel = HappyModel(input_shape, model_name, allow_pretrained_weights)"
      ],
      "execution_count": 0,
      "outputs": [
        {
          "output_type": "stream",
          "text": [
            "/usr/local/lib/python3.6/dist-packages/keras_applications/resnet50.py:265: UserWarning: The output shape of `ResNet50(include_top=False)` has been changed since Keras 2.2.0.\n",
            "  warnings.warn('The output shape of `ResNet50(include_top=False)` '\n"
          ],
          "name": "stderr"
        }
      ]
    },
    {
      "metadata": {
        "id": "ETz52aQfyM_H",
        "colab_type": "text"
      },
      "cell_type": "markdown",
      "source": [
        "###Compile the Model"
      ]
    },
    {
      "metadata": {
        "id": "Z12NyAI-yTpL",
        "colab_type": "code",
        "colab": {}
      },
      "cell_type": "code",
      "source": [
        "happyModel.compile(optimizer = \"Adam\", loss = \"binary_crossentropy\", metrics = [\"accuracy\"])"
      ],
      "execution_count": 0,
      "outputs": []
    },
    {
      "metadata": {
        "id": "iyrBpmpRyNxZ",
        "colab_type": "text"
      },
      "cell_type": "markdown",
      "source": [
        "###Train the Model"
      ]
    },
    {
      "metadata": {
        "id": "bAbPDQxOyUTq",
        "colab_type": "code",
        "outputId": "0f04ad41-7dfb-4961-8ed3-186b2da0156b",
        "colab": {
          "base_uri": "https://localhost:8080/",
          "height": 833
        }
      },
      "cell_type": "code",
      "source": [
        "hist = happyModel.fit(x = X_train, y = Y_train, epochs = 15, batch_size = 16, validation_split = 0.1)\n",
        "plt.plot(hist.history['acc'])\n",
        "plt.plot(hist.history['val_acc'])"
      ],
      "execution_count": 0,
      "outputs": [
        {
          "output_type": "stream",
          "text": [
            "Train on 540 samples, validate on 60 samples\n",
            "Epoch 1/15\n",
            "540/540 [==============================] - 52s 96ms/step - loss: 0.9332 - acc: 0.7407 - val_loss: 7.6702 - val_acc: 0.4833\n",
            "Epoch 2/15\n",
            "540/540 [==============================] - 7s 13ms/step - loss: 0.4583 - acc: 0.8741 - val_loss: 2.0890 - val_acc: 0.7833\n",
            "Epoch 3/15\n",
            "540/540 [==============================] - 7s 13ms/step - loss: 0.2211 - acc: 0.9463 - val_loss: 0.1637 - val_acc: 0.9667\n",
            "Epoch 4/15\n",
            "540/540 [==============================] - 7s 13ms/step - loss: 0.1900 - acc: 0.9463 - val_loss: 0.4220 - val_acc: 0.9667\n",
            "Epoch 5/15\n",
            "540/540 [==============================] - 7s 13ms/step - loss: 0.0773 - acc: 0.9741 - val_loss: 0.0879 - val_acc: 0.9667\n",
            "Epoch 6/15\n",
            "540/540 [==============================] - 7s 13ms/step - loss: 0.0638 - acc: 0.9796 - val_loss: 0.2903 - val_acc: 0.9500\n",
            "Epoch 7/15\n",
            "540/540 [==============================] - 7s 13ms/step - loss: 0.2311 - acc: 0.9481 - val_loss: 0.0459 - val_acc: 0.9833\n",
            "Epoch 8/15\n",
            "540/540 [==============================] - 7s 13ms/step - loss: 0.0804 - acc: 0.9741 - val_loss: 0.2326 - val_acc: 0.9333\n",
            "Epoch 9/15\n",
            "540/540 [==============================] - 7s 13ms/step - loss: 0.1669 - acc: 0.9593 - val_loss: 0.3430 - val_acc: 0.9667\n",
            "Epoch 10/15\n",
            "540/540 [==============================] - 7s 13ms/step - loss: 0.0821 - acc: 0.9741 - val_loss: 0.2984 - val_acc: 0.9667\n",
            "Epoch 11/15\n",
            "540/540 [==============================] - 7s 13ms/step - loss: 0.1248 - acc: 0.9704 - val_loss: 0.0287 - val_acc: 0.9833\n",
            "Epoch 12/15\n",
            "540/540 [==============================] - 7s 13ms/step - loss: 0.0394 - acc: 0.9889 - val_loss: 0.0511 - val_acc: 0.9833\n",
            "Epoch 13/15\n",
            "540/540 [==============================] - 7s 13ms/step - loss: 0.1646 - acc: 0.9574 - val_loss: 0.0053 - val_acc: 1.0000\n",
            "Epoch 14/15\n",
            "540/540 [==============================] - 7s 12ms/step - loss: 0.0406 - acc: 0.9889 - val_loss: 0.0243 - val_acc: 0.9833\n",
            "Epoch 15/15\n",
            "540/540 [==============================] - 7s 13ms/step - loss: 0.0086 - acc: 0.9981 - val_loss: 0.0895 - val_acc: 0.9833\n"
          ],
          "name": "stdout"
        },
        {
          "output_type": "execute_result",
          "data": {
            "text/plain": [
              "[<matplotlib.lines.Line2D at 0x7efd3610d978>]"
            ]
          },
          "metadata": {
            "tags": []
          },
          "execution_count": 63
        },
        {
          "output_type": "display_data",
          "data": {
            "image/png": "[encoded data removed]",
            "text/plain": [
              "<Figure size 432x288 with 1 Axes>"
            ]
          },
          "metadata": {
            "tags": []
          }
        }
      ]
    },
    {
      "metadata": {
        "id": "9w3LbVq7yP70",
        "colab_type": "text"
      },
      "cell_type": "markdown",
      "source": [
        "###Test the Model"
      ]
    },
    {
      "metadata": {
        "id": "TxDfaLSSyWKu",
        "colab_type": "code",
        "outputId": "37a2f270-c53f-4935-e9d1-78819a287da5",
        "colab": {
          "base_uri": "https://localhost:8080/",
          "height": 87
        }
      },
      "cell_type": "code",
      "source": [
        "preds = happyModel.evaluate(x = X_test, y = Y_test)\n",
        "print()\n",
        "print (\"Loss = \" + str(preds[0]))\n",
        "print (\"Test Accuracy = \" + str(preds[1]))"
      ],
      "execution_count": 0,
      "outputs": [
        {
          "output_type": "stream",
          "text": [
            "150/150 [==============================] - 0s 2ms/step\n",
            "\n",
            "Loss = 0.191583316201965\n",
            "Test Accuracy = 0.9600000039736429\n"
          ],
          "name": "stdout"
        }
      ]
    },
    {
      "metadata": {
        "id": "QoQj6BGvyZIk",
        "colab_type": "text"
      },
      "cell_type": "markdown",
      "source": [
        "##ResNet Model - ImageNet Pretrained data"
      ]
    },
    {
      "metadata": {
        "id": "wDD3igywygUm",
        "colab_type": "text"
      },
      "cell_type": "markdown",
      "source": [
        "###Create ResNet Model"
      ]
    },
    {
      "metadata": {
        "id": "xKPqQUZWyst4",
        "colab_type": "code",
        "outputId": "f0387f74-efad-4b99-da13-549efac1ff6c",
        "colab": {
          "base_uri": "https://localhost:8080/",
          "height": 52
        }
      },
      "cell_type": "code",
      "source": [
        "input_shape = X_train.shape[1:]\n",
        "model_name = \"resnet\"\n",
        "allow_pretrained_weights = True\n",
        "happyModel = HappyModel(input_shape, model_name, allow_pretrained_weights)"
      ],
      "execution_count": 0,
      "outputs": [
        {
          "output_type": "stream",
          "text": [
            "/usr/local/lib/python3.6/dist-packages/keras_applications/resnet50.py:265: UserWarning: The output shape of `ResNet50(include_top=False)` has been changed since Keras 2.2.0.\n",
            "  warnings.warn('The output shape of `ResNet50(include_top=False)` '\n"
          ],
          "name": "stderr"
        }
      ]
    },
    {
      "metadata": {
        "id": "vy0c7V3IyiE9",
        "colab_type": "text"
      },
      "cell_type": "markdown",
      "source": [
        "###Compile the Model"
      ]
    },
    {
      "metadata": {
        "id": "DDoZVJxEytdA",
        "colab_type": "code",
        "colab": {}
      },
      "cell_type": "code",
      "source": [
        "happyModel.compile(optimizer = \"Adam\", loss = \"binary_crossentropy\", metrics = [\"accuracy\"])"
      ],
      "execution_count": 0,
      "outputs": []
    },
    {
      "metadata": {
        "id": "Hh3maAsrylDp",
        "colab_type": "text"
      },
      "cell_type": "markdown",
      "source": [
        "###Train the Model"
      ]
    },
    {
      "metadata": {
        "id": "_Ny7cmYCyubw",
        "colab_type": "code",
        "outputId": "d996c056-5c47-42ab-ecad-a5a0f1e38307",
        "colab": {
          "base_uri": "https://localhost:8080/",
          "height": 833
        }
      },
      "cell_type": "code",
      "source": [
        "hist = happyModel.fit(x = X_train, y = Y_train, epochs = 15, batch_size = 32, validation_split = 0.1)\n",
        "plt.plot(hist.history['acc'])\n",
        "plt.plot(hist.history['val_acc'])"
      ],
      "execution_count": 0,
      "outputs": [
        {
          "output_type": "stream",
          "text": [
            "Train on 540 samples, validate on 60 samples\n",
            "Epoch 1/15\n",
            "540/540 [==============================] - 34s 63ms/step - loss: 0.5233 - acc: 0.8000 - val_loss: 3.5643 - val_acc: 0.7167\n",
            "Epoch 2/15\n",
            "540/540 [==============================] - 5s 9ms/step - loss: 0.2121 - acc: 0.9185 - val_loss: 0.4969 - val_acc: 0.9500\n",
            "Epoch 3/15\n",
            "540/540 [==============================] - 5s 9ms/step - loss: 0.1238 - acc: 0.9611 - val_loss: 0.4998 - val_acc: 0.9333\n",
            "Epoch 4/15\n",
            "540/540 [==============================] - 5s 9ms/step - loss: 0.1499 - acc: 0.9352 - val_loss: 2.6718 - val_acc: 0.8000\n",
            "Epoch 5/15\n",
            "540/540 [==============================] - 5s 9ms/step - loss: 0.1327 - acc: 0.9704 - val_loss: 2.3115 - val_acc: 0.8000\n",
            "Epoch 6/15\n",
            "540/540 [==============================] - 5s 9ms/step - loss: 0.1990 - acc: 0.9389 - val_loss: 0.2068 - val_acc: 0.9500\n",
            "Epoch 7/15\n",
            "540/540 [==============================] - 5s 9ms/step - loss: 0.1384 - acc: 0.9611 - val_loss: 0.6215 - val_acc: 0.9000\n",
            "Epoch 8/15\n",
            "540/540 [==============================] - 5s 9ms/step - loss: 0.1429 - acc: 0.9704 - val_loss: 0.3958 - val_acc: 0.9333\n",
            "Epoch 9/15\n",
            "540/540 [==============================] - 5s 9ms/step - loss: 0.0966 - acc: 0.9648 - val_loss: 0.2128 - val_acc: 0.9333\n",
            "Epoch 10/15\n",
            "540/540 [==============================] - 5s 9ms/step - loss: 0.0423 - acc: 0.9852 - val_loss: 0.1069 - val_acc: 0.9667\n",
            "Epoch 11/15\n",
            "540/540 [==============================] - 5s 9ms/step - loss: 0.0449 - acc: 0.9963 - val_loss: 0.1150 - val_acc: 0.9833\n",
            "Epoch 12/15\n",
            "540/540 [==============================] - 5s 9ms/step - loss: 0.0189 - acc: 0.9963 - val_loss: 0.1584 - val_acc: 0.9667\n",
            "Epoch 13/15\n",
            "540/540 [==============================] - 5s 9ms/step - loss: 0.0155 - acc: 0.9963 - val_loss: 0.3207 - val_acc: 0.9667\n",
            "Epoch 14/15\n",
            "540/540 [==============================] - 5s 9ms/step - loss: 0.0101 - acc: 0.9981 - val_loss: 0.0896 - val_acc: 0.9667\n",
            "Epoch 15/15\n",
            "540/540 [==============================] - 5s 9ms/step - loss: 0.0101 - acc: 0.9981 - val_loss: 0.0901 - val_acc: 0.9833\n"
          ],
          "name": "stdout"
        },
        {
          "output_type": "execute_result",
          "data": {
            "text/plain": [
              "[<matplotlib.lines.Line2D at 0x7efd56759208>]"
            ]
          },
          "metadata": {
            "tags": []
          },
          "execution_count": 51
        },
        {
          "output_type": "display_data",
          "data": {
            "image/png": "[encoded data removed]",
            "text/plain": [
              "<Figure size 432x288 with 1 Axes>"
            ]
          },
          "metadata": {
            "tags": []
          }
        }
      ]
    },
    {
      "metadata": {
        "id": "X__wJj1rypVU",
        "colab_type": "text"
      },
      "cell_type": "markdown",
      "source": [
        "###Test the Model"
      ]
    },
    {
      "metadata": {
        "id": "JL-Zm5vsyvCs",
        "colab_type": "code",
        "outputId": "6da2be06-9cf9-4e58-c0a8-100066861246",
        "colab": {
          "base_uri": "https://localhost:8080/",
          "height": 87
        }
      },
      "cell_type": "code",
      "source": [
        "preds = happyModel.evaluate(x = X_test, y = Y_test)\n",
        "print()\n",
        "print (\"Loss = \" + str(preds[0]))\n",
        "print (\"Test Accuracy = \" + str(preds[1]))"
      ],
      "execution_count": 0,
      "outputs": [
        {
          "output_type": "stream",
          "text": [
            "150/150 [==============================] - 0s 2ms/step\n",
            "\n",
            "Loss = 0.095139221213758\n",
            "Test Accuracy = 0.9866666642824808\n"
          ],
          "name": "stdout"
        }
      ]
    },
    {
      "metadata": {
        "id": "65ii3qk9Jytu",
        "colab_type": "text"
      },
      "cell_type": "markdown",
      "source": [
        "##VGG Model - Without Pretrained data"
      ]
    },
    {
      "metadata": {
        "id": "3otfKhS8J3sk",
        "colab_type": "text"
      },
      "cell_type": "markdown",
      "source": [
        "###Create the Model"
      ]
    },
    {
      "metadata": {
        "id": "BdpaX57IKEvh",
        "colab_type": "code",
        "colab": {}
      },
      "cell_type": "code",
      "source": [
        "input_shape = X_train.shape[1:]\n",
        "model_name = \"vgg\"\n",
        "allow_pretrained_weights = False\n",
        "happyModel = HappyModel(input_shape, model_name, allow_pretrained_weights)"
      ],
      "execution_count": 0,
      "outputs": []
    },
    {
      "metadata": {
        "id": "otlHKL0eJ79J",
        "colab_type": "text"
      },
      "cell_type": "markdown",
      "source": [
        "###Compile the Model"
      ]
    },
    {
      "metadata": {
        "id": "EoDrcqrzKFUk",
        "colab_type": "code",
        "colab": {}
      },
      "cell_type": "code",
      "source": [
        "adam=Adam(lr=0.0001)\n",
        "happyModel.compile(optimizer = adam, loss = \"binary_crossentropy\", metrics = [\"accuracy\"])"
      ],
      "execution_count": 0,
      "outputs": []
    },
    {
      "metadata": {
        "id": "TsuMl9XTJ-bu",
        "colab_type": "text"
      },
      "cell_type": "markdown",
      "source": [
        "###Training the Model"
      ]
    },
    {
      "metadata": {
        "id": "JTsYyTcOKF-a",
        "colab_type": "code",
        "outputId": "3c4e6222-4e40-47c9-caab-5fd7e7895b76",
        "colab": {
          "base_uri": "https://localhost:8080/",
          "height": 834
        }
      },
      "cell_type": "code",
      "source": [
        "hist = happyModel.fit(x = X_train, y = Y_train, epochs = 15, batch_size = 16, validation_split = 0.1)\n",
        "plt.plot(hist.history['acc'])\n",
        "plt.plot(hist.history['val_acc'])"
      ],
      "execution_count": 0,
      "outputs": [
        {
          "output_type": "stream",
          "text": [
            "Train on 540 samples, validate on 60 samples\n",
            "Epoch 1/15\n",
            "540/540 [==============================] - 47s 87ms/step - loss: 0.6937 - acc: 0.4593 - val_loss: 0.6932 - val_acc: 0.4833\n",
            "Epoch 2/15\n",
            "540/540 [==============================] - 4s 7ms/step - loss: 0.6932 - acc: 0.5019 - val_loss: 0.6932 - val_acc: 0.4833\n",
            "Epoch 3/15\n",
            "540/540 [==============================] - 3s 6ms/step - loss: 0.6932 - acc: 0.4648 - val_loss: 0.6929 - val_acc: 0.7000\n",
            "Epoch 4/15\n",
            "540/540 [==============================] - 3s 6ms/step - loss: 0.6924 - acc: 0.5315 - val_loss: 0.6920 - val_acc: 0.4833\n",
            "Epoch 5/15\n",
            "540/540 [==============================] - 3s 6ms/step - loss: 0.6715 - acc: 0.5722 - val_loss: 0.5649 - val_acc: 0.8500\n",
            "Epoch 6/15\n",
            "540/540 [==============================] - 3s 6ms/step - loss: 0.5352 - acc: 0.7074 - val_loss: 0.5892 - val_acc: 0.6000\n",
            "Epoch 7/15\n",
            "540/540 [==============================] - 3s 6ms/step - loss: 0.3690 - acc: 0.8278 - val_loss: 0.3888 - val_acc: 0.8000\n",
            "Epoch 8/15\n",
            "540/540 [==============================] - 3s 6ms/step - loss: 0.3129 - acc: 0.8611 - val_loss: 0.3683 - val_acc: 0.8667\n",
            "Epoch 9/15\n",
            "540/540 [==============================] - 3s 6ms/step - loss: 0.2797 - acc: 0.9000 - val_loss: 0.1703 - val_acc: 0.9500\n",
            "Epoch 10/15\n",
            "540/540 [==============================] - 3s 6ms/step - loss: 0.2063 - acc: 0.9241 - val_loss: 0.1456 - val_acc: 0.9333\n",
            "Epoch 11/15\n",
            "540/540 [==============================] - 4s 7ms/step - loss: 0.1082 - acc: 0.9537 - val_loss: 0.0720 - val_acc: 0.9667\n",
            "Epoch 12/15\n",
            "540/540 [==============================] - 3s 6ms/step - loss: 0.1437 - acc: 0.9500 - val_loss: 0.1248 - val_acc: 0.9500\n",
            "Epoch 13/15\n",
            "540/540 [==============================] - 4s 6ms/step - loss: 0.0750 - acc: 0.9796 - val_loss: 0.0896 - val_acc: 0.9500\n",
            "Epoch 14/15\n",
            "540/540 [==============================] - 3s 6ms/step - loss: 0.1139 - acc: 0.9463 - val_loss: 0.0910 - val_acc: 0.9667\n",
            "Epoch 15/15\n",
            "540/540 [==============================] - 3s 6ms/step - loss: 0.0817 - acc: 0.9759 - val_loss: 0.0564 - val_acc: 0.9833\n"
          ],
          "name": "stdout"
        },
        {
          "output_type": "execute_result",
          "data": {
            "text/plain": [
              "[<matplotlib.lines.Line2D at 0x7efd30f18d68>]"
            ]
          },
          "metadata": {
            "tags": []
          },
          "execution_count": 94
        },
        {
          "output_type": "display_data",
          "data": {
            "image/png": "[encoded data removed]",
            "text/plain": [
              "<Figure size 432x288 with 1 Axes>"
            ]
          },
          "metadata": {
            "tags": []
          }
        }
      ]
    },
    {
      "metadata": {
        "id": "4AImkAfBKB71",
        "colab_type": "text"
      },
      "cell_type": "markdown",
      "source": [
        "###Testing the Model"
      ]
    },
    {
      "metadata": {
        "id": "ZzMGAuXzKG1L",
        "colab_type": "code",
        "outputId": "4d91f923-6e1b-4006-90e3-628704530779",
        "colab": {
          "base_uri": "https://localhost:8080/",
          "height": 87
        }
      },
      "cell_type": "code",
      "source": [
        "preds = happyModel.evaluate(x = X_test, y = Y_test)\n",
        "print()\n",
        "print (\"Loss = \" + str(preds[0]))\n",
        "print (\"Test Accuracy = \" + str(preds[1]))"
      ],
      "execution_count": 0,
      "outputs": [
        {
          "output_type": "stream",
          "text": [
            "150/150 [==============================] - 1s 5ms/step\n",
            "\n",
            "Loss = 0.1685661635796229\n",
            "Test Accuracy = 0.9533333309491475\n"
          ],
          "name": "stdout"
        }
      ]
    },
    {
      "metadata": {
        "id": "RZSBfo1mPgHT",
        "colab_type": "text"
      },
      "cell_type": "markdown",
      "source": [
        "##VGG Model - ImageNet Pretrained data"
      ]
    },
    {
      "metadata": {
        "id": "5tAAsciDPiPZ",
        "colab_type": "text"
      },
      "cell_type": "markdown",
      "source": [
        "###Create the Model"
      ]
    },
    {
      "metadata": {
        "id": "qYpWTrw_PzYa",
        "colab_type": "code",
        "outputId": "50d2a875-a9ea-48ef-ec5e-e39498ff7e89",
        "colab": {
          "base_uri": "https://localhost:8080/",
          "height": 52
        }
      },
      "cell_type": "code",
      "source": [
        "input_shape = X_train.shape[1:]\n",
        "model_name = \"vgg\"\n",
        "allow_pretrained_weights = True\n",
        "happyModel = HappyModel(input_shape, model_name, allow_pretrained_weights)"
      ],
      "execution_count": 0,
      "outputs": [
        {
          "output_type": "stream",
          "text": [
            "Downloading data from https://github.com/fchollet/deep-learning-models/releases/download/v0.1/vgg16_weights_tf_dim_ordering_tf_kernels_notop.h5\n",
            "58892288/58889256 [==============================] - 1s 0us/step\n"
          ],
          "name": "stdout"
        }
      ]
    },
    {
      "metadata": {
        "id": "DNMG6VeEPkDC",
        "colab_type": "text"
      },
      "cell_type": "markdown",
      "source": [
        "###Compile the Model"
      ]
    },
    {
      "metadata": {
        "id": "SN2aBa8XP5Ir",
        "colab_type": "code",
        "colab": {}
      },
      "cell_type": "code",
      "source": [
        "adam=Adam(lr=0.0001)\n",
        "happyModel.compile(optimizer = adam, loss = \"binary_crossentropy\", metrics = [\"accuracy\"])"
      ],
      "execution_count": 0,
      "outputs": []
    },
    {
      "metadata": {
        "id": "R_4su0PYPneF",
        "colab_type": "text"
      },
      "cell_type": "markdown",
      "source": [
        "###Train the Model"
      ]
    },
    {
      "metadata": {
        "id": "WDcOwSL-P93j",
        "colab_type": "code",
        "outputId": "1594e1dd-e0ad-4880-c24e-2835348d682d",
        "colab": {
          "base_uri": "https://localhost:8080/",
          "height": 833
        }
      },
      "cell_type": "code",
      "source": [
        "hist = happyModel.fit(x = X_train, y = Y_train, epochs = 15, batch_size = 32, validation_split = 0.1)\n",
        "plt.plot(hist.history['acc'])\n",
        "plt.plot(hist.history['val_acc'])"
      ],
      "execution_count": 0,
      "outputs": [
        {
          "output_type": "stream",
          "text": [
            "Train on 540 samples, validate on 60 samples\n",
            "Epoch 1/15\n",
            "540/540 [==============================] - 48s 88ms/step - loss: 0.7220 - acc: 0.5463 - val_loss: 0.6295 - val_acc: 0.8500\n",
            "Epoch 2/15\n",
            "540/540 [==============================] - 2s 4ms/step - loss: 0.5711 - acc: 0.6870 - val_loss: 0.3652 - val_acc: 0.8333\n",
            "Epoch 3/15\n",
            "540/540 [==============================] - 2s 4ms/step - loss: 0.3848 - acc: 0.7981 - val_loss: 0.3557 - val_acc: 0.8167\n",
            "Epoch 4/15\n",
            "540/540 [==============================] - 2s 4ms/step - loss: 0.2434 - acc: 0.8963 - val_loss: 0.1504 - val_acc: 0.9500\n",
            "Epoch 5/15\n",
            "540/540 [==============================] - 2s 4ms/step - loss: 0.1844 - acc: 0.9352 - val_loss: 0.2916 - val_acc: 0.9667\n",
            "Epoch 6/15\n",
            "540/540 [==============================] - 2s 4ms/step - loss: 0.1710 - acc: 0.9537 - val_loss: 0.0735 - val_acc: 0.9667\n",
            "Epoch 7/15\n",
            "540/540 [==============================] - 2s 4ms/step - loss: 0.0803 - acc: 0.9685 - val_loss: 0.0590 - val_acc: 0.9667\n",
            "Epoch 8/15\n",
            "540/540 [==============================] - 2s 4ms/step - loss: 0.0708 - acc: 0.9759 - val_loss: 0.0480 - val_acc: 0.9833\n",
            "Epoch 9/15\n",
            "540/540 [==============================] - 2s 4ms/step - loss: 0.0351 - acc: 0.9907 - val_loss: 0.0174 - val_acc: 1.0000\n",
            "Epoch 10/15\n",
            "540/540 [==============================] - 2s 4ms/step - loss: 0.0457 - acc: 0.9907 - val_loss: 0.0637 - val_acc: 0.9833\n",
            "Epoch 11/15\n",
            "540/540 [==============================] - 2s 4ms/step - loss: 0.0282 - acc: 0.9926 - val_loss: 0.0941 - val_acc: 0.9500\n",
            "Epoch 12/15\n",
            "540/540 [==============================] - 2s 4ms/step - loss: 0.0467 - acc: 0.9833 - val_loss: 0.0601 - val_acc: 0.9833\n",
            "Epoch 13/15\n",
            "540/540 [==============================] - 2s 4ms/step - loss: 0.0285 - acc: 0.9926 - val_loss: 0.2110 - val_acc: 0.9667\n",
            "Epoch 14/15\n",
            "540/540 [==============================] - 2s 4ms/step - loss: 0.0355 - acc: 0.9870 - val_loss: 0.0749 - val_acc: 0.9833\n",
            "Epoch 15/15\n",
            "540/540 [==============================] - 2s 4ms/step - loss: 0.0800 - acc: 0.9796 - val_loss: 0.1087 - val_acc: 0.9667\n"
          ],
          "name": "stdout"
        },
        {
          "output_type": "execute_result",
          "data": {
            "text/plain": [
              "[<matplotlib.lines.Line2D at 0x7efd2f397fd0>]"
            ]
          },
          "metadata": {
            "tags": []
          },
          "execution_count": 100
        },
        {
          "output_type": "display_data",
          "data": {
            "image/png": "[encoded data removed]",
            "text/plain": [
              "<Figure size 432x288 with 1 Axes>"
            ]
          },
          "metadata": {
            "tags": []
          }
        }
      ]
    },
    {
      "metadata": {
        "id": "mmTng8_SPp4p",
        "colab_type": "text"
      },
      "cell_type": "markdown",
      "source": [
        "###Test the Model"
      ]
    },
    {
      "metadata": {
        "id": "4EDQ1sRWQA-7",
        "colab_type": "code",
        "outputId": "ce812b15-a6d5-4237-8f73-865543a436c6",
        "colab": {
          "base_uri": "https://localhost:8080/",
          "height": 87
        }
      },
      "cell_type": "code",
      "source": [
        "preds = happyModel.evaluate(x = X_test, y = Y_test)\n",
        "print()\n",
        "print (\"Loss = \" + str(preds[0]))\n",
        "print (\"Test Accuracy = \" + str(preds[1]))"
      ],
      "execution_count": 0,
      "outputs": [
        {
          "output_type": "stream",
          "text": [
            "150/150 [==============================] - 0s 2ms/step\n",
            "\n",
            "Loss = 0.04377186993757884\n",
            "Test Accuracy = 0.980000003973643\n"
          ],
          "name": "stdout"
        }
      ]
    }
  ]
}